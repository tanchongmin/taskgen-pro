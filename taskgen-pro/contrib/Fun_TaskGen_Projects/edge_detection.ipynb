{
 "cells": [
  {
   "cell_type": "code",
   "execution_count": 1,
   "metadata": {},
   "outputs": [],
   "source": [
    "import os\n",
    "from taskgen import Agent, Function\n",
    "from dotenv import load_dotenv\n",
    "import cv2\n",
    "import numpy as np"
   ]
  },
  {
   "cell_type": "code",
   "execution_count": 2,
   "metadata": {},
   "outputs": [],
   "source": [
    "# Specify the path to your .env file\n",
    "dotenv_path = '../.env'\n",
    "\n",
    "# Load environment variables from a .env file\n",
    "load_dotenv()\n",
    "\n",
    "# Now you can safely use the environment variable\n",
    "api_key = os.getenv('OPENAI_API_KEY')"
   ]
  },
  {
   "cell_type": "code",
   "execution_count": 3,
   "metadata": {},
   "outputs": [],
   "source": [
    "# Create your agent\n",
    "my_agent = Agent(agent_name='Computer Vision Assistant', \n",
    "                 agent_description='You are a computer vision agent that can perform various image processing tasks')"
   ]
  },
  {
   "cell_type": "code",
   "execution_count": 4,
   "metadata": {},
   "outputs": [],
   "source": [
    "# Example External Function for image resizing\n",
    "def resize_image(shared_variables, image_path: str, width: int, height: int):\n",
    "    '''Resizes the image using the <image_path>, <width>, and <height>'''\n",
    "    image = cv2.imread(image_path)\n",
    "    resized_image = cv2.resize(image, (width, height))\n",
    "    shared_variables[\"resized_image_path\"] = \"resized_image.jpg\"\n",
    "    cv2.imwrite(shared_variables[\"resized_image_path\"], resized_image)\n",
    "    return {\"resized_image_path\": shared_variables[\"resized_image_path\"]}\n",
    "\n",
    "# Function for image resizing\n",
    "resize_fn = Function(\n",
    "    fn_description='Resize the image at <image_path> to a width of <width> and height of <height>',\n",
    "    external_fn=resize_image,                  \n",
    "    output_format={'resized_image_path': 'Path to the resized image'}\n",
    ")"
   ]
  },
  {
   "cell_type": "code",
   "execution_count": 5,
   "metadata": {},
   "outputs": [],
   "source": [
    "# Example External Function for edge detection\n",
    "def detect_edges(shared_variables, image_path: str, threshold1: int, threshold2: int):\n",
    "    '''Performs edge detection on the image using the <image_path>, <threshold1>, and <threshold2>'''\n",
    "    image = cv2.imread(image_path)\n",
    "    edges = cv2.Canny(image, threshold1, threshold2)\n",
    "    shared_variables[\"edge_image_path\"] = \"edge_image.jpg\"\n",
    "    cv2.imwrite(shared_variables[\"edge_image_path\"], edges)\n",
    "    return {\"edge_image_path\": shared_variables[\"edge_image_path\"]}\n",
    "\n",
    "# Function for edge detection\n",
    "edge_detection_fn = Function(\n",
    "    fn_description='Perform edge detection on the image at <image_path> with a lower threshold of <threshold1> and an upper threshold of <threshold2>',\n",
    "    external_fn=detect_edges, \n",
    "    output_format={'edge_image_path': 'Path to the image with detected edges'}\n",
    ")"
   ]
  },
  {
   "cell_type": "code",
   "execution_count": 6,
   "metadata": {},
   "outputs": [
    {
     "data": {
      "text/plain": [
       "<taskgen.agent.Agent at 0x14044d3f0>"
      ]
     },
     "execution_count": 6,
     "metadata": {},
     "output_type": "execute_result"
    }
   ],
   "source": [
    "# Assign functions to the agent\n",
    "my_agent.assign_functions(function_list=[resize_fn, edge_detection_fn])"
   ]
  },
  {
   "cell_type": "code",
   "execution_count": 7,
   "metadata": {},
   "outputs": [
    {
     "name": "stdout",
     "output_type": "stream",
     "text": [
      "Name: use_llm\n",
      "Description: Used only when no other function can do the task\n",
      "Input: []\n",
      "Output: {'Output': 'Output of LLM'}\n",
      "\n",
      "Name: end_task\n",
      "Description: Use only when task is completed\n",
      "Input: []\n",
      "Output: {}\n",
      "\n",
      "Name: resize_image\n",
      "Description: Resize the image at <image_path> to a width of <width> and height of <height>\n",
      "Input: ['image_path', 'width', 'height']\n",
      "Output: {'resized_image_path': 'Path to the resized image'}\n",
      "\n",
      "Name: detect_edges\n",
      "Description: Perform edge detection on the image at <image_path> with a lower threshold of <threshold1> and an upper threshold of <threshold2>\n",
      "Input: ['image_path', 'threshold1', 'threshold2']\n",
      "Output: {'edge_image_path': 'Path to the image with detected edges'}\n",
      "\n"
     ]
    }
   ],
   "source": [
    "# Show the functions the agent has\n",
    "my_agent.print_functions()"
   ]
  },
  {
   "cell_type": "code",
   "execution_count": 8,
   "metadata": {},
   "outputs": [
    {
     "name": "stdout",
     "output_type": "stream",
     "text": [
      "Subtask identified: Resize the image at example_image.jpg to a width of 800 and height of 600\n",
      "Calling function resize_image with parameters {'image_path': 'example_image.jpg', 'width': 800, 'height': 600}\n",
      "> {'resized_image_path': {'resized_image_path': 'resized_image.jpg'}}\n",
      "\n",
      "Task completed successfully!\n",
      "\n",
      "[{'resized_image_path': {'resized_image_path': 'resized_image.jpg'}}]\n",
      "Subtask identified: Perform edge detection on the image at example_image.jpg with a lower threshold of 100 and an upper threshold of 200\n",
      "Calling function detect_edges with parameters {'image_path': 'resized_image.jpg', 'threshold1': 100, 'threshold2': 200}\n",
      "> {'edge_image_path': {'edge_image_path': 'edge_image.jpg'}}\n",
      "\n",
      "Task completed successfully!\n",
      "\n",
      "[{'resized_image_path': {'resized_image_path': 'resized_image.jpg'}}, {'edge_image_path': {'edge_image_path': 'edge_image.jpg'}}]\n"
     ]
    }
   ],
   "source": [
    "# Example usage\n",
    "image_path = 'example_image.jpg'\n",
    "output = my_agent.run(f'Resize the image at {image_path} to a width of 800 and height of 600')\n",
    "print(output)\n",
    "\n",
    "output = my_agent.run(f'Perform edge detection on the image at {image_path} with a lower threshold of 100 and an upper threshold of 200')\n",
    "print(output)"
   ]
  },
  {
   "cell_type": "code",
   "execution_count": 9,
   "metadata": {},
   "outputs": [
    {
     "name": "stdout",
     "output_type": "stream",
     "text": [
      "The image processing tasks have been completed successfully.\n"
     ]
    }
   ],
   "source": [
    "# Give a response to the user\n",
    "output = my_agent.reply_user('The image processing tasks have been completed successfully.')"
   ]
  },
  {
   "cell_type": "markdown",
   "metadata": {},
   "source": [
    "# Computer Vision Agent\n",
    "\n",
    "This code demonstrates a computer vision agent that can perform various image processing tasks using the `taskgen` library and OpenCV.\n",
    "\n",
    "## Prerequisites\n",
    "\n",
    "To run this code, you need to have the following installed:\n",
    "\n",
    "1. Python (version 3.6 or higher)\n",
    "2. `taskgen` library\n",
    "   - Install using `pip install taskgen`\n",
    "3. OpenCV (cv2)\n",
    "   - Install using `pip install opencv-python`\n",
    "4. NumPy\n",
    "   - Install using `pip install numpy`\n",
    "5. python-dotenv\n",
    "   - Install using `pip install python-dotenv`\n",
    "\n",
    "## Setup\n",
    "\n",
    "1. Make sure you have the required libraries installed as mentioned in the prerequisites.\n",
    "\n",
    "2. Create a `.env` file in the parent directory of your project and add your OpenAI API key:\n",
    "```\n",
    "OPENAI_API_KEY=your-api-key\n",
    "```\n",
    "\n",
    "Replace `your_api_key_here` with your actual OpenAI API key.\n",
    "\n",
    "3. Place the example image file (`example_image.jpg`) in the same directory as the code file.\n",
    "\n",
    "## Usage\n",
    "\n",
    "1. Run the code file using a Python interpreter.\n",
    "\n",
    "2. The code will perform the following tasks:\n",
    "- Resize the example image to a width of 800 and a height of 600.\n",
    "- Perform edge detection on the example image with a lower threshold of 100 and an upper threshold of 200.\n",
    "\n",
    "3. The processed images will be saved as `resized_image.jpg` and `edge_image.jpg` in the same directory as the code file.\n",
    "\n",
    "4. The file paths of the processed images will be printed as the output of the agent's `run` method.\n",
    "\n",
    "Note: Make sure you have the necessary permissions to read the example image file and write the processed image files in the directory.\n",
    "\n",
    "## Additional Notes\n",
    "\n",
    "- The code uses the `dotenv` library to load the OpenAI API key from the `.env` file. Make sure the `.env` file is properly configured with your API key.\n",
    "\n",
    "- The `taskgen` library is used to create an agent and define functions for image processing tasks. Refer to the `taskgen` documentation for more information on its usage and capabilities.\n",
    "\n",
    "- The OpenCV library (cv2) is used for image processing operations such as resizing and edge detection. You can explore more OpenCV functionalities to extend the code as needed."
   ]
  },
  {
   "cell_type": "markdown",
   "metadata": {},
   "source": [
    "```requirements.txt\n",
    "annotated-types==0.6.0\n",
    "anyio==3.7.1\n",
    "appnope==0.1.4\n",
    "asttokens==2.4.1\n",
    "certifi==2024.2.2\n",
    "comm==0.2.1\n",
    "debugpy==1.8.1\n",
    "decorator==5.1.1\n",
    "distro==1.9.0\n",
    "exceptiongroup==1.2.0\n",
    "executing==2.0.1\n",
    "h11==0.14.0\n",
    "httpcore==1.0.4\n",
    "httpx==0.27.0\n",
    "idna==3.6\n",
    "ipykernel==6.29.3\n",
    "ipython==8.22.2\n",
    "jedi==0.19.1\n",
    "jupyter_client==8.6.0\n",
    "jupyter_core==5.7.1\n",
    "matplotlib-inline==0.1.6\n",
    "nest-asyncio==1.6.0\n",
    "numpy==1.26.4\n",
    "openai==1.3.6\n",
    "opencv-python==4.9.0.80\n",
    "packaging==23.2\n",
    "parso==0.8.3\n",
    "pexpect==4.9.0\n",
    "platformdirs==4.2.0\n",
    "prompt-toolkit==3.0.43\n",
    "psutil==5.9.8\n",
    "ptyprocess==0.7.0\n",
    "pure-eval==0.2.2\n",
    "pydantic==2.6.3\n",
    "pydantic_core==2.16.3\n",
    "Pygments==2.17.2\n",
    "python-dateutil==2.9.0.post0\n",
    "python-dotenv==1.0.1\n",
    "pyzmq==25.1.2\n",
    "six==1.16.0\n",
    "sniffio==1.3.1\n",
    "stack-data==0.6.3\n",
    "taskgen-ai==0.0.8\n",
    "tornado==6.4\n",
    "tqdm==4.66.2\n",
    "traitlets==5.14.1\n",
    "typing_extensions==4.10.0\n",
    "wcwidth==0.2.13\n",
    "```"
   ]
  }
 ],
 "metadata": {
  "kernelspec": {
   "display_name": ".venv",
   "language": "python",
   "name": "python3"
  },
  "language_info": {
   "codemirror_mode": {
    "name": "ipython",
    "version": 3
   },
   "file_extension": ".py",
   "mimetype": "text/x-python",
   "name": "python",
   "nbconvert_exporter": "python",
   "pygments_lexer": "ipython3",
   "version": "3.10.11"
  },
  "orig_nbformat": 4
 },
 "nbformat": 4,
 "nbformat_minor": 2
}
