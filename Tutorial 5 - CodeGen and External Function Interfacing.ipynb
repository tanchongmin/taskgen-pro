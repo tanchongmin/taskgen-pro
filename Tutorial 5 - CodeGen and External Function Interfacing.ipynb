{
 "cells": [
  {
   "cell_type": "markdown",
   "id": "2fa1e388-b8f4-4fa3-be5a-ba7c6caae038",
   "metadata": {
    "tags": []
   },
   "source": [
    "# Tutorial 5 - CodeGen and External Function Interfacing\n",
    "\n",
    "- Video: https://www.youtube.com/watch?v=nXA2EbJS8fI\n",
    "\n",
    "- There are many other existing Agentic Frameworks like Crew.ai, LangChain / LangGraph, LlamaIndex that have many pre-established tools\n",
    "- TaskGen provides an easy way to interface with them and input them directly into TaskGen Agents!\n",
    "- We also show how to implement the Code as Actions agent (Executable Code Actions Elicit Better LLM Agents (Wang et al, 2024)\n",
    "- https://arxiv.org/abs/2402.01030)"
   ]
  },
  {
   "cell_type": "markdown",
   "id": "c146460a-c349-4ff8-8b7e-43480d58cdf0",
   "metadata": {
    "tags": []
   },
   "source": [
    "# Setup Guide"
   ]
  },
  {
   "cell_type": "markdown",
   "id": "5ddb881d-2f9e-415a-9944-e5fd6c177cee",
   "metadata": {
    "tags": []
   },
   "source": [
    "## Step 1: Install TaskGen"
   ]
  },
  {
   "cell_type": "code",
   "execution_count": 1,
   "id": "08f28149-670c-432f-a942-7d4fced2f670",
   "metadata": {
    "tags": []
   },
   "outputs": [],
   "source": [
    "# !pip install taskgen-pro"
   ]
  },
  {
   "cell_type": "markdown",
   "id": "c4fea3db-c055-4cdb-986b-8bfced9f8f1c",
   "metadata": {},
   "source": [
    "## Step 2: Import required functions and setup relevant API keys for your LLM"
   ]
  },
  {
   "cell_type": "code",
   "execution_count": 2,
   "id": "cdc6be6e-b1bd-4010-b6ca-adaa9e897fde",
   "metadata": {
    "tags": []
   },
   "outputs": [],
   "source": [
    "# Set up API key and do the necessary imports\n",
    "from taskgen import *\n",
    "import os\n",
    "\n",
    "# this is only if you use OpenAI as your LLM\n",
    "os.environ['OPENAI_API_KEY'] = '<YOUR API KEY HERE>'"
   ]
  },
  {
   "cell_type": "markdown",
   "id": "1a3e92de-5d47-46fc-9bbf-537999215a22",
   "metadata": {},
   "source": [
    "## Step 3: Define your own LLM\n",
    "- Define an `llm` function that takes in as inputs `system_prompt` and `user_prompt`, and outputs llm response string"
   ]
  },
  {
   "cell_type": "code",
   "execution_count": 4,
   "id": "d6d233d9-7d37-4e93-95d9-b243ddb196cb",
   "metadata": {
    "tags": []
   },
   "outputs": [],
   "source": [
    "def llm(system_prompt: str, user_prompt: str) -> str:\n",
    "    ''' Here, we use OpenAI for illustration, you can change it to your own LLM '''\n",
    "    # ensure your LLM imports are all within this function\n",
    "    from openai import OpenAI\n",
    "    \n",
    "    # define your own LLM here\n",
    "    client = OpenAI()\n",
    "    response = client.chat.completions.create(\n",
    "        model='gpt-4o-mini',\n",
    "        temperature = 0,\n",
    "        messages=[\n",
    "            {\"role\": \"system\", \"content\": system_prompt},\n",
    "            {\"role\": \"user\", \"content\": user_prompt}\n",
    "        ]\n",
    "    )\n",
    "    return response.choices[0].message.content"
   ]
  },
  {
   "cell_type": "code",
   "execution_count": 5,
   "id": "d2bddd54-2c56-4aed-88da-87cd1691a5e0",
   "metadata": {
    "tags": []
   },
   "outputs": [
    {
     "data": {
      "text/plain": [
       "'Neutral'"
      ]
     },
     "execution_count": 5,
     "metadata": {},
     "output_type": "execute_result"
    }
   ],
   "source": [
    "# Verify that llm function is working\n",
    "llm(system_prompt = 'You are a classifier to classify the sentiment of a sentence', \n",
    "    user_prompt = 'It is a hot and sunny day')"
   ]
  },
  {
   "cell_type": "markdown",
   "id": "34f6a7b7-2fdb-407e-bd5c-3024c007a8a5",
   "metadata": {},
   "source": [
    "# CrewAI Structured Tools Interface with TaskGen"
   ]
  },
  {
   "cell_type": "code",
   "execution_count": 116,
   "id": "8455989c-b934-49ee-aaed-e3562002722a",
   "metadata": {
    "tags": []
   },
   "outputs": [],
   "source": [
    "# !pip install crewai==0.28.8 crewai_tools==0.1.6 langchain_community==0.0.29"
   ]
  },
  {
   "cell_type": "code",
   "execution_count": 7,
   "id": "efb3295a-6db9-4511-b0ca-4efce7d31bae",
   "metadata": {
    "tags": []
   },
   "outputs": [],
   "source": [
    "def query_pdf_tool(query: str):\n",
    "    ''' Returns the answer to the query '''\n",
    "    from crewai_tools import PDFSearchTool\n",
    "    file_path = 'react.pdf'\n",
    "    \n",
    "    return PDFSearchTool(pdf=file_path).run(query)"
   ]
  },
  {
   "cell_type": "code",
   "execution_count": 8,
   "id": "03b2f805-eddb-460a-af8d-55e9cf40348b",
   "metadata": {
    "tags": []
   },
   "outputs": [
    {
     "name": "stdout",
     "output_type": "stream",
     "text": [
      "--2024-09-25 11:35:55--  https://arxiv.org/pdf/2210.03629\n",
      "Resolving arxiv.org (arxiv.org)... 151.101.67.42, 151.101.195.42, 151.101.3.42, ...\n",
      "Connecting to arxiv.org (arxiv.org)|151.101.67.42|:443... connected.\n",
      "HTTP request sent, awaiting response... 200 OK\n",
      "Length: 633805 (619K) [application/pdf]\n",
      "Saving to: ‘react.pdf’\n",
      "\n",
      "react.pdf           100%[===================>] 618.95K  --.-KB/s    in 0.03s   \n",
      "\n",
      "2024-09-25 11:35:56 (22.9 MB/s) - ‘react.pdf’ saved [633805/633805]\n",
      "\n"
     ]
    }
   ],
   "source": [
    "!wget https://arxiv.org/pdf/2210.03629 -O react.pdf"
   ]
  },
  {
   "cell_type": "code",
   "execution_count": 9,
   "id": "d9c32bd7-2a4c-4ecd-8754-6f2eca657b5f",
   "metadata": {
    "tags": []
   },
   "outputs": [
    {
     "name": "stdout",
     "output_type": "stream",
     "text": [
      "Using Tool: Search a PDF's content\n"
     ]
    },
    {
     "data": {
      "text/plain": [
       "'Relevant Content:\\nReAct-IM is in\\n\\nand gather additional information from external sources such as knowledge bases or environments. We apply our approach, named ReAct , to a diverse set of language and decision making tasks and demonstrate its effectiveness over state-of-the-art baselines in addition to improved human interpretability and trustworthiness. Concretely, on question answering (HotpotQA) and fact veriﬁcation (Fever), ReAct overcomes prevalent issues of hallucination and error propagation in chain-of-thought reasoning by interacting with a simple Wikipedia API, and generating human-like task-solving trajectories that are more interpretable than baselines without reasoning traces. Furthermore, on two interactive decision making benchmarks (ALFWorld and WebShop), ReAct outperforms imitation and reinforcement learning methods by an absolute success rate of 34% and 10% respectively, while being prompted with only one or two in-context examples. 1 I NTRODUCTION A unique feature of human intelligence is the\\n\\nPublished as a conference paper at ICLR 2023 appear sparsely in the most relevant positions of a trajectory, so we let the language model decide the asynchronous occurrence of thoughts and actions for itself. Since decision making and reasoning capabilities are integrated into a large language model, ReAct enjoys several unique features: A) Intuitive and easy to design : Designing ReAct prompts is straightforward as human annotators just type down their thoughts in language on top of their actions taken. No ad-hoc format choice, thought design, or example selection is used in this paper. We detail prompt design for each task in Sections 3 and 4. B) General and ﬂexible : Due to the ﬂexible thought space and thought-action occurrence format, ReAct works for diverse tasks with distinct action spaces and reasoning needs, including but not limited to QA, fact veriﬁcation, text game, and web navigation. C) Performant and robust :ReAct shows strong generalization to new task instances while'"
      ]
     },
     "execution_count": 9,
     "metadata": {},
     "output_type": "execute_result"
    }
   ],
   "source": [
    "query_pdf_tool('What is ReAct?')"
   ]
  },
  {
   "cell_type": "code",
   "execution_count": 10,
   "id": "07b6d1c3-92bf-4a40-ae0d-5c1bbfb38897",
   "metadata": {
    "tags": []
   },
   "outputs": [],
   "source": [
    "agent = Agent('PDF Query Agent', \n",
    "              '''Returns the answer to the query''',\n",
    "              llm = llm).assign_functions([query_pdf_tool])"
   ]
  },
  {
   "cell_type": "code",
   "execution_count": 11,
   "id": "4371a03b-1e28-4931-954a-47e1c0f9676f",
   "metadata": {
    "tags": []
   },
   "outputs": [
    {
     "name": "stdout",
     "output_type": "stream",
     "text": [
      "Name: use_llm\n",
      "Description: For general tasks. Used only when no other function can do the task\n",
      "Input: []\n",
      "Output: {'Output': 'Output of LLM'}\n",
      "\n",
      "Name: end_task\n",
      "Description: Passes the final output to the user\n",
      "Input: []\n",
      "Output: {}\n",
      "\n",
      "Name: query_pdf_tool\n",
      "Description:  Returns the answer to the <query: str> \n",
      "Input: ['query']\n",
      "Output: {}\n",
      "\n"
     ]
    }
   ],
   "source": [
    "agent.print_functions()"
   ]
  },
  {
   "cell_type": "code",
   "execution_count": 12,
   "id": "884e70b6-735c-4cc0-bd62-6117279c4b66",
   "metadata": {
    "tags": []
   },
   "outputs": [
    {
     "name": "stdout",
     "output_type": "stream",
     "text": [
      "\u001b[1m\u001b[30mObservation: No subtasks have been completed yet for the assigned task of defining ReAct.\u001b[0m\n",
      "\u001b[1m\u001b[32mThoughts: To complete the assigned task, I need to formulate a query that will provide a clear and concise answer regarding what ReAct is.\u001b[0m\n",
      "\u001b[1m\u001b[34mSubtask identified: Use the query_pdf_tool to ask about the definition of ReAct.\u001b[0m\n",
      "Calling function query_pdf_tool with parameters {'query': 'What is ReAct?'}\n",
      "Using Tool: Search a PDF's content\n",
      "> {'output_1': 'Relevant Content:\\nReAct-IM is in\\n\\nand gather additional information from external sources such as knowledge bases or environments. We apply our approach, named ReAct , to a diverse set of language and decision making tasks and demonstrate its effectiveness over state-of-the-art baselines in addition to improved human interpretability and trustworthiness. Concretely, on question answering (HotpotQA) and fact veriﬁcation (Fever), ReAct overcomes prevalent issues of hallucination and error propagation in chain-of-thought reasoning by interacting with a simple Wikipedia API, and generating human-like task-solving trajectories that are more interpretable than baselines without reasoning traces. Furthermore, on two interactive decision making benchmarks (ALFWorld and WebShop), ReAct outperforms imitation and reinforcement learning methods by an absolute success rate of 34% and 10% respectively, while being prompted with only one or two in-context examples. 1 I NTRODUCTION A unique feature of human intelligence is the\\n\\nPublished as a conference paper at ICLR 2023 appear sparsely in the most relevant positions of a trajectory, so we let the language model decide the asynchronous occurrence of thoughts and actions for itself. Since decision making and reasoning capabilities are integrated into a large language model, ReAct enjoys several unique features: A) Intuitive and easy to design : Designing ReAct prompts is straightforward as human annotators just type down their thoughts in language on top of their actions taken. No ad-hoc format choice, thought design, or example selection is used in this paper. We detail prompt design for each task in Sections 3 and 4. B) General and ﬂexible : Due to the ﬂexible thought space and thought-action occurrence format, ReAct works for diverse tasks with distinct action spaces and reasoning needs, including but not limited to QA, fact veriﬁcation, text game, and web navigation. C) Performant and robust :ReAct shows strong generalization to new task instances while'}\n",
      "\n",
      "\u001b[1m\u001b[30mObservation: The query about ReAct has been successfully processed, and relevant content has been retrieved that explains its features, effectiveness, and applications in various tasks.\u001b[0m\n",
      "\u001b[1m\u001b[32mThoughts: Since the query has been answered with detailed information, the next step is to finalize the task and present the output to the user.\u001b[0m\n",
      "\u001b[1m\u001b[34mSubtask identified: End Task\u001b[0m\n",
      "Task completed successfully!\n",
      "\n"
     ]
    },
    {
     "data": {
      "text/plain": [
       "[{'output_1': 'Relevant Content:\\nReAct-IM is in\\n\\nand gather additional information from external sources such as knowledge bases or environments. We apply our approach, named ReAct , to a diverse set of language and decision making tasks and demonstrate its effectiveness over state-of-the-art baselines in addition to improved human interpretability and trustworthiness. Concretely, on question answering (HotpotQA) and fact veriﬁcation (Fever), ReAct overcomes prevalent issues of hallucination and error propagation in chain-of-thought reasoning by interacting with a simple Wikipedia API, and generating human-like task-solving trajectories that are more interpretable than baselines without reasoning traces. Furthermore, on two interactive decision making benchmarks (ALFWorld and WebShop), ReAct outperforms imitation and reinforcement learning methods by an absolute success rate of 34% and 10% respectively, while being prompted with only one or two in-context examples. 1 I NTRODUCTION A unique feature of human intelligence is the\\n\\nPublished as a conference paper at ICLR 2023 appear sparsely in the most relevant positions of a trajectory, so we let the language model decide the asynchronous occurrence of thoughts and actions for itself. Since decision making and reasoning capabilities are integrated into a large language model, ReAct enjoys several unique features: A) Intuitive and easy to design : Designing ReAct prompts is straightforward as human annotators just type down their thoughts in language on top of their actions taken. No ad-hoc format choice, thought design, or example selection is used in this paper. We detail prompt design for each task in Sections 3 and 4. B) General and ﬂexible : Due to the ﬂexible thought space and thought-action occurrence format, ReAct works for diverse tasks with distinct action spaces and reasoning needs, including but not limited to QA, fact veriﬁcation, text game, and web navigation. C) Performant and robust :ReAct shows strong generalization to new task instances while'}]"
      ]
     },
     "execution_count": 12,
     "metadata": {},
     "output_type": "execute_result"
    }
   ],
   "source": [
    "agent.reset()\n",
    "agent.run('What is ReAct?')"
   ]
  },
  {
   "cell_type": "code",
   "execution_count": 13,
   "id": "6d4c1687-5fbd-421d-a497-8c7fcb29a464",
   "metadata": {
    "tags": []
   },
   "outputs": [
    {
     "name": "stdout",
     "output_type": "stream",
     "text": [
      "ReAct-IM is a framework that integrates reasoning and decision-making capabilities into a large language model. It is designed to address prevalent issues in tasks such as question answering and fact verification by interacting with external sources like a simple Wikipedia API. ReAct demonstrates its effectiveness over state-of-the-art baselines, improving human interpretability and trustworthiness. Specifically, in question answering tasks like HotpotQA and fact verification tasks like Fever, ReAct mitigates issues of hallucination and error propagation in chain-of-thought reasoning. It generates human-like task-solving trajectories that are more interpretable than those produced by baselines lacking reasoning traces. Additionally, in interactive decision-making benchmarks such as ALFWorld and WebShop, ReAct outperforms imitation and reinforcement learning methods, achieving absolute success rates of 34% and 10% respectively, even when prompted with only one or two in-context examples. The design of ReAct prompts is intuitive and straightforward, allowing human annotators to express their thoughts alongside their actions without the need for complex formatting. Its general and flexible nature enables it to handle a variety of tasks with different action spaces and reasoning requirements, including but not limited to question answering, fact verification, text games, and web navigation. Overall, ReAct shows strong generalization to new task instances, making it a robust tool for diverse applications.\n"
     ]
    },
    {
     "data": {
      "text/plain": [
       "'ReAct-IM is a framework that integrates reasoning and decision-making capabilities into a large language model. It is designed to address prevalent issues in tasks such as question answering and fact verification by interacting with external sources like a simple Wikipedia API. ReAct demonstrates its effectiveness over state-of-the-art baselines, improving human interpretability and trustworthiness. Specifically, in question answering tasks like HotpotQA and fact verification tasks like Fever, ReAct mitigates issues of hallucination and error propagation in chain-of-thought reasoning. It generates human-like task-solving trajectories that are more interpretable than those produced by baselines lacking reasoning traces. Additionally, in interactive decision-making benchmarks such as ALFWorld and WebShop, ReAct outperforms imitation and reinforcement learning methods, achieving absolute success rates of 34% and 10% respectively, even when prompted with only one or two in-context examples. The design of ReAct prompts is intuitive and straightforward, allowing human annotators to express their thoughts alongside their actions without the need for complex formatting. Its general and flexible nature enables it to handle a variety of tasks with different action spaces and reasoning requirements, including but not limited to question answering, fact verification, text games, and web navigation. Overall, ReAct shows strong generalization to new task instances, making it a robust tool for diverse applications.'"
      ]
     },
     "execution_count": 13,
     "metadata": {},
     "output_type": "execute_result"
    }
   ],
   "source": [
    "agent.reply_user()"
   ]
  },
  {
   "cell_type": "code",
   "execution_count": 14,
   "id": "d2c37c1b-439b-4948-ba2b-e1266e394a0a",
   "metadata": {
    "tags": []
   },
   "outputs": [],
   "source": [
    "# just wrap the external tool within a function\n",
    "def scrape_website_tool(website_url: str) -> str:\n",
    "    ''' Scrapes data from a website_url '''\n",
    "    # import the tool\n",
    "    from crewai_tools import ScrapeWebsiteTool\n",
    "    \n",
    "    # initialise the tool\n",
    "    docs_scrape_tool = ScrapeWebsiteTool(\n",
    "        website_url=website_url)\n",
    "    \n",
    "    # run the tool\n",
    "    return docs_scrape_tool.run()"
   ]
  },
  {
   "cell_type": "code",
   "execution_count": 15,
   "id": "74d03606-5399-4056-9ed2-d8c7e6a262f0",
   "metadata": {
    "tags": []
   },
   "outputs": [],
   "source": [
    "agent = Agent('Website summariser', \n",
    "              'Scrapes websites and summarises the findings to the user', \n",
    "              summarise_subtasks_count = 5, # this summarises the subtasks after a certain number of subtasks to reduce context length\n",
    "              llm = llm).assign_functions([scrape_website_tool])"
   ]
  },
  {
   "cell_type": "code",
   "execution_count": 16,
   "id": "f3605667-a7de-4051-918a-8d32cb008d66",
   "metadata": {
    "tags": []
   },
   "outputs": [
    {
     "name": "stdout",
     "output_type": "stream",
     "text": [
      "Name: use_llm\n",
      "Description: For general tasks. Used only when no other function can do the task\n",
      "Input: []\n",
      "Output: {'Output': 'Output of LLM'}\n",
      "\n",
      "Name: end_task\n",
      "Description: Passes the final output to the user\n",
      "Input: []\n",
      "Output: {}\n",
      "\n",
      "Name: scrape_website_tool\n",
      "Description:  Scrapes data from a <website_url: str> \n",
      "Input: ['website_url']\n",
      "Output: {'output_1': 'str'}\n",
      "\n"
     ]
    }
   ],
   "source": [
    "agent.print_functions()"
   ]
  },
  {
   "cell_type": "code",
   "execution_count": 17,
   "id": "9c23c8d1-0b4e-40d7-9dfd-12c69ac16016",
   "metadata": {
    "tags": []
   },
   "outputs": [
    {
     "name": "stdout",
     "output_type": "stream",
     "text": [
      "\u001b[1m\u001b[30mObservation: No subtasks have been completed yet, and I need to gather information from both TaskGen and CrewAI websites to compare them.\u001b[0m\n",
      "\u001b[1m\u001b[32mThoughts: I should scrape the content from both websites to extract relevant information about their features, functionalities, and differences. This will allow me to summarize the findings effectively.\u001b[0m\n",
      "\u001b[1m\u001b[34mSubtask identified: Scrape the data from the TaskGen website to gather information about its features and functionalities.\u001b[0m\n",
      "Calling function scrape_website_tool with parameters {'website_url': 'https://github.com/simbianai/taskgen'}\n",
      "Using Tool: Read website content\n",
      "> {'output_1': 'GitHub - simbianai/taskgen: Task-based Agentic Framework using StrictJSON as the core\\nSkip to content\\nNavigation Menu\\nToggle navigation\\n Sign in\\n Product\\nActions\\n Automate any workflow\\nPackages\\n Host and manage packages\\nSecurity\\n Find and fix vulnerabilities\\nCodespaces\\n Instant dev environments\\nGitHub Copilot\\n Write better code with AI\\nCode review\\n Manage code changes\\nIssues\\n Plan and track work\\nDiscussions\\n Collaborate outside of code\\nExplore\\n All features\\n Documentation\\n GitHub Skills\\n Blog\\n Solutions\\nBy size\\n Enterprise\\n Teams\\n Startups\\nBy industry\\n Healthcare\\n Financial services\\n Manufacturing\\nBy use case\\n CI/CD & Automation\\n DevOps\\n DevSecOps\\n Resources\\nTopics\\n AI\\n DevOps\\n Security\\n Software Development\\n View all\\nExplore\\n Learning Pathways\\n White papers, Ebooks, Webinars\\n Customer Stories\\n Partners\\n Open Source\\nGitHub Sponsors\\n Fund open source developers\\nThe ReadME Project\\n GitHub community articles\\nRepositories\\n Topics\\n Trending\\n Collections\\n Enterprise\\nEnterprise platform\\n AI-powered developer platform\\nAvailable add-ons\\nAdvanced Security\\n Enterprise-grade security features\\nGitHub Copilot\\n Enterprise-grade AI features\\nPremium Support\\n Enterprise-grade 24/7 support\\nPricing\\nSearch or jump to...\\nSearch code, repositories, users, issues, pull requests...\\n Search\\nClear\\n Search syntax tips\\n Provide feedback\\nWe read every piece of feedback, and take your input very seriously.\\nInclude my email address so I can be contacted\\n Cancel\\n Submit feedback\\n Saved searches\\nUse saved searches to filter your results more quickly\\nName\\nQuery\\n To see all available qualifiers, see our documentation.\\n Cancel\\n Create saved search\\n Sign in\\n Sign up\\nReseting focus\\nYou signed in with another tab or window. Reload to refresh your session.\\nYou signed out in another tab or window. Reload to refresh your session.\\nYou switched accounts on another tab or window. Reload to refresh your session.\\nDismiss alert\\n simbianai\\n/\\ntaskgen\\nPublic\\nNotifications\\n You must be signed in to change notification settings\\nFork\\n 39\\n Star\\n 393\\n Task-based Agentic Framework using StrictJSON as the core\\nLicense\\n MIT license\\n393\\n stars\\n39\\n forks\\nBranches\\nTags\\nActivity\\n Star\\nNotifications\\n You must be signed in to change notification settings\\nCode\\nIssues\\n0\\nPull requests\\n0\\nActions\\nProjects\\n0\\nSecurity\\nInsights\\nAdditional navigation options\\n Code\\n Issues\\n Pull requests\\n Actions\\n Projects\\n Security\\n Insights\\nsimbianai/taskgen\\nThis commit does not belong to any branch on this repository, and may belong to a fork outside of the repository.\\n \\xa0mainBranchesTagsGo to fileCodeFolders and filesNameNameLast commit messageLast commit dateLatest commit\\xa0History286 CommitsPaperPaper\\xa0\\xa0contribcontrib\\xa0\\xa0resourcesresources\\xa0\\xa0taskgentaskgen\\xa0\\xa0.example.env.example.env\\xa0\\xa0.gitignore.gitignore\\xa0\\xa0LICENSELICENSE\\xa0\\xa0README.mdREADME.md\\xa0\\xa0TaskGen Ask Me Anything.ipynbTaskGen Ask Me Anything.ipynb\\xa0\\xa0Tutorial 0 - StrictJSON.ipynbTutorial 0 - StrictJSON.ipynb\\xa0\\xa0Tutorial 1 - Agent.ipynbTutorial 1 - Agent.ipynb\\xa0\\xa0Tutorial 2 - Shared Variables and Global Context.ipynbTutorial 2 - Shared Variables and Global Context.ipynb\\xa0\\xa0Tutorial 3 - Memory.ipynbTutorial 3 - Memory.ipynb\\xa0\\xa0Tutorial 4 - Hierarchical Agents.ipynbTutorial 4 - Hierarchical Agents.ipynb\\xa0\\xa0Tutorial 5 - CodeGen and External Function Interfacing.ipynbTutorial 5 - CodeGen and External Function Interfacing.ipynb\\xa0\\xa0Tutorial 6 - Conversation Class.ipynbTutorial 6 - Conversation Class.ipynb\\xa0\\xa0changelog.txtchangelog.txt\\xa0\\xa0myagent.pklmyagent.pkl\\xa0\\xa0pyproject.tomlpyproject.toml\\xa0\\xa0react.pdfreact.pdf\\xa0\\xa0requirements.txtrequirements.txt\\xa0\\xa0setup.pysetup.py\\xa0\\xa0View all filesRepository files navigationREADMEMIT licenseTaskGen v3.3.4\\nA Task-based agentic framework building on StrictJSON outputs by LLM agents\\nAn Open Source Initiative Led by John Tan Chong Min, Supported by Simbian AI\\nHow to contribute to TaskGen: https://www.youtube.com/watch?v=BqLeA13n6KI\\nDiscussion Channel (John\\'s AI Group): https://discord.gg/bzp87AHJy5\\nDocumentation (Credit: Brian Lim): https://taskgen.readthedocs.io/en/latest/taskgen/index.html\\nPaper: https://web3.arxiv.org/pdf/2407.15734\\nVideo: https://www.youtube.com/watch?v=F3usuxs2p1Y\\nRelated Repositories: StrictJSON (https://github.com/tanchongmin/strictjson) [Do help star this as well!]\\nOther related videos:\\nTaskGen Details (Part 1): https://www.youtube.com/watch?v=O_XyTT7QGH4\\nTaskGen Details (Part 2): https://www.youtube.com/watch?v=OWk7moRfTPE\\nTaskGen Ask Me Anything: https://www.youtube.com/watch?v=mheIWKugqF4\\nOutreach / Consultancy Services:\\nAs part of our outreach efforts, we are actively providing consultation services to integrate TaskGen into your production pipelines. Contact John or Brian to schedule an appointment!\\nCreator\\'s Preamble\\nHappy to share that the task-based agentic framework I have been working on - TaskGen - is largely complete!\\nNoteable features include:\\nSplitting of Tasks into subtasks for bite-sized solutions for each subtask\\nSingle Agent with LLM Functions\\nSingle Agent with External Functions\\nMeta Agent with Inner Agents as Functions\\nShared Variables for multi-modality support\\nRetrieval Augmented Generation (RAG) over Function space\\nMemory to provide additional task-based prompts for task\\nGlobal Context for configuring your own prompts + add persistent variables\\nAsync mode for Agent, Function and strict_json added\\nCommunity Uploading and Downloading of Agent and Functions\\nI am quite sure that this is the best open-source agentic framework for task-based execution out there!\\nExisting frameworks like AutoGen rely too much on conversational text which is lengthy and not targeted.\\nTaskGen uses StrictJSON (JSON parser with type checking and more!) as the core, and agents are efficient and are able to do Chain of Thought natively using JSON keys and descriptions as a guide.\\nWhat can you do to help (see contrib folder for more details):\\nStar the github so more people can use it (It\\'s open source and free to use, even commercially!)\\nContribute template Jupyter Notebooks for your favourite use cases so it can be much more boilerplate for others to use :)\\nContribute Agent Wrappers that imbue additional functions to the base agent (e.g Planner, Reflector, Conversation)\\nContribute Memory classes that allow the Agent to store and extract various kinds of memories according to the task\\nI can\\'t wait to see what this new framework can do for you!\\nBenefits of JSON messaging over agentic frameworks using conversational free-text like AutoGen\\nJSON format helps do Chain-of-Thought prompting naturally and is less verbose than free text\\nJSON format allows natural parsing of multiple output fields by agents\\nStrictJSON helps to ensure all output fields are there and of the right format required for downstream processing\\nCreator Info\\nCreated: 17 Feb 2024 by John Tan Chong Min\\nCo-developer / Lead Contributor: Prince Saroj\\nLead Documentation: Brian Lim\\nTaskGen Paper Research Staff: Prince Saroj, Hardik Maheshwari, Bharat Runwal, Brian Lim, Richard Cottrill\\nTaskGen Mentors / Funders: Ambuj Kumar, Alankrit Chona, Mehul Motani\\nCollaborators welcome\\nHow do I use this?\\nDownload package via command line pip install taskgen-ai\\nSet up your LLM and provide any API keys if needed\\nImport the required functions from taskgen and use them!\\nDifferences in LLM for Agentic Framework\\nDefault model is now gpt-4o-mini if you do not specify any LLM!\\nWeaker models like ChatGPT (gpt-3.5-turbo) and Llama 3 8B are consistent only if you specify very clearly what you want the Agent to do and give examples of what you want\\ngpt-4o-mini, gpt-4o, Llama 3 70B and more advanced models can perform better zero-shot without much examples\\nTaskGen is compatible with ChatGPT and similar models, but for more robust use, consider using gpt-4o-mini and better models\\n1. Agent Basics\\nCreate an agent by entering your agent\\'s name and description\\nAgents are task-based, so they will help generate subtasks to fulfil your main task\\nAgents are made to be non-verbose, so they will just focus only on task instruction (Much more efficient compared to conversational-based agentic frameworks like AutoGen)\\nAgent\\'s interactions will be stored into subtasks_completed by default, which will serve as a memory buffer for future interactions\\nInputs for Agent:\\nagent_name: String. Name of agent, hinting at what the agent does\\nagent_description: String. Short description of what the agent does\\nmax_subtasks: Int. Default: 5. The maximum number of subtasks the agent can have\\nverbose: Bool. Default: True. Whether to print out agent\\'s intermediate thoughts\\nllm: Function. The LLM to be used by the Agent\\nAgent Internal Parameters:\\nTask: String. The task the agent has been assigned to - Defaults to \"No task assigned\"\\nSubtasks Completed: Dict. The keys are the subtask names and the values are the result of the respective subtask\\nIs Task Completed: Bool. Whether the current Task is completed\\nTask Running\\nreset(): Resets the Agent Internal Parameters and Subtasks Completed. You should do this at the start of every new task assigned to the Agent to minimise potential confusion of what has been done for this task versus previous tasks\\nrun(task: str, num_subtasks: int = max_subtasks): Performs the task. Do note that agent\\'s state will not be reset, so if you want to reset it, call reset() prior to running this. Runs the task for num_subtasks steps. If not specified, we will take the max_subtasks.\\nGive User Output\\nreply_user(query: str = \\'\\', stateful: bool = True): Using all information from subtasks, give a reply about the query to the user. If query is not given, then it replies based on the current task the agent is doing. If stateful is True, saves this query and reply into subtasks_completed\\nCheck status of Agent:\\nstatus(): Lists out Agent Name, Agent Description, Available Functions (default function is to use the LLM), Task, Subtasks Completed and Is Task Completed\\nExample Agent Creation\\nmy_agent = Agent(\\'Helpful assistant\\', \\'You are a generalist agent\\', llm = llm)\\nExample Agent Task Running - Split the assigned task into subtasks and execute each of them\\noutput = my_agent.run(\\'Give me 5 words rhyming with cool, and make a 4-sentence poem using them\\')\\nSubtask identified: Find 5 words that rhyme with \\'cool\\'\\nGetting LLM to perform the following task: Find 5 words that rhyme with \\'cool\\'\\npool, rule, fool, tool, school\\nSubtask identified: Compose a 4-sentence poem using the words \\'pool\\', \\'rule\\', \\'fool\\', \\'tool\\', and \\'school\\'\\nGetting LLM to perform the following task: Compose a 4-sentence poem using the words \\'pool\\', \\'rule\\', \\'fool\\', \\'tool\\', and \\'school\\'\\nIn the school, the golden rule is to never be a fool. Use your mind as a tool, and always follow the pool.\\nTask completed successfully!\\nCheck Agent\\'s Status\\nmy_agent.status()\\nAgent Name: Helpful assistant\\nAgent Description: You are a generalist agent\\nAvailable Functions: [\\'use_llm\\', \\'end_task\\']\\nTask: Give me 5 words rhyming with cool, and make a 4-sentence poem using them\\nSubtasks Completed:\\nSubtask: Find 5 words that rhyme with \\'cool\\'\\npool, rule, fool, tool, school\\nSubtask: Compose a 4-sentence poem using the words \\'pool\\', \\'rule\\', \\'fool\\', \\'tool\\', and \\'school\\'\\nIn the school, the golden rule is to never be a fool. Use your mind as a tool, and always follow the pool.\\nIs Task Completed: True\\nExample Agent Reply to User - Reference the subtasks\\' output to answer the user\\'s query\\noutput = my_agent.reply_user()\\nHere are 5 words that rhyme with \"cool\": pool, rule, fool, tool, school. Here is a 4-sentence poem using these words: \"In the school, the golden rule is to never be a fool. Use your mind as a tool, and always follow the pool.\"\\n2. Power Up your Agents - Bring in Functions (aka Tools)\\nFirst define the functions, either using class Function (see Tutorial 0), or just any Python function with input and output types defined in the signature and with a docstring\\nAfter creating your agent, use assign_functions to assign a list of functions of class Function, or general Python functions (which will be converted to AsyncFunction)\\nFunction names will be automatically inferred if not specified\\nProceed to run tasks by using run()\\n# This is an example of an LLM-based function (see Tutorial 0)\\nsentence_style = Function(fn_description = \\'Output a sentence with words <var1> and <var2> in the style of <var3>\\', output_format = {\\'output\\': \\'sentence\\'},\\n fn_name = \\'sentence_with_objects_entities_emotion\\',\\n llm = llm)\\n# This is an example of an external user-defined function (see Tutorial 0)\\ndef binary_to_decimal(binary_number: str) -> int:\\n \\'\\'\\'Converts binary_number to integer of base 10\\'\\'\\'\\n return int(str(binary_number), 2)\\n# Initialise your Agent\\nmy_agent = Agent(\\'Helpful assistant\\', \\'You are a generalist agent\\')\\n# Assign the functions\\nmy_agent.assign_functions([sentence_style, binary_to_decimal])\\n# Run the Agent\\noutput = my_agent.run(\\'First convert binary string 1001 to a number, then generate me a happy sentence with that number and a ball\\')\\nSubtask identified: Convert the binary number 1001 to decimal\\nCalling function binary_to_decimal with parameters {\\'x\\': \\'1001\\'}\\n{\\'output1\\': 9}\\nSubtask identified: Generate a happy sentence with the decimal number and a ball\\nCalling function sentence_with_objects_entities_emotion with parameters {\\'obj\\': \\'9\\', \\'entity\\': \\'ball\\', \\'emotion\\': \\'happy\\'}\\n{\\'output\\': \\'I am so happy with my 9 balls.\\'}\\nTask completed successfully!\\nApproach 1: Automatically Run your agent using run()\\nApproach 2: Manually select and use functions for your task\\nselect_function(task: str): Based on the task, output the next function name and input parameters\\nuse_function(function_name: str, function_params: dict, subtask: str = \\'\\', stateful: bool = True): Uses the function named function_name with function_params. stateful controls whether the output of this function will be saved to subtasks_completed under the key of subtask\\nAssign/Remove Functions:\\nassign_functions(function_list: list): Assigns a list of functions to the agent\\nremove_function(function_name: str): Removes function named function_name from the list of assigned functions\\nShow Functions:\\nlist_functions(): Returns the list of functions of the agent\\nprint_functions(): Prints the list of functions of the agent\\n3. AsyncAgent\\nAsyncAgent works the same way as Agent, only much faster due to parallelisation of tasks\\nIt can only be assigned functions of class AsyncFunction, or general Python functions (which will be converted to AsyncFunction)\\nIf you define your own AsyncFunction, you should define the fn_name as well if it is not an External Function\\nAs a rule of thumb, just add the await keyword to any function that you run with the AsyncAgent\\nExample LLM in Async Mode\\nasync def llm_async(system_prompt: str, user_prompt: str):\\n \\'\\'\\' Here, we use OpenAI for illustration, you can change it to your own LLM \\'\\'\\'\\n # ensure your LLM imports are all within this function\\n from openai import AsyncOpenAI\\n # define your own LLM here\\n client = AsyncOpenAI()\\n response = await client.chat.completions.create(\\n model=\\'gpt-4o-mini\\',\\n temperature = 0,\\n messages=[\\n {\"role\": \"system\", \"content\": system_prompt},\\n {\"role\": \"user\", \"content\": user_prompt}\\n ]\\n )\\n return response.choices[0].message.content\\nExample Agentic Workflow\\n# This is an example of an LLM-based function (see Tutorial 0)\\nsentence_style = AsyncFunction(fn_description = \\'Output a sentence with words <var1> and <var2> in the style of <var3>\\', output_format = {\\'output\\': \\'sentence\\'},\\n fn_name = \\'sentence_with_objects_entities_emotion\\', # you must define fn_name for LLM-based functions\\n llm = llm_async) # use an async LLM function\\n# This is an example of an external user-defined function (see Tutorial 0)\\ndef binary_to_decimal(binary_number: str) -> int:\\n \\'\\'\\'Converts binary_number to integer of base 10\\'\\'\\'\\n return int(str(binary_number), 2)\\n# Initialise your Agent\\nmy_agent = AsyncAgent(\\'Helpful assistant\\', \\'You are a generalist agent\\')\\n# Assign the functions\\nmy_agent.assign_functions([sentence_style, binary_to_decimal])\\n# Run the Agent\\noutput = await my_agent.run(\\'Generate me a happy sentence with a number and a ball. The number is b1001 converted to decimal\\')\\n4. Shared Variables\\n\"Because text is not enough\" - Anonymous\\nshared_variables is a dictionary, that is initialised in Agent (default empty dictionary), and can be referenced by any function of the agent (including Inner Agents and their functions)\\nThis can be useful for non-text modalitiies (e.g. audio, pdfs, image) and lengthy text modalities, which we do not want to output into subtasks_completed directly\\nTo use, simply define an External Function with shared_variables as the first input variable, from which you can access and modify shared_variables directly\\nThe agent will also be able to be self-referenced in the External Function via shared_variables[\\'agent\\'], so you can change the agent\\'s internal parameters via shared_variables\\nIf the function has no output because the output is stored in shared_variables, the default return value will be {\\'Status\\': \\'Completed\\'}\\nExample External Function using shared_variables\\n# Use shared_variables as input to your external function to access and modify the shared variables\\ndef generate_quotes(shared_variables, number_of_quotes: int, category: str):\\n \\'\\'\\' Generates number_of_quotes quotes about category \\'\\'\\'\\n # Retrieve from shared variables\\n my_quote_list = shared_variables[\\'Quote List\\']\\n # Generate the quotes\\n res = strict_json(system_prompt = f\\'\\'\\'Generate {number_of_quotes} sentences about {category}. \\nDo them in the format \"<Quote> - <Person>\", e.g. \"The way to get started is to quit talking and begin doing. - Walt Disney\"\\nEnsure your quotes contain only \\' within the quote, and are enclosed by \" \\'\\'\\',\\n user_prompt = \\'\\',\\n output_format = {\\'Quote List\\': f\\'list of {number_of_quotes} quotes, type: List[str]\\'},\\n llm = llm)\\n my_quote_list.extend([f\\'Category: {category}. \\'+ x for x in res[\\'Quote List\\']])\\n # Store back to shared variables\\n shared_variables[\\'Quote List\\'] = my_quote_list\\n5. Global Context\\nGlobal Context is a very powerful feature in TaskGen, as it allows the Agent to be updated with the latest environmental state before every decision it makes\\nIt also allows for learnings in shared_variables to be carried across tasks, making the Agent teachable and learn through experiences\\nA recommended practice is to always store the learnings of the Agent during the External Function call, and reset the Agent after each task, so that subtasks_completed will be as short as possible to avoid confusion to the Agent\\nThere are two ways to use Global Context, and both can be used concurrently:\\nglobal_context\\nIf all you need in the global context is shared_variables without any modification to it, then you can use global_context\\nglobal_context is a string with <shared_variables_name> enclosed with <>. These <> will be replaced with the actual variable in shared_variables\\nget_global_context\\nget_global_context is a function that takes in the agent\\'s internal parameters (self) and outputs a string to the LLM to append to the prompts of any LLM-based calls internally, e.g. get_next_subtask, use_llm, reply_to_user\\nYou have full flexibility to access anything the agent knows and process the shared_variables as required and configure a global prompt to the agent\\nExample for global_context : Inventory Manager\\nWe can use Global Context to keep track of inventory state\\nWe simply get the functions add_item_to_inventory and remove_item_from_inventory to modify the shared_variable named Inventory\\nNote we can also put rule-based checks like checking if item is in inventory before removing inside the function\\nEven after task reset, the Agent still knows the inventory because of Global Context\\ndef add_item_to_inventory(shared_variables, item: str) -> str:\\n \\'\\'\\' Adds item to inventory, and returns outcome of action \\'\\'\\'\\n shared_variables[\\'Inventory\\'].append(item)\\n return f\\'{item} successfully added to Inventory\\'\\ndef remove_item_from_inventory(shared_variables, item: str) -> str:\\n \\'\\'\\' Removes item from inventory and returns outcome of action \\'\\'\\'\\n if item in shared_variables[\\'Inventory\\']:\\n shared_variables[\\'Inventory\\'].remove(item)\\n return f\\'{item} successfully removed from Inventory\\'\\n else:\\n return f\\'{item} not found in Inventory, unable to remove\\'\\nagent = Agent(\\'Inventory Manager\\', \\'Adds and removes items in Inventory. Only able to remove items if present in Inventory\\',\\n shared_variables = {\\'Inventory\\': []},\\n global_context = \\'Inventory: <Inventory>\\', # Add in Global Context here with shared_variables Inventory\\n llm = llm).assign_functions([add_item_to_inventory, remove_item_from_inventory])\\nOther Features\\nThere are other features like Memory (Tutorial 3), Hierarchical Agents (Tutorial 4), CodeGen and External Function Interfacing (Tutorial 5), Conversation Class (Tutorial 6)\\nThese extend the baseline features of TaskGen and you are encouraged to take a look at the Tutorials for more information.\\nKnown Limitations\\ngpt-3.5-turbo is not that great with mathematical functions for Agents. Use gpt-4o-mini or better for more consistent results\\ngpt-3.5-turbo is not that great with Memory (Tutorial 3). Use gpt-4o-mini or better for more consistent results\\nContributing to the project\\nTest locally\\nClone the repository\\nIf using a virtual environment, activate it\\ncd into taskgen repository\\nInstall the package via command line pip install -e .\\nNow you can import the package and use it in your code\\nSubmitting a pull request\\nFork the repository\\nCreate a new branch\\nMake your changes\\nPush your changes to your fork\\nSubmit a pull request\\nWhat are we looking out for?\\nContributing example Agents and Functions. Agents can now be contributed easily using agent.contribute_agent() and the entire Agent code with all the functions and memory will be converted to text-based code and put on the TaskGen GitHub. Do share your use cases actively so that other people can benefit :) These Agents can be downloaded by others via agent.load_community_agent(agent_name)\\nJupyter Notebooks showcasing what could be done with the framework for something useful. Let your imagination guide you, we look forward to see what you create\\nOther Known Limitations - Do test the framework out extensively and note its failure cases. We will see if we can address them, if not we will put them in Known Limitations.\\n(For the prompt engineer). If you could find a better way to make the prompts work, let us know directly - we do need to test this out across all Tutorial Jupyter Notebooks to make sure that it really works with existing datasets. Also, if you are using other LLMs beside OpenAI, and find the prompts do not work as well - try to rejig your own prompts and let us know as well!\\nAbout\\n Task-based Agentic Framework using StrictJSON as the core\\nResources\\n Readme\\nLicense\\n MIT license\\nActivity\\nCustom properties\\nStars\\n393\\n stars\\nWatchers\\n7\\n watching\\nForks\\n39\\n forks\\n Report repository\\n Releases\\nNo releases published\\n Packages\\n 0\\n No packages published Contributors\\n 7\\nLanguages\\nJupyter Notebook\\n95.8%\\nPython\\n4.2%\\nFooter\\n © 2024 GitHub,\\xa0Inc.\\nFooter navigation\\nTerms\\nPrivacy\\nSecurity\\nStatus\\nDocs\\nContact\\n Manage cookies\\n Do not share my personal information\\n You can’t perform that action at this time.'}\n",
      "\n",
      "\u001b[1m\u001b[30mObservation: The website for TaskGen has been successfully scraped, providing detailed information about its features, functionalities, and creator details. This includes insights into its task-based framework and how it compares to other frameworks.\u001b[0m\n",
      "\u001b[1m\u001b[32mThoughts: Next, I need to scrape the CrewAI website to gather similar information about its features and functionalities. This will allow for a comprehensive comparison between TaskGen and CrewAI.\u001b[0m\n",
      "\u001b[1m\u001b[34mSubtask identified: Scrape the CrewAI website to extract information about its features, functionalities, and any relevant details that can be compared with TaskGen.\u001b[0m\n",
      "Calling function scrape_website_tool with parameters {'website_url': 'https://github.com/joaomdmoura/CrewAI'}\n",
      "Using Tool: Read website content\n",
      "> {'output_1': 'GitHub - crewAIInc/crewAI: Framework for orchestrating role-playing, autonomous AI agents. By fostering collaborative intelligence, CrewAI empowers agents to work together seamlessly, tackling complex tasks.\\nSkip to content\\nNavigation Menu\\nToggle navigation\\n Sign in\\n Product\\nActions\\n Automate any workflow\\nPackages\\n Host and manage packages\\nSecurity\\n Find and fix vulnerabilities\\nCodespaces\\n Instant dev environments\\nGitHub Copilot\\n Write better code with AI\\nCode review\\n Manage code changes\\nIssues\\n Plan and track work\\nDiscussions\\n Collaborate outside of code\\nExplore\\n All features\\n Documentation\\n GitHub Skills\\n Blog\\n Solutions\\nBy size\\n Enterprise\\n Teams\\n Startups\\nBy industry\\n Healthcare\\n Financial services\\n Manufacturing\\nBy use case\\n CI/CD & Automation\\n DevOps\\n DevSecOps\\n Resources\\nTopics\\n AI\\n DevOps\\n Security\\n Software Development\\n View all\\nExplore\\n Learning Pathways\\n White papers, Ebooks, Webinars\\n Customer Stories\\n Partners\\n Open Source\\nGitHub Sponsors\\n Fund open source developers\\nThe ReadME Project\\n GitHub community articles\\nRepositories\\n Topics\\n Trending\\n Collections\\n Enterprise\\nEnterprise platform\\n AI-powered developer platform\\nAvailable add-ons\\nAdvanced Security\\n Enterprise-grade security features\\nGitHub Copilot\\n Enterprise-grade AI features\\nPremium Support\\n Enterprise-grade 24/7 support\\nPricing\\nSearch or jump to...\\nSearch code, repositories, users, issues, pull requests...\\n Search\\nClear\\n Search syntax tips\\n Provide feedback\\nWe read every piece of feedback, and take your input very seriously.\\nInclude my email address so I can be contacted\\n Cancel\\n Submit feedback\\n Saved searches\\nUse saved searches to filter your results more quickly\\nName\\nQuery\\n To see all available qualifiers, see our documentation.\\n Cancel\\n Create saved search\\n Sign in\\n Sign up\\nReseting focus\\nYou signed in with another tab or window. Reload to refresh your session.\\nYou signed out in another tab or window. Reload to refresh your session.\\nYou switched accounts on another tab or window. Reload to refresh your session.\\nDismiss alert\\n crewAIInc\\n/\\ncrewAI\\nPublic\\nNotifications\\n You must be signed in to change notification settings\\nFork\\n 2.7k\\n Star\\n 19.5k\\n Framework for orchestrating role-playing, autonomous AI agents. By fostering collaborative intelligence, CrewAI empowers agents to work together seamlessly, tackling complex tasks.\\ncrewai.com\\nLicense\\n MIT license\\n19.5k\\n stars\\n2.7k\\n forks\\nBranches\\nTags\\nActivity\\n Star\\nNotifications\\n You must be signed in to change notification settings\\nCode\\nIssues\\n115\\nPull requests\\n35\\nDiscussions\\nActions\\nProjects\\n0\\nSecurity\\nInsights\\nAdditional navigation options\\n Code\\n Issues\\n Pull requests\\n Discussions\\n Actions\\n Projects\\n Security\\n Insights\\ncrewAIInc/crewAI\\nThis commit does not belong to any branch on this repository, and may belong to a fork outside of the repository.\\n \\xa0mainBranchesTagsGo to fileCodeFolders and filesNameNameLast commit messageLast commit dateLatest commit\\xa0History806 Commits.cache/plugin/social.cache/plugin/social\\xa0\\xa0.github.github\\xa0\\xa0docsdocs\\xa0\\xa0src/crewaisrc/crewai\\xa0\\xa0teststests\\xa0\\xa0.editorconfig.editorconfig\\xa0\\xa0.gitignore.gitignore\\xa0\\xa0.pre-commit-config.yaml.pre-commit-config.yaml\\xa0\\xa0LICENSELICENSE\\xa0\\xa0README.mdREADME.md\\xa0\\xa0crewAI.excalidrawcrewAI.excalidraw\\xa0\\xa0mkdocs.ymlmkdocs.yml\\xa0\\xa0poetry.lockpoetry.lock\\xa0\\xa0pyproject.tomlpyproject.toml\\xa0\\xa0View all filesRepository files navigationREADMEMIT license\\ncrewAI\\n🤖 crewAI: Cutting-edge framework for orchestrating role-playing, autonomous AI agents. By fostering collaborative intelligence, CrewAI empowers agents to work together seamlessly, tackling complex tasks.\\nHomepage | Documentation | Chat with Docs | Examples | Discourse\\nTable of contents\\nWhy CrewAI?\\nGetting Started\\nKey Features\\nExamples\\nQuick Tutorial\\nWrite Job Descriptions\\nTrip Planner\\nStock Analysis\\nConnecting Your Crew to a Model\\nHow CrewAI Compares\\nContribution\\nTelemetry\\nLicense\\nWhy CrewAI?\\nThe power of AI collaboration has too much to offer.\\nCrewAI is designed to enable AI agents to assume roles, share goals, and operate in a cohesive unit - much like a well-oiled crew. Whether you\\'re building a smart assistant platform, an automated customer service ensemble, or a multi-agent research team, CrewAI provides the backbone for sophisticated multi-agent interactions.\\nGetting Started\\nTo get started with CrewAI, follow these simple steps:\\n1. Installation\\npip install crewai\\nIf you want to install the \\'crewai\\' package along with its optional features that include additional tools for agents, you can do so by using the following command: pip install \\'crewai[tools]\\'. This command installs the basic package and also adds extra components which require more dependencies to function.\"\\npip install \\'crewai[tools]\\'\\n2. Setting Up Your Crew\\nimport os\\nfrom crewai import Agent, Task, Crew, Process\\nfrom crewai_tools import SerperDevTool\\nos.environ[\"OPENAI_API_KEY\"] = \"YOUR_API_KEY\"\\nos.environ[\"SERPER_API_KEY\"] = \"Your Key\" # serper.dev API key\\n# It can be a local model through Ollama / LM Studio or a remote\\n# model like OpenAI, Mistral, Antrophic or others (https://docs.crewai.com/how-to/LLM-Connections/)\\n# Define your agents with roles and goals\\nresearcher = Agent(\\n role=\\'Senior Research Analyst\\',\\n goal=\\'Uncover cutting-edge developments in AI and data science\\',\\n backstory=\"\"\"You work at a leading tech think tank.\\n Your expertise lies in identifying emerging trends.\\n You have a knack for dissecting complex data and presenting actionable insights.\"\"\",\\n verbose=True,\\n allow_delegation=False,\\n # You can pass an optional llm attribute specifying what model you wanna use.\\n # llm=ChatOpenAI(model_name=\"gpt-3.5\", temperature=0.7),\\n tools=[SerperDevTool()]\\n)\\nwriter = Agent(\\n role=\\'Tech Content Strategist\\',\\n goal=\\'Craft compelling content on tech advancements\\',\\n backstory=\"\"\"You are a renowned Content Strategist, known for your insightful and engaging articles.\\n You transform complex concepts into compelling narratives.\"\"\",\\n verbose=True,\\n allow_delegation=True\\n)\\n# Create tasks for your agents\\ntask1 = Task(\\n description=\"\"\"Conduct a comprehensive analysis of the latest advancements in AI in 2024.\\n Identify key trends, breakthrough technologies, and potential industry impacts.\"\"\",\\n expected_output=\"Full analysis report in bullet points\",\\n agent=researcher\\n)\\ntask2 = Task(\\n description=\"\"\"Using the insights provided, develop an engaging blog\\n post that highlights the most significant AI advancements.\\n Your post should be informative yet accessible, catering to a tech-savvy audience.\\n Make it sound cool, avoid complex words so it doesn\\'t sound like AI.\"\"\",\\n expected_output=\"Full blog post of at least 4 paragraphs\",\\n agent=writer\\n)\\n# Instantiate your crew with a sequential process\\ncrew = Crew(\\n agents=[researcher, writer],\\n tasks=[task1, task2],\\n verbose=True,\\n process = Process.sequential\\n)\\n# Get your crew to work!\\nresult = crew.kickoff()\\nprint(\"######################\")\\nprint(result)\\nIn addition to the sequential process, you can use the hierarchical process, which automatically assigns a manager to the defined crew to properly coordinate the planning and execution of tasks through delegation and validation of results. See more about the processes here.\\nKey Features\\nRole-Based Agent Design: Customize agents with specific roles, goals, and tools.\\nAutonomous Inter-Agent Delegation: Agents can autonomously delegate tasks and inquire amongst themselves, enhancing problem-solving efficiency.\\nFlexible Task Management: Define tasks with customizable tools and assign them to agents dynamically.\\nProcesses Driven: Currently only supports sequential task execution and hierarchical processes, but more complex processes like consensual and autonomous are being worked on.\\nSave output as file: Save the output of individual tasks as a file, so you can use it later.\\nParse output as Pydantic or Json: Parse the output of individual tasks as a Pydantic model or as a Json if you want to.\\nWorks with Open Source Models: Run your crew using Open AI or open source models refer to the Connect crewAI to LLMs page for details on configuring your agents\\' connections to models, even ones running locally!\\nExamples\\nYou can test different real life examples of AI crews in the crewAI-examples repo:\\nLanding Page Generator\\nHaving Human input on the execution\\nTrip Planner\\nStock Analysis\\nQuick Tutorial\\nWrite Job Descriptions\\nCheck out code for this example or watch a video below:\\nTrip Planner\\nCheck out code for this example or watch a video below:\\nStock Analysis\\nCheck out code for this example or watch a video below:\\nConnecting Your Crew to a Model\\ncrewAI supports using various LLMs through a variety of connection options. By default your agents will use the OpenAI API when querying the model. However, there are several other ways to allow your agents to connect to models. For example, you can configure your agents to use a local model via the Ollama tool.\\nPlease refer to the Connect crewAI to LLMs page for details on configuring you agents\\' connections to models.\\nHow CrewAI Compares\\nCrewAI\\'s Advantage: CrewAI is built with production in mind. It offers the flexibility of Autogen\\'s conversational agents and the structured process approach of ChatDev, but without the rigidity. CrewAI\\'s processes are designed to be dynamic and adaptable, fitting seamlessly into both development and production workflows.\\nAutogen: While Autogen does good in creating conversational agents capable of working together, it lacks an inherent concept of process. In Autogen, orchestrating agents\\' interactions requires additional programming, which can become complex and cumbersome as the scale of tasks grows.\\nChatDev: ChatDev introduced the idea of processes into the realm of AI agents, but its implementation is quite rigid. Customizations in ChatDev are limited and not geared towards production environments, which can hinder scalability and flexibility in real-world applications.\\nContribution\\nCrewAI is open-source and we welcome contributions. If you\\'re looking to contribute, please:\\nFork the repository.\\nCreate a new branch for your feature.\\nAdd your feature or improvement.\\nSend a pull request.\\nWe appreciate your input!\\nInstalling Dependencies\\npoetry lock\\npoetry install\\nVirtual Env\\npoetry shell\\nPre-commit hooks\\npre-commit install\\nRunning Tests\\npoetry run pytest\\nRunning static type checks\\npoetry run mypy\\nPackaging\\npoetry build\\nInstalling Locally\\npip install dist/*.tar.gz\\nTelemetry\\nCrewAI uses anonymous telemetry to collect usage data with the main purpose of helping us improve the library by focusing our efforts on the most used features, integrations and tools.\\nIt\\'s pivotal to understand that NO data is collected concerning prompts, task descriptions, agents\\' backstories or goals, usage of tools, API calls, responses, any data processed by the agents, or secrets and environment variables, with the exception of the conditions mentioned. When the share_crew feature is enabled, detailed data including task descriptions, agents\\' backstories or goals, and other specific attributes are collected to provide deeper insights while respecting user privacy. We don\\'t offer a way to disable it now, but we will in the future.\\nData collected includes:\\nVersion of crewAI\\nSo we can understand how many users are using the latest version\\nVersion of Python\\nSo we can decide on what versions to better support\\nGeneral OS (e.g. number of CPUs, macOS/Windows/Linux)\\nSo we know what OS we should focus on and if we could build specific OS related features\\nNumber of agents and tasks in a crew\\nSo we make sure we are testing internally with similar use cases and educate people on the best practices\\nCrew Process being used\\nUnderstand where we should focus our efforts\\nIf Agents are using memory or allowing delegation\\nUnderstand if we improved the features or maybe even drop them\\nIf Tasks are being executed in parallel or sequentially\\nUnderstand if we should focus more on parallel execution\\nLanguage model being used\\nImproved support on most used languages\\nRoles of agents in a crew\\nUnderstand high level use cases so we can build better tools, integrations and examples about it\\nTools names available\\nUnderstand out of the publically available tools, which ones are being used the most so we can improve them\\nUsers can opt-in to Further Telemetry, sharing the complete telemetry data by setting the share_crew attribute to True on their Crews. Enabling share_crew results in the collection of detailed crew and task execution data, including goal, backstory, context, and output of tasks. This enables a deeper insight into usage patterns while respecting the user\\'s choice to share.\\nLicense\\nCrewAI is released under the MIT License.\\nFrequently Asked Questions (FAQ)\\nQ: What is CrewAI?\\nA: CrewAI is a cutting-edge framework for orchestrating role-playing, autonomous AI agents. It enables agents to work together seamlessly, tackling complex tasks through collaborative intelligence.\\nQ: How do I install CrewAI?\\nA: You can install CrewAI using pip:\\npip install crewai\\nFor additional tools, use:\\npip install \\'crewai[tools]\\'\\nQ: Can I use CrewAI with local models?\\nA: Yes, CrewAI supports various LLMs, including local models. You can configure your agents to use local models via tools like Ollama & LM Studio. Check the LLM Connections documentation for more details.\\nQ: What are the key features of CrewAI?\\nA: Key features include role-based agent design, autonomous inter-agent delegation, flexible task management, process-driven execution, output saving as files, and compatibility with both open-source and proprietary models.\\nQ: How does CrewAI compare to other AI orchestration tools?\\nA: CrewAI is designed with production in mind, offering flexibility similar to Autogen\\'s conversational agents and structured processes like ChatDev, but with more adaptability for real-world applications.\\nQ: Is CrewAI open-source?\\nA: Yes, CrewAI is open-source and welcomes contributions from the community.\\nQ: Does CrewAI collect any data?\\nA: CrewAI uses anonymous telemetry to collect usage data for improvement purposes. No sensitive data (like prompts, task descriptions, or API calls) is collected. Users can opt-in to share more detailed data by setting share_crew=True on their Crews.\\nQ: Where can I find examples of CrewAI in action?\\nA: You can find various real-life examples in the crewAI-examples repository, including trip planners, stock analysis tools, and more.\\nQ: How can I contribute to CrewAI?\\nA: Contributions are welcome! You can fork the repository, create a new branch for your feature, add your improvement, and send a pull request. Check the Contribution section in the README for more details.\\nAbout\\n Framework for orchestrating role-playing, autonomous AI agents. By fostering collaborative intelligence, CrewAI empowers agents to work together seamlessly, tackling complex tasks.\\ncrewai.com\\nTopics\\n ai\\n agents\\n ai-agents\\n llms\\nResources\\n Readme\\nLicense\\n MIT license\\nActivity\\nCustom properties\\nStars\\n19.5k\\n stars\\nWatchers\\n222\\n watching\\nForks\\n2.7k\\n forks\\n Report repository\\n Releases\\n 56\\nv0.63.6\\n Latest\\nSep 25, 2024\\n + 55 releases\\n Packages\\n 0\\n No packages published Used by 3.9k\\n + 3,848\\n Contributors\\n 142\\n + 128 contributors\\nLanguages\\nPython\\n100.0%\\nFooter\\n © 2024 GitHub,\\xa0Inc.\\nFooter navigation\\nTerms\\nPrivacy\\nSecurity\\nStatus\\nDocs\\nContact\\n Manage cookies\\n Do not share my personal information\\n You can’t perform that action at this time.'}\n",
      "\n",
      "\u001b[1m\u001b[30mObservation: The websites for TaskGen and CrewAI have been successfully scraped, providing detailed descriptions of both frameworks. TaskGen is a task-based agentic framework using StrictJSON, while CrewAI focuses on orchestrating role-playing, autonomous AI agents for collaborative intelligence.\u001b[0m\n",
      "\u001b[1m\u001b[32mThoughts: Now that I have the descriptions of both frameworks, I need to analyze the differences between them based on the scraped data. This will involve comparing their key features, functionalities, and intended use cases to provide a clear distinction between TaskGen and CrewAI.\u001b[0m\n",
      "\u001b[1m\u001b[34mSubtask identified: Analyze the scraped data from both TaskGen and CrewAI to identify and summarize the key differences between the two frameworks, focusing on their functionalities and use cases.\u001b[0m\n",
      "Getting LLM to perform the following task: Analyze the scraped data from both TaskGen and CrewAI to identify and summarize the key differences between the two frameworks, focusing on their functionalities and use cases.\n",
      "> The analysis of the scraped data from TaskGen and CrewAI reveals several key differences between the two frameworks, particularly in their functionalities and use cases:\n",
      "\n",
      "1. **Core Purpose and Design Philosophy**:\n",
      "   - **TaskGen** is designed as a task-based agentic framework that utilizes StrictJSON as its core. It focuses on breaking down tasks into subtasks, allowing for efficient execution and management of complex workflows. Its design emphasizes structured outputs and type checking, making it suitable for applications that require precise data handling and task execution.\n",
      "   - **CrewAI**, on the other hand, is centered around orchestrating role-playing, autonomous AI agents. It fosters collaborative intelligence, enabling agents to work together seamlessly on complex tasks. CrewAI is built to facilitate multi-agent interactions, making it ideal for scenarios where teamwork and role delegation are essential.\n",
      "\n",
      "2. **Agent Functionality**:\n",
      "   - **TaskGen** allows for the creation of agents that can perform specific tasks with a focus on efficiency and minimal verbosity. Agents in TaskGen are designed to generate subtasks and execute them without unnecessary dialogue, which enhances performance in task-oriented environments.\n",
      "   - **CrewAI** features role-based agents that can assume specific roles and goals, allowing for more dynamic interactions. Agents can autonomously delegate tasks among themselves, enhancing problem-solving capabilities and making it suitable for collaborative projects.\n",
      "\n",
      "3. **Task Management**:\n",
      "   - In **TaskGen**, tasks are split into subtasks, and the framework supports a structured approach to task execution. This makes it particularly useful for applications that require clear delineation of responsibilities and outputs.\n",
      "   - **CrewAI** supports flexible task management, allowing tasks to be defined with customizable tools and assigned dynamically to agents. This flexibility is beneficial for projects that require adaptability and real-time adjustments to task assignments.\n",
      "\n",
      "4. **Processes and Execution**:\n",
      "   - **TaskGen** primarily supports sequential task execution, focusing on the completion of tasks in a linear fashion. This approach is effective for straightforward task management but may lack the flexibility needed for more complex workflows.\n",
      "   - **CrewAI** supports both sequential and hierarchical processes, allowing for more complex task orchestration. This capability enables better coordination among agents, making it suitable for larger projects that require oversight and management of multiple tasks simultaneously.\n",
      "\n",
      "5. **Use Cases**:\n",
      "   - **TaskGen** is well-suited for applications that require structured task execution, such as automated workflows, data processing, and environments where output precision is critical.\n",
      "   - **CrewAI** is ideal for scenarios that involve collaborative efforts, such as automated customer service systems, multi-agent research teams, and any application where agents need to work together towards a common goal.\n",
      "\n",
      "In summary, while both frameworks aim to enhance the capabilities of AI agents, TaskGen focuses on structured task execution and efficiency, whereas CrewAI emphasizes collaborative intelligence and dynamic role-based interactions. The choice between the two would depend on the specific requirements of the project, such as the need for structured outputs versus collaborative capabilities.\n",
      "\n",
      "\u001b[1m\u001b[30mObservation: The scraping of both TaskGen and CrewAI has been completed, providing detailed insights into their functionalities, design philosophies, and use cases. The analysis has highlighted key differences between the two frameworks, focusing on their core purposes, agent functionalities, task management, execution processes, and suitable use cases.\u001b[0m\n",
      "\u001b[1m\u001b[32mThoughts: To complete the remainder of the assigned task, I need to summarize the key differences identified in the analysis into a concise format that clearly outlines the distinctions between TaskGen and CrewAI. This summary should be structured and easy to understand, allowing the user to quickly grasp the differences.\u001b[0m\n",
      "\u001b[1m\u001b[34mSubtask identified: Generate a concise summary of the key differences between TaskGen and CrewAI based on the analysis of the scraped data, focusing on their functionalities and use cases.\u001b[0m\n",
      "Getting LLM to perform the following task: Generate a concise summary of the key differences between TaskGen and CrewAI based on the analysis of the scraped data, focusing on their functionalities and use cases.\n",
      "> The analysis of the scraped data from TaskGen and CrewAI highlights several key differences in their functionalities and use cases:\n",
      "\n",
      "1. **Core Purpose**: TaskGen is a task-based framework utilizing StrictJSON, focusing on breaking down tasks into subtasks for efficient execution. In contrast, CrewAI orchestrates role-playing autonomous AI agents, promoting collaborative intelligence for complex tasks.\n",
      "\n",
      "2. **Agent Functionality**: TaskGen agents are designed for efficiency, generating and executing subtasks with minimal dialogue. CrewAI agents are role-based, allowing for dynamic interactions and autonomous task delegation among agents.\n",
      "\n",
      "3. **Task Management**: TaskGen employs a structured approach to task execution, ideal for applications needing clear responsibility delineation. CrewAI offers flexible task management, enabling real-time adjustments and dynamic tool assignments.\n",
      "\n",
      "4. **Execution Processes**: TaskGen primarily supports sequential task execution, suitable for straightforward workflows. CrewAI accommodates both sequential and hierarchical processes, enhancing coordination for larger projects.\n",
      "\n",
      "5. **Use Cases**: TaskGen excels in structured environments like automated workflows and data processing, while CrewAI is better suited for collaborative applications such as automated customer service and multi-agent research teams.\n",
      "\n",
      "In summary, TaskGen emphasizes structured task execution and efficiency, whereas CrewAI focuses on collaborative intelligence and dynamic interactions, making the choice between them dependent on project-specific needs.\n",
      "\n",
      "\u001b[1m\u001b[30mObservation: The scraping of both TaskGen and CrewAI has been completed, providing detailed insights into their functionalities and use cases. The analysis has highlighted key differences between the two frameworks, including their core purposes, agent functionalities, task management approaches, execution processes, and suitable use cases.\u001b[0m\n",
      "\u001b[1m\u001b[32mThoughts: To complete the assigned task, I need to generate a concise summary of the key differences between TaskGen and CrewAI based on the analysis of the scraped data. This summary should focus on their functionalities and use cases, ensuring clarity and brevity.\u001b[0m\n",
      "\u001b[1m\u001b[34mSubtask identified: Generate a concise summary of the key differences between TaskGen and CrewAI based on the analysis of the scraped data, focusing on their functionalities and use cases.\u001b[0m\n",
      "Getting LLM to perform the following task: Generate a concise summary of the key differences between TaskGen and CrewAI based on the analysis of the scraped data, focusing on their functionalities and use cases.\n",
      "> The analysis of the scraped data from TaskGen and CrewAI highlights several key differences in their functionalities and use cases:\n",
      "\n",
      "1. **Core Purpose**: TaskGen is a task-based framework utilizing StrictJSON, focusing on breaking down tasks into subtasks for efficient execution. In contrast, CrewAI orchestrates role-playing autonomous AI agents, promoting collaborative intelligence for complex tasks.\n",
      "\n",
      "2. **Agent Functionality**: TaskGen agents are designed for efficiency, generating and executing subtasks with minimal dialogue. CrewAI agents are role-based, allowing for dynamic interactions and autonomous task delegation among agents.\n",
      "\n",
      "3. **Task Management**: TaskGen employs a structured approach to task execution, ideal for applications needing clear responsibility delineation. CrewAI offers flexible task management, enabling real-time adjustments and dynamic tool assignments.\n",
      "\n",
      "4. **Execution Processes**: TaskGen primarily supports sequential task execution, suitable for straightforward workflows. CrewAI accommodates both sequential and hierarchical processes, enhancing coordination for larger projects.\n",
      "\n",
      "5. **Use Cases**: TaskGen excels in structured environments like automated workflows and data processing, while CrewAI is better suited for collaborative applications such as automated customer service and multi-agent research teams.\n",
      "\n",
      "In summary, TaskGen emphasizes structured task execution and efficiency, whereas CrewAI focuses on collaborative intelligence and dynamic interactions, making the choice between them dependent on project-specific needs.\n",
      "\n"
     ]
    },
    {
     "data": {
      "text/plain": [
       "[{'output_1': 'GitHub - simbianai/taskgen: Task-based Agentic Framework using StrictJSON as the core\\nSkip to content\\nNavigation Menu\\nToggle navigation\\n Sign in\\n Product\\nActions\\n Automate any workflow\\nPackages\\n Host and manage packages\\nSecurity\\n Find and fix vulnerabilities\\nCodespaces\\n Instant dev environments\\nGitHub Copilot\\n Write better code with AI\\nCode review\\n Manage code changes\\nIssues\\n Plan and track work\\nDiscussions\\n Collaborate outside of code\\nExplore\\n All features\\n Documentation\\n GitHub Skills\\n Blog\\n Solutions\\nBy size\\n Enterprise\\n Teams\\n Startups\\nBy industry\\n Healthcare\\n Financial services\\n Manufacturing\\nBy use case\\n CI/CD & Automation\\n DevOps\\n DevSecOps\\n Resources\\nTopics\\n AI\\n DevOps\\n Security\\n Software Development\\n View all\\nExplore\\n Learning Pathways\\n White papers, Ebooks, Webinars\\n Customer Stories\\n Partners\\n Open Source\\nGitHub Sponsors\\n Fund open source developers\\nThe ReadME Project\\n GitHub community articles\\nRepositories\\n Topics\\n Trending\\n Collections\\n Enterprise\\nEnterprise platform\\n AI-powered developer platform\\nAvailable add-ons\\nAdvanced Security\\n Enterprise-grade security features\\nGitHub Copilot\\n Enterprise-grade AI features\\nPremium Support\\n Enterprise-grade 24/7 support\\nPricing\\nSearch or jump to...\\nSearch code, repositories, users, issues, pull requests...\\n Search\\nClear\\n Search syntax tips\\n Provide feedback\\nWe read every piece of feedback, and take your input very seriously.\\nInclude my email address so I can be contacted\\n Cancel\\n Submit feedback\\n Saved searches\\nUse saved searches to filter your results more quickly\\nName\\nQuery\\n To see all available qualifiers, see our documentation.\\n Cancel\\n Create saved search\\n Sign in\\n Sign up\\nReseting focus\\nYou signed in with another tab or window. Reload to refresh your session.\\nYou signed out in another tab or window. Reload to refresh your session.\\nYou switched accounts on another tab or window. Reload to refresh your session.\\nDismiss alert\\n simbianai\\n/\\ntaskgen\\nPublic\\nNotifications\\n You must be signed in to change notification settings\\nFork\\n 39\\n Star\\n 393\\n Task-based Agentic Framework using StrictJSON as the core\\nLicense\\n MIT license\\n393\\n stars\\n39\\n forks\\nBranches\\nTags\\nActivity\\n Star\\nNotifications\\n You must be signed in to change notification settings\\nCode\\nIssues\\n0\\nPull requests\\n0\\nActions\\nProjects\\n0\\nSecurity\\nInsights\\nAdditional navigation options\\n Code\\n Issues\\n Pull requests\\n Actions\\n Projects\\n Security\\n Insights\\nsimbianai/taskgen\\nThis commit does not belong to any branch on this repository, and may belong to a fork outside of the repository.\\n \\xa0mainBranchesTagsGo to fileCodeFolders and filesNameNameLast commit messageLast commit dateLatest commit\\xa0History286 CommitsPaperPaper\\xa0\\xa0contribcontrib\\xa0\\xa0resourcesresources\\xa0\\xa0taskgentaskgen\\xa0\\xa0.example.env.example.env\\xa0\\xa0.gitignore.gitignore\\xa0\\xa0LICENSELICENSE\\xa0\\xa0README.mdREADME.md\\xa0\\xa0TaskGen Ask Me Anything.ipynbTaskGen Ask Me Anything.ipynb\\xa0\\xa0Tutorial 0 - StrictJSON.ipynbTutorial 0 - StrictJSON.ipynb\\xa0\\xa0Tutorial 1 - Agent.ipynbTutorial 1 - Agent.ipynb\\xa0\\xa0Tutorial 2 - Shared Variables and Global Context.ipynbTutorial 2 - Shared Variables and Global Context.ipynb\\xa0\\xa0Tutorial 3 - Memory.ipynbTutorial 3 - Memory.ipynb\\xa0\\xa0Tutorial 4 - Hierarchical Agents.ipynbTutorial 4 - Hierarchical Agents.ipynb\\xa0\\xa0Tutorial 5 - CodeGen and External Function Interfacing.ipynbTutorial 5 - CodeGen and External Function Interfacing.ipynb\\xa0\\xa0Tutorial 6 - Conversation Class.ipynbTutorial 6 - Conversation Class.ipynb\\xa0\\xa0changelog.txtchangelog.txt\\xa0\\xa0myagent.pklmyagent.pkl\\xa0\\xa0pyproject.tomlpyproject.toml\\xa0\\xa0react.pdfreact.pdf\\xa0\\xa0requirements.txtrequirements.txt\\xa0\\xa0setup.pysetup.py\\xa0\\xa0View all filesRepository files navigationREADMEMIT licenseTaskGen v3.3.4\\nA Task-based agentic framework building on StrictJSON outputs by LLM agents\\nAn Open Source Initiative Led by John Tan Chong Min, Supported by Simbian AI\\nHow to contribute to TaskGen: https://www.youtube.com/watch?v=BqLeA13n6KI\\nDiscussion Channel (John\\'s AI Group): https://discord.gg/bzp87AHJy5\\nDocumentation (Credit: Brian Lim): https://taskgen.readthedocs.io/en/latest/taskgen/index.html\\nPaper: https://web3.arxiv.org/pdf/2407.15734\\nVideo: https://www.youtube.com/watch?v=F3usuxs2p1Y\\nRelated Repositories: StrictJSON (https://github.com/tanchongmin/strictjson) [Do help star this as well!]\\nOther related videos:\\nTaskGen Details (Part 1): https://www.youtube.com/watch?v=O_XyTT7QGH4\\nTaskGen Details (Part 2): https://www.youtube.com/watch?v=OWk7moRfTPE\\nTaskGen Ask Me Anything: https://www.youtube.com/watch?v=mheIWKugqF4\\nOutreach / Consultancy Services:\\nAs part of our outreach efforts, we are actively providing consultation services to integrate TaskGen into your production pipelines. Contact John or Brian to schedule an appointment!\\nCreator\\'s Preamble\\nHappy to share that the task-based agentic framework I have been working on - TaskGen - is largely complete!\\nNoteable features include:\\nSplitting of Tasks into subtasks for bite-sized solutions for each subtask\\nSingle Agent with LLM Functions\\nSingle Agent with External Functions\\nMeta Agent with Inner Agents as Functions\\nShared Variables for multi-modality support\\nRetrieval Augmented Generation (RAG) over Function space\\nMemory to provide additional task-based prompts for task\\nGlobal Context for configuring your own prompts + add persistent variables\\nAsync mode for Agent, Function and strict_json added\\nCommunity Uploading and Downloading of Agent and Functions\\nI am quite sure that this is the best open-source agentic framework for task-based execution out there!\\nExisting frameworks like AutoGen rely too much on conversational text which is lengthy and not targeted.\\nTaskGen uses StrictJSON (JSON parser with type checking and more!) as the core, and agents are efficient and are able to do Chain of Thought natively using JSON keys and descriptions as a guide.\\nWhat can you do to help (see contrib folder for more details):\\nStar the github so more people can use it (It\\'s open source and free to use, even commercially!)\\nContribute template Jupyter Notebooks for your favourite use cases so it can be much more boilerplate for others to use :)\\nContribute Agent Wrappers that imbue additional functions to the base agent (e.g Planner, Reflector, Conversation)\\nContribute Memory classes that allow the Agent to store and extract various kinds of memories according to the task\\nI can\\'t wait to see what this new framework can do for you!\\nBenefits of JSON messaging over agentic frameworks using conversational free-text like AutoGen\\nJSON format helps do Chain-of-Thought prompting naturally and is less verbose than free text\\nJSON format allows natural parsing of multiple output fields by agents\\nStrictJSON helps to ensure all output fields are there and of the right format required for downstream processing\\nCreator Info\\nCreated: 17 Feb 2024 by John Tan Chong Min\\nCo-developer / Lead Contributor: Prince Saroj\\nLead Documentation: Brian Lim\\nTaskGen Paper Research Staff: Prince Saroj, Hardik Maheshwari, Bharat Runwal, Brian Lim, Richard Cottrill\\nTaskGen Mentors / Funders: Ambuj Kumar, Alankrit Chona, Mehul Motani\\nCollaborators welcome\\nHow do I use this?\\nDownload package via command line pip install taskgen-ai\\nSet up your LLM and provide any API keys if needed\\nImport the required functions from taskgen and use them!\\nDifferences in LLM for Agentic Framework\\nDefault model is now gpt-4o-mini if you do not specify any LLM!\\nWeaker models like ChatGPT (gpt-3.5-turbo) and Llama 3 8B are consistent only if you specify very clearly what you want the Agent to do and give examples of what you want\\ngpt-4o-mini, gpt-4o, Llama 3 70B and more advanced models can perform better zero-shot without much examples\\nTaskGen is compatible with ChatGPT and similar models, but for more robust use, consider using gpt-4o-mini and better models\\n1. Agent Basics\\nCreate an agent by entering your agent\\'s name and description\\nAgents are task-based, so they will help generate subtasks to fulfil your main task\\nAgents are made to be non-verbose, so they will just focus only on task instruction (Much more efficient compared to conversational-based agentic frameworks like AutoGen)\\nAgent\\'s interactions will be stored into subtasks_completed by default, which will serve as a memory buffer for future interactions\\nInputs for Agent:\\nagent_name: String. Name of agent, hinting at what the agent does\\nagent_description: String. Short description of what the agent does\\nmax_subtasks: Int. Default: 5. The maximum number of subtasks the agent can have\\nverbose: Bool. Default: True. Whether to print out agent\\'s intermediate thoughts\\nllm: Function. The LLM to be used by the Agent\\nAgent Internal Parameters:\\nTask: String. The task the agent has been assigned to - Defaults to \"No task assigned\"\\nSubtasks Completed: Dict. The keys are the subtask names and the values are the result of the respective subtask\\nIs Task Completed: Bool. Whether the current Task is completed\\nTask Running\\nreset(): Resets the Agent Internal Parameters and Subtasks Completed. You should do this at the start of every new task assigned to the Agent to minimise potential confusion of what has been done for this task versus previous tasks\\nrun(task: str, num_subtasks: int = max_subtasks): Performs the task. Do note that agent\\'s state will not be reset, so if you want to reset it, call reset() prior to running this. Runs the task for num_subtasks steps. If not specified, we will take the max_subtasks.\\nGive User Output\\nreply_user(query: str = \\'\\', stateful: bool = True): Using all information from subtasks, give a reply about the query to the user. If query is not given, then it replies based on the current task the agent is doing. If stateful is True, saves this query and reply into subtasks_completed\\nCheck status of Agent:\\nstatus(): Lists out Agent Name, Agent Description, Available Functions (default function is to use the LLM), Task, Subtasks Completed and Is Task Completed\\nExample Agent Creation\\nmy_agent = Agent(\\'Helpful assistant\\', \\'You are a generalist agent\\', llm = llm)\\nExample Agent Task Running - Split the assigned task into subtasks and execute each of them\\noutput = my_agent.run(\\'Give me 5 words rhyming with cool, and make a 4-sentence poem using them\\')\\nSubtask identified: Find 5 words that rhyme with \\'cool\\'\\nGetting LLM to perform the following task: Find 5 words that rhyme with \\'cool\\'\\npool, rule, fool, tool, school\\nSubtask identified: Compose a 4-sentence poem using the words \\'pool\\', \\'rule\\', \\'fool\\', \\'tool\\', and \\'school\\'\\nGetting LLM to perform the following task: Compose a 4-sentence poem using the words \\'pool\\', \\'rule\\', \\'fool\\', \\'tool\\', and \\'school\\'\\nIn the school, the golden rule is to never be a fool. Use your mind as a tool, and always follow the pool.\\nTask completed successfully!\\nCheck Agent\\'s Status\\nmy_agent.status()\\nAgent Name: Helpful assistant\\nAgent Description: You are a generalist agent\\nAvailable Functions: [\\'use_llm\\', \\'end_task\\']\\nTask: Give me 5 words rhyming with cool, and make a 4-sentence poem using them\\nSubtasks Completed:\\nSubtask: Find 5 words that rhyme with \\'cool\\'\\npool, rule, fool, tool, school\\nSubtask: Compose a 4-sentence poem using the words \\'pool\\', \\'rule\\', \\'fool\\', \\'tool\\', and \\'school\\'\\nIn the school, the golden rule is to never be a fool. Use your mind as a tool, and always follow the pool.\\nIs Task Completed: True\\nExample Agent Reply to User - Reference the subtasks\\' output to answer the user\\'s query\\noutput = my_agent.reply_user()\\nHere are 5 words that rhyme with \"cool\": pool, rule, fool, tool, school. Here is a 4-sentence poem using these words: \"In the school, the golden rule is to never be a fool. Use your mind as a tool, and always follow the pool.\"\\n2. Power Up your Agents - Bring in Functions (aka Tools)\\nFirst define the functions, either using class Function (see Tutorial 0), or just any Python function with input and output types defined in the signature and with a docstring\\nAfter creating your agent, use assign_functions to assign a list of functions of class Function, or general Python functions (which will be converted to AsyncFunction)\\nFunction names will be automatically inferred if not specified\\nProceed to run tasks by using run()\\n# This is an example of an LLM-based function (see Tutorial 0)\\nsentence_style = Function(fn_description = \\'Output a sentence with words <var1> and <var2> in the style of <var3>\\', output_format = {\\'output\\': \\'sentence\\'},\\n fn_name = \\'sentence_with_objects_entities_emotion\\',\\n llm = llm)\\n# This is an example of an external user-defined function (see Tutorial 0)\\ndef binary_to_decimal(binary_number: str) -> int:\\n \\'\\'\\'Converts binary_number to integer of base 10\\'\\'\\'\\n return int(str(binary_number), 2)\\n# Initialise your Agent\\nmy_agent = Agent(\\'Helpful assistant\\', \\'You are a generalist agent\\')\\n# Assign the functions\\nmy_agent.assign_functions([sentence_style, binary_to_decimal])\\n# Run the Agent\\noutput = my_agent.run(\\'First convert binary string 1001 to a number, then generate me a happy sentence with that number and a ball\\')\\nSubtask identified: Convert the binary number 1001 to decimal\\nCalling function binary_to_decimal with parameters {\\'x\\': \\'1001\\'}\\n{\\'output1\\': 9}\\nSubtask identified: Generate a happy sentence with the decimal number and a ball\\nCalling function sentence_with_objects_entities_emotion with parameters {\\'obj\\': \\'9\\', \\'entity\\': \\'ball\\', \\'emotion\\': \\'happy\\'}\\n{\\'output\\': \\'I am so happy with my 9 balls.\\'}\\nTask completed successfully!\\nApproach 1: Automatically Run your agent using run()\\nApproach 2: Manually select and use functions for your task\\nselect_function(task: str): Based on the task, output the next function name and input parameters\\nuse_function(function_name: str, function_params: dict, subtask: str = \\'\\', stateful: bool = True): Uses the function named function_name with function_params. stateful controls whether the output of this function will be saved to subtasks_completed under the key of subtask\\nAssign/Remove Functions:\\nassign_functions(function_list: list): Assigns a list of functions to the agent\\nremove_function(function_name: str): Removes function named function_name from the list of assigned functions\\nShow Functions:\\nlist_functions(): Returns the list of functions of the agent\\nprint_functions(): Prints the list of functions of the agent\\n3. AsyncAgent\\nAsyncAgent works the same way as Agent, only much faster due to parallelisation of tasks\\nIt can only be assigned functions of class AsyncFunction, or general Python functions (which will be converted to AsyncFunction)\\nIf you define your own AsyncFunction, you should define the fn_name as well if it is not an External Function\\nAs a rule of thumb, just add the await keyword to any function that you run with the AsyncAgent\\nExample LLM in Async Mode\\nasync def llm_async(system_prompt: str, user_prompt: str):\\n \\'\\'\\' Here, we use OpenAI for illustration, you can change it to your own LLM \\'\\'\\'\\n # ensure your LLM imports are all within this function\\n from openai import AsyncOpenAI\\n # define your own LLM here\\n client = AsyncOpenAI()\\n response = await client.chat.completions.create(\\n model=\\'gpt-4o-mini\\',\\n temperature = 0,\\n messages=[\\n {\"role\": \"system\", \"content\": system_prompt},\\n {\"role\": \"user\", \"content\": user_prompt}\\n ]\\n )\\n return response.choices[0].message.content\\nExample Agentic Workflow\\n# This is an example of an LLM-based function (see Tutorial 0)\\nsentence_style = AsyncFunction(fn_description = \\'Output a sentence with words <var1> and <var2> in the style of <var3>\\', output_format = {\\'output\\': \\'sentence\\'},\\n fn_name = \\'sentence_with_objects_entities_emotion\\', # you must define fn_name for LLM-based functions\\n llm = llm_async) # use an async LLM function\\n# This is an example of an external user-defined function (see Tutorial 0)\\ndef binary_to_decimal(binary_number: str) -> int:\\n \\'\\'\\'Converts binary_number to integer of base 10\\'\\'\\'\\n return int(str(binary_number), 2)\\n# Initialise your Agent\\nmy_agent = AsyncAgent(\\'Helpful assistant\\', \\'You are a generalist agent\\')\\n# Assign the functions\\nmy_agent.assign_functions([sentence_style, binary_to_decimal])\\n# Run the Agent\\noutput = await my_agent.run(\\'Generate me a happy sentence with a number and a ball. The number is b1001 converted to decimal\\')\\n4. Shared Variables\\n\"Because text is not enough\" - Anonymous\\nshared_variables is a dictionary, that is initialised in Agent (default empty dictionary), and can be referenced by any function of the agent (including Inner Agents and their functions)\\nThis can be useful for non-text modalitiies (e.g. audio, pdfs, image) and lengthy text modalities, which we do not want to output into subtasks_completed directly\\nTo use, simply define an External Function with shared_variables as the first input variable, from which you can access and modify shared_variables directly\\nThe agent will also be able to be self-referenced in the External Function via shared_variables[\\'agent\\'], so you can change the agent\\'s internal parameters via shared_variables\\nIf the function has no output because the output is stored in shared_variables, the default return value will be {\\'Status\\': \\'Completed\\'}\\nExample External Function using shared_variables\\n# Use shared_variables as input to your external function to access and modify the shared variables\\ndef generate_quotes(shared_variables, number_of_quotes: int, category: str):\\n \\'\\'\\' Generates number_of_quotes quotes about category \\'\\'\\'\\n # Retrieve from shared variables\\n my_quote_list = shared_variables[\\'Quote List\\']\\n # Generate the quotes\\n res = strict_json(system_prompt = f\\'\\'\\'Generate {number_of_quotes} sentences about {category}. \\nDo them in the format \"<Quote> - <Person>\", e.g. \"The way to get started is to quit talking and begin doing. - Walt Disney\"\\nEnsure your quotes contain only \\' within the quote, and are enclosed by \" \\'\\'\\',\\n user_prompt = \\'\\',\\n output_format = {\\'Quote List\\': f\\'list of {number_of_quotes} quotes, type: List[str]\\'},\\n llm = llm)\\n my_quote_list.extend([f\\'Category: {category}. \\'+ x for x in res[\\'Quote List\\']])\\n # Store back to shared variables\\n shared_variables[\\'Quote List\\'] = my_quote_list\\n5. Global Context\\nGlobal Context is a very powerful feature in TaskGen, as it allows the Agent to be updated with the latest environmental state before every decision it makes\\nIt also allows for learnings in shared_variables to be carried across tasks, making the Agent teachable and learn through experiences\\nA recommended practice is to always store the learnings of the Agent during the External Function call, and reset the Agent after each task, so that subtasks_completed will be as short as possible to avoid confusion to the Agent\\nThere are two ways to use Global Context, and both can be used concurrently:\\nglobal_context\\nIf all you need in the global context is shared_variables without any modification to it, then you can use global_context\\nglobal_context is a string with <shared_variables_name> enclosed with <>. These <> will be replaced with the actual variable in shared_variables\\nget_global_context\\nget_global_context is a function that takes in the agent\\'s internal parameters (self) and outputs a string to the LLM to append to the prompts of any LLM-based calls internally, e.g. get_next_subtask, use_llm, reply_to_user\\nYou have full flexibility to access anything the agent knows and process the shared_variables as required and configure a global prompt to the agent\\nExample for global_context : Inventory Manager\\nWe can use Global Context to keep track of inventory state\\nWe simply get the functions add_item_to_inventory and remove_item_from_inventory to modify the shared_variable named Inventory\\nNote we can also put rule-based checks like checking if item is in inventory before removing inside the function\\nEven after task reset, the Agent still knows the inventory because of Global Context\\ndef add_item_to_inventory(shared_variables, item: str) -> str:\\n \\'\\'\\' Adds item to inventory, and returns outcome of action \\'\\'\\'\\n shared_variables[\\'Inventory\\'].append(item)\\n return f\\'{item} successfully added to Inventory\\'\\ndef remove_item_from_inventory(shared_variables, item: str) -> str:\\n \\'\\'\\' Removes item from inventory and returns outcome of action \\'\\'\\'\\n if item in shared_variables[\\'Inventory\\']:\\n shared_variables[\\'Inventory\\'].remove(item)\\n return f\\'{item} successfully removed from Inventory\\'\\n else:\\n return f\\'{item} not found in Inventory, unable to remove\\'\\nagent = Agent(\\'Inventory Manager\\', \\'Adds and removes items in Inventory. Only able to remove items if present in Inventory\\',\\n shared_variables = {\\'Inventory\\': []},\\n global_context = \\'Inventory: <Inventory>\\', # Add in Global Context here with shared_variables Inventory\\n llm = llm).assign_functions([add_item_to_inventory, remove_item_from_inventory])\\nOther Features\\nThere are other features like Memory (Tutorial 3), Hierarchical Agents (Tutorial 4), CodeGen and External Function Interfacing (Tutorial 5), Conversation Class (Tutorial 6)\\nThese extend the baseline features of TaskGen and you are encouraged to take a look at the Tutorials for more information.\\nKnown Limitations\\ngpt-3.5-turbo is not that great with mathematical functions for Agents. Use gpt-4o-mini or better for more consistent results\\ngpt-3.5-turbo is not that great with Memory (Tutorial 3). Use gpt-4o-mini or better for more consistent results\\nContributing to the project\\nTest locally\\nClone the repository\\nIf using a virtual environment, activate it\\ncd into taskgen repository\\nInstall the package via command line pip install -e .\\nNow you can import the package and use it in your code\\nSubmitting a pull request\\nFork the repository\\nCreate a new branch\\nMake your changes\\nPush your changes to your fork\\nSubmit a pull request\\nWhat are we looking out for?\\nContributing example Agents and Functions. Agents can now be contributed easily using agent.contribute_agent() and the entire Agent code with all the functions and memory will be converted to text-based code and put on the TaskGen GitHub. Do share your use cases actively so that other people can benefit :) These Agents can be downloaded by others via agent.load_community_agent(agent_name)\\nJupyter Notebooks showcasing what could be done with the framework for something useful. Let your imagination guide you, we look forward to see what you create\\nOther Known Limitations - Do test the framework out extensively and note its failure cases. We will see if we can address them, if not we will put them in Known Limitations.\\n(For the prompt engineer). If you could find a better way to make the prompts work, let us know directly - we do need to test this out across all Tutorial Jupyter Notebooks to make sure that it really works with existing datasets. Also, if you are using other LLMs beside OpenAI, and find the prompts do not work as well - try to rejig your own prompts and let us know as well!\\nAbout\\n Task-based Agentic Framework using StrictJSON as the core\\nResources\\n Readme\\nLicense\\n MIT license\\nActivity\\nCustom properties\\nStars\\n393\\n stars\\nWatchers\\n7\\n watching\\nForks\\n39\\n forks\\n Report repository\\n Releases\\nNo releases published\\n Packages\\n 0\\n No packages published Contributors\\n 7\\nLanguages\\nJupyter Notebook\\n95.8%\\nPython\\n4.2%\\nFooter\\n © 2024 GitHub,\\xa0Inc.\\nFooter navigation\\nTerms\\nPrivacy\\nSecurity\\nStatus\\nDocs\\nContact\\n Manage cookies\\n Do not share my personal information\\n You can’t perform that action at this time.'},\n",
       " {'output_1': 'GitHub - crewAIInc/crewAI: Framework for orchestrating role-playing, autonomous AI agents. By fostering collaborative intelligence, CrewAI empowers agents to work together seamlessly, tackling complex tasks.\\nSkip to content\\nNavigation Menu\\nToggle navigation\\n Sign in\\n Product\\nActions\\n Automate any workflow\\nPackages\\n Host and manage packages\\nSecurity\\n Find and fix vulnerabilities\\nCodespaces\\n Instant dev environments\\nGitHub Copilot\\n Write better code with AI\\nCode review\\n Manage code changes\\nIssues\\n Plan and track work\\nDiscussions\\n Collaborate outside of code\\nExplore\\n All features\\n Documentation\\n GitHub Skills\\n Blog\\n Solutions\\nBy size\\n Enterprise\\n Teams\\n Startups\\nBy industry\\n Healthcare\\n Financial services\\n Manufacturing\\nBy use case\\n CI/CD & Automation\\n DevOps\\n DevSecOps\\n Resources\\nTopics\\n AI\\n DevOps\\n Security\\n Software Development\\n View all\\nExplore\\n Learning Pathways\\n White papers, Ebooks, Webinars\\n Customer Stories\\n Partners\\n Open Source\\nGitHub Sponsors\\n Fund open source developers\\nThe ReadME Project\\n GitHub community articles\\nRepositories\\n Topics\\n Trending\\n Collections\\n Enterprise\\nEnterprise platform\\n AI-powered developer platform\\nAvailable add-ons\\nAdvanced Security\\n Enterprise-grade security features\\nGitHub Copilot\\n Enterprise-grade AI features\\nPremium Support\\n Enterprise-grade 24/7 support\\nPricing\\nSearch or jump to...\\nSearch code, repositories, users, issues, pull requests...\\n Search\\nClear\\n Search syntax tips\\n Provide feedback\\nWe read every piece of feedback, and take your input very seriously.\\nInclude my email address so I can be contacted\\n Cancel\\n Submit feedback\\n Saved searches\\nUse saved searches to filter your results more quickly\\nName\\nQuery\\n To see all available qualifiers, see our documentation.\\n Cancel\\n Create saved search\\n Sign in\\n Sign up\\nReseting focus\\nYou signed in with another tab or window. Reload to refresh your session.\\nYou signed out in another tab or window. Reload to refresh your session.\\nYou switched accounts on another tab or window. Reload to refresh your session.\\nDismiss alert\\n crewAIInc\\n/\\ncrewAI\\nPublic\\nNotifications\\n You must be signed in to change notification settings\\nFork\\n 2.7k\\n Star\\n 19.5k\\n Framework for orchestrating role-playing, autonomous AI agents. By fostering collaborative intelligence, CrewAI empowers agents to work together seamlessly, tackling complex tasks.\\ncrewai.com\\nLicense\\n MIT license\\n19.5k\\n stars\\n2.7k\\n forks\\nBranches\\nTags\\nActivity\\n Star\\nNotifications\\n You must be signed in to change notification settings\\nCode\\nIssues\\n115\\nPull requests\\n35\\nDiscussions\\nActions\\nProjects\\n0\\nSecurity\\nInsights\\nAdditional navigation options\\n Code\\n Issues\\n Pull requests\\n Discussions\\n Actions\\n Projects\\n Security\\n Insights\\ncrewAIInc/crewAI\\nThis commit does not belong to any branch on this repository, and may belong to a fork outside of the repository.\\n \\xa0mainBranchesTagsGo to fileCodeFolders and filesNameNameLast commit messageLast commit dateLatest commit\\xa0History806 Commits.cache/plugin/social.cache/plugin/social\\xa0\\xa0.github.github\\xa0\\xa0docsdocs\\xa0\\xa0src/crewaisrc/crewai\\xa0\\xa0teststests\\xa0\\xa0.editorconfig.editorconfig\\xa0\\xa0.gitignore.gitignore\\xa0\\xa0.pre-commit-config.yaml.pre-commit-config.yaml\\xa0\\xa0LICENSELICENSE\\xa0\\xa0README.mdREADME.md\\xa0\\xa0crewAI.excalidrawcrewAI.excalidraw\\xa0\\xa0mkdocs.ymlmkdocs.yml\\xa0\\xa0poetry.lockpoetry.lock\\xa0\\xa0pyproject.tomlpyproject.toml\\xa0\\xa0View all filesRepository files navigationREADMEMIT license\\ncrewAI\\n🤖 crewAI: Cutting-edge framework for orchestrating role-playing, autonomous AI agents. By fostering collaborative intelligence, CrewAI empowers agents to work together seamlessly, tackling complex tasks.\\nHomepage | Documentation | Chat with Docs | Examples | Discourse\\nTable of contents\\nWhy CrewAI?\\nGetting Started\\nKey Features\\nExamples\\nQuick Tutorial\\nWrite Job Descriptions\\nTrip Planner\\nStock Analysis\\nConnecting Your Crew to a Model\\nHow CrewAI Compares\\nContribution\\nTelemetry\\nLicense\\nWhy CrewAI?\\nThe power of AI collaboration has too much to offer.\\nCrewAI is designed to enable AI agents to assume roles, share goals, and operate in a cohesive unit - much like a well-oiled crew. Whether you\\'re building a smart assistant platform, an automated customer service ensemble, or a multi-agent research team, CrewAI provides the backbone for sophisticated multi-agent interactions.\\nGetting Started\\nTo get started with CrewAI, follow these simple steps:\\n1. Installation\\npip install crewai\\nIf you want to install the \\'crewai\\' package along with its optional features that include additional tools for agents, you can do so by using the following command: pip install \\'crewai[tools]\\'. This command installs the basic package and also adds extra components which require more dependencies to function.\"\\npip install \\'crewai[tools]\\'\\n2. Setting Up Your Crew\\nimport os\\nfrom crewai import Agent, Task, Crew, Process\\nfrom crewai_tools import SerperDevTool\\nos.environ[\"OPENAI_API_KEY\"] = \"YOUR_API_KEY\"\\nos.environ[\"SERPER_API_KEY\"] = \"Your Key\" # serper.dev API key\\n# It can be a local model through Ollama / LM Studio or a remote\\n# model like OpenAI, Mistral, Antrophic or others (https://docs.crewai.com/how-to/LLM-Connections/)\\n# Define your agents with roles and goals\\nresearcher = Agent(\\n role=\\'Senior Research Analyst\\',\\n goal=\\'Uncover cutting-edge developments in AI and data science\\',\\n backstory=\"\"\"You work at a leading tech think tank.\\n Your expertise lies in identifying emerging trends.\\n You have a knack for dissecting complex data and presenting actionable insights.\"\"\",\\n verbose=True,\\n allow_delegation=False,\\n # You can pass an optional llm attribute specifying what model you wanna use.\\n # llm=ChatOpenAI(model_name=\"gpt-3.5\", temperature=0.7),\\n tools=[SerperDevTool()]\\n)\\nwriter = Agent(\\n role=\\'Tech Content Strategist\\',\\n goal=\\'Craft compelling content on tech advancements\\',\\n backstory=\"\"\"You are a renowned Content Strategist, known for your insightful and engaging articles.\\n You transform complex concepts into compelling narratives.\"\"\",\\n verbose=True,\\n allow_delegation=True\\n)\\n# Create tasks for your agents\\ntask1 = Task(\\n description=\"\"\"Conduct a comprehensive analysis of the latest advancements in AI in 2024.\\n Identify key trends, breakthrough technologies, and potential industry impacts.\"\"\",\\n expected_output=\"Full analysis report in bullet points\",\\n agent=researcher\\n)\\ntask2 = Task(\\n description=\"\"\"Using the insights provided, develop an engaging blog\\n post that highlights the most significant AI advancements.\\n Your post should be informative yet accessible, catering to a tech-savvy audience.\\n Make it sound cool, avoid complex words so it doesn\\'t sound like AI.\"\"\",\\n expected_output=\"Full blog post of at least 4 paragraphs\",\\n agent=writer\\n)\\n# Instantiate your crew with a sequential process\\ncrew = Crew(\\n agents=[researcher, writer],\\n tasks=[task1, task2],\\n verbose=True,\\n process = Process.sequential\\n)\\n# Get your crew to work!\\nresult = crew.kickoff()\\nprint(\"######################\")\\nprint(result)\\nIn addition to the sequential process, you can use the hierarchical process, which automatically assigns a manager to the defined crew to properly coordinate the planning and execution of tasks through delegation and validation of results. See more about the processes here.\\nKey Features\\nRole-Based Agent Design: Customize agents with specific roles, goals, and tools.\\nAutonomous Inter-Agent Delegation: Agents can autonomously delegate tasks and inquire amongst themselves, enhancing problem-solving efficiency.\\nFlexible Task Management: Define tasks with customizable tools and assign them to agents dynamically.\\nProcesses Driven: Currently only supports sequential task execution and hierarchical processes, but more complex processes like consensual and autonomous are being worked on.\\nSave output as file: Save the output of individual tasks as a file, so you can use it later.\\nParse output as Pydantic or Json: Parse the output of individual tasks as a Pydantic model or as a Json if you want to.\\nWorks with Open Source Models: Run your crew using Open AI or open source models refer to the Connect crewAI to LLMs page for details on configuring your agents\\' connections to models, even ones running locally!\\nExamples\\nYou can test different real life examples of AI crews in the crewAI-examples repo:\\nLanding Page Generator\\nHaving Human input on the execution\\nTrip Planner\\nStock Analysis\\nQuick Tutorial\\nWrite Job Descriptions\\nCheck out code for this example or watch a video below:\\nTrip Planner\\nCheck out code for this example or watch a video below:\\nStock Analysis\\nCheck out code for this example or watch a video below:\\nConnecting Your Crew to a Model\\ncrewAI supports using various LLMs through a variety of connection options. By default your agents will use the OpenAI API when querying the model. However, there are several other ways to allow your agents to connect to models. For example, you can configure your agents to use a local model via the Ollama tool.\\nPlease refer to the Connect crewAI to LLMs page for details on configuring you agents\\' connections to models.\\nHow CrewAI Compares\\nCrewAI\\'s Advantage: CrewAI is built with production in mind. It offers the flexibility of Autogen\\'s conversational agents and the structured process approach of ChatDev, but without the rigidity. CrewAI\\'s processes are designed to be dynamic and adaptable, fitting seamlessly into both development and production workflows.\\nAutogen: While Autogen does good in creating conversational agents capable of working together, it lacks an inherent concept of process. In Autogen, orchestrating agents\\' interactions requires additional programming, which can become complex and cumbersome as the scale of tasks grows.\\nChatDev: ChatDev introduced the idea of processes into the realm of AI agents, but its implementation is quite rigid. Customizations in ChatDev are limited and not geared towards production environments, which can hinder scalability and flexibility in real-world applications.\\nContribution\\nCrewAI is open-source and we welcome contributions. If you\\'re looking to contribute, please:\\nFork the repository.\\nCreate a new branch for your feature.\\nAdd your feature or improvement.\\nSend a pull request.\\nWe appreciate your input!\\nInstalling Dependencies\\npoetry lock\\npoetry install\\nVirtual Env\\npoetry shell\\nPre-commit hooks\\npre-commit install\\nRunning Tests\\npoetry run pytest\\nRunning static type checks\\npoetry run mypy\\nPackaging\\npoetry build\\nInstalling Locally\\npip install dist/*.tar.gz\\nTelemetry\\nCrewAI uses anonymous telemetry to collect usage data with the main purpose of helping us improve the library by focusing our efforts on the most used features, integrations and tools.\\nIt\\'s pivotal to understand that NO data is collected concerning prompts, task descriptions, agents\\' backstories or goals, usage of tools, API calls, responses, any data processed by the agents, or secrets and environment variables, with the exception of the conditions mentioned. When the share_crew feature is enabled, detailed data including task descriptions, agents\\' backstories or goals, and other specific attributes are collected to provide deeper insights while respecting user privacy. We don\\'t offer a way to disable it now, but we will in the future.\\nData collected includes:\\nVersion of crewAI\\nSo we can understand how many users are using the latest version\\nVersion of Python\\nSo we can decide on what versions to better support\\nGeneral OS (e.g. number of CPUs, macOS/Windows/Linux)\\nSo we know what OS we should focus on and if we could build specific OS related features\\nNumber of agents and tasks in a crew\\nSo we make sure we are testing internally with similar use cases and educate people on the best practices\\nCrew Process being used\\nUnderstand where we should focus our efforts\\nIf Agents are using memory or allowing delegation\\nUnderstand if we improved the features or maybe even drop them\\nIf Tasks are being executed in parallel or sequentially\\nUnderstand if we should focus more on parallel execution\\nLanguage model being used\\nImproved support on most used languages\\nRoles of agents in a crew\\nUnderstand high level use cases so we can build better tools, integrations and examples about it\\nTools names available\\nUnderstand out of the publically available tools, which ones are being used the most so we can improve them\\nUsers can opt-in to Further Telemetry, sharing the complete telemetry data by setting the share_crew attribute to True on their Crews. Enabling share_crew results in the collection of detailed crew and task execution data, including goal, backstory, context, and output of tasks. This enables a deeper insight into usage patterns while respecting the user\\'s choice to share.\\nLicense\\nCrewAI is released under the MIT License.\\nFrequently Asked Questions (FAQ)\\nQ: What is CrewAI?\\nA: CrewAI is a cutting-edge framework for orchestrating role-playing, autonomous AI agents. It enables agents to work together seamlessly, tackling complex tasks through collaborative intelligence.\\nQ: How do I install CrewAI?\\nA: You can install CrewAI using pip:\\npip install crewai\\nFor additional tools, use:\\npip install \\'crewai[tools]\\'\\nQ: Can I use CrewAI with local models?\\nA: Yes, CrewAI supports various LLMs, including local models. You can configure your agents to use local models via tools like Ollama & LM Studio. Check the LLM Connections documentation for more details.\\nQ: What are the key features of CrewAI?\\nA: Key features include role-based agent design, autonomous inter-agent delegation, flexible task management, process-driven execution, output saving as files, and compatibility with both open-source and proprietary models.\\nQ: How does CrewAI compare to other AI orchestration tools?\\nA: CrewAI is designed with production in mind, offering flexibility similar to Autogen\\'s conversational agents and structured processes like ChatDev, but with more adaptability for real-world applications.\\nQ: Is CrewAI open-source?\\nA: Yes, CrewAI is open-source and welcomes contributions from the community.\\nQ: Does CrewAI collect any data?\\nA: CrewAI uses anonymous telemetry to collect usage data for improvement purposes. No sensitive data (like prompts, task descriptions, or API calls) is collected. Users can opt-in to share more detailed data by setting share_crew=True on their Crews.\\nQ: Where can I find examples of CrewAI in action?\\nA: You can find various real-life examples in the crewAI-examples repository, including trip planners, stock analysis tools, and more.\\nQ: How can I contribute to CrewAI?\\nA: Contributions are welcome! You can fork the repository, create a new branch for your feature, add your improvement, and send a pull request. Check the Contribution section in the README for more details.\\nAbout\\n Framework for orchestrating role-playing, autonomous AI agents. By fostering collaborative intelligence, CrewAI empowers agents to work together seamlessly, tackling complex tasks.\\ncrewai.com\\nTopics\\n ai\\n agents\\n ai-agents\\n llms\\nResources\\n Readme\\nLicense\\n MIT license\\nActivity\\nCustom properties\\nStars\\n19.5k\\n stars\\nWatchers\\n222\\n watching\\nForks\\n2.7k\\n forks\\n Report repository\\n Releases\\n 56\\nv0.63.6\\n Latest\\nSep 25, 2024\\n + 55 releases\\n Packages\\n 0\\n No packages published Used by 3.9k\\n + 3,848\\n Contributors\\n 142\\n + 128 contributors\\nLanguages\\nPython\\n100.0%\\nFooter\\n © 2024 GitHub,\\xa0Inc.\\nFooter navigation\\nTerms\\nPrivacy\\nSecurity\\nStatus\\nDocs\\nContact\\n Manage cookies\\n Do not share my personal information\\n You can’t perform that action at this time.'},\n",
       " 'The analysis of the scraped data from TaskGen and CrewAI reveals several key differences between the two frameworks, particularly in their functionalities and use cases:\\n\\n1. **Core Purpose and Design Philosophy**:\\n   - **TaskGen** is designed as a task-based agentic framework that utilizes StrictJSON as its core. It focuses on breaking down tasks into subtasks, allowing for efficient execution and management of complex workflows. Its design emphasizes structured outputs and type checking, making it suitable for applications that require precise data handling and task execution.\\n   - **CrewAI**, on the other hand, is centered around orchestrating role-playing, autonomous AI agents. It fosters collaborative intelligence, enabling agents to work together seamlessly on complex tasks. CrewAI is built to facilitate multi-agent interactions, making it ideal for scenarios where teamwork and role delegation are essential.\\n\\n2. **Agent Functionality**:\\n   - **TaskGen** allows for the creation of agents that can perform specific tasks with a focus on efficiency and minimal verbosity. Agents in TaskGen are designed to generate subtasks and execute them without unnecessary dialogue, which enhances performance in task-oriented environments.\\n   - **CrewAI** features role-based agents that can assume specific roles and goals, allowing for more dynamic interactions. Agents can autonomously delegate tasks among themselves, enhancing problem-solving capabilities and making it suitable for collaborative projects.\\n\\n3. **Task Management**:\\n   - In **TaskGen**, tasks are split into subtasks, and the framework supports a structured approach to task execution. This makes it particularly useful for applications that require clear delineation of responsibilities and outputs.\\n   - **CrewAI** supports flexible task management, allowing tasks to be defined with customizable tools and assigned dynamically to agents. This flexibility is beneficial for projects that require adaptability and real-time adjustments to task assignments.\\n\\n4. **Processes and Execution**:\\n   - **TaskGen** primarily supports sequential task execution, focusing on the completion of tasks in a linear fashion. This approach is effective for straightforward task management but may lack the flexibility needed for more complex workflows.\\n   - **CrewAI** supports both sequential and hierarchical processes, allowing for more complex task orchestration. This capability enables better coordination among agents, making it suitable for larger projects that require oversight and management of multiple tasks simultaneously.\\n\\n5. **Use Cases**:\\n   - **TaskGen** is well-suited for applications that require structured task execution, such as automated workflows, data processing, and environments where output precision is critical.\\n   - **CrewAI** is ideal for scenarios that involve collaborative efforts, such as automated customer service systems, multi-agent research teams, and any application where agents need to work together towards a common goal.\\n\\nIn summary, while both frameworks aim to enhance the capabilities of AI agents, TaskGen focuses on structured task execution and efficiency, whereas CrewAI emphasizes collaborative intelligence and dynamic role-based interactions. The choice between the two would depend on the specific requirements of the project, such as the need for structured outputs versus collaborative capabilities.',\n",
       " 'The analysis of the scraped data from TaskGen and CrewAI highlights several key differences in their functionalities and use cases:\\n\\n1. **Core Purpose**: TaskGen is a task-based framework utilizing StrictJSON, focusing on breaking down tasks into subtasks for efficient execution. In contrast, CrewAI orchestrates role-playing autonomous AI agents, promoting collaborative intelligence for complex tasks.\\n\\n2. **Agent Functionality**: TaskGen agents are designed for efficiency, generating and executing subtasks with minimal dialogue. CrewAI agents are role-based, allowing for dynamic interactions and autonomous task delegation among agents.\\n\\n3. **Task Management**: TaskGen employs a structured approach to task execution, ideal for applications needing clear responsibility delineation. CrewAI offers flexible task management, enabling real-time adjustments and dynamic tool assignments.\\n\\n4. **Execution Processes**: TaskGen primarily supports sequential task execution, suitable for straightforward workflows. CrewAI accommodates both sequential and hierarchical processes, enhancing coordination for larger projects.\\n\\n5. **Use Cases**: TaskGen excels in structured environments like automated workflows and data processing, while CrewAI is better suited for collaborative applications such as automated customer service and multi-agent research teams.\\n\\nIn summary, TaskGen emphasizes structured task execution and efficiency, whereas CrewAI focuses on collaborative intelligence and dynamic interactions, making the choice between them dependent on project-specific needs.',\n",
       " 'The analysis of the scraped data from TaskGen and CrewAI highlights several key differences in their functionalities and use cases:\\n\\n1. **Core Purpose**: TaskGen is a task-based framework utilizing StrictJSON, focusing on breaking down tasks into subtasks for efficient execution. In contrast, CrewAI orchestrates role-playing autonomous AI agents, promoting collaborative intelligence for complex tasks.\\n\\n2. **Agent Functionality**: TaskGen agents are designed for efficiency, generating and executing subtasks with minimal dialogue. CrewAI agents are role-based, allowing for dynamic interactions and autonomous task delegation among agents.\\n\\n3. **Task Management**: TaskGen employs a structured approach to task execution, ideal for applications needing clear responsibility delineation. CrewAI offers flexible task management, enabling real-time adjustments and dynamic tool assignments.\\n\\n4. **Execution Processes**: TaskGen primarily supports sequential task execution, suitable for straightforward workflows. CrewAI accommodates both sequential and hierarchical processes, enhancing coordination for larger projects.\\n\\n5. **Use Cases**: TaskGen excels in structured environments like automated workflows and data processing, while CrewAI is better suited for collaborative applications such as automated customer service and multi-agent research teams.\\n\\nIn summary, TaskGen emphasizes structured task execution and efficiency, whereas CrewAI focuses on collaborative intelligence and dynamic interactions, making the choice between them dependent on project-specific needs.']"
      ]
     },
     "execution_count": 17,
     "metadata": {},
     "output_type": "execute_result"
    }
   ],
   "source": [
    "agent.reset()\n",
    "agent.run('What are the differences between TaskGen (\"https://github.com/simbianai/taskgen\") and CrewAI (\"https://github.com/joaomdmoura/CrewAI\")?')"
   ]
  },
  {
   "cell_type": "code",
   "execution_count": 18,
   "id": "910d658e-89e4-4530-972d-e4a37f9f2437",
   "metadata": {
    "tags": []
   },
   "outputs": [
    {
     "name": "stdout",
     "output_type": "stream",
     "text": [
      "The key imports needed for the frameworks based on the scraped data are as follows:\n",
      "\n",
      "For **TaskGen**:\n",
      "- There are no specific imports mentioned in the scraped data for TaskGen, but it is implied that the framework would require imports related to its core functionalities, such as JSON handling and task management.\n",
      "\n",
      "For **CrewAI**:\n",
      "- `import os`\n",
      "- `from crewai import Agent, Task, Crew, Process`\n",
      "- `from crewai_tools import SerperDevTool`\n",
      "\n",
      "These imports are essential for setting up the CrewAI framework, defining agents, tasks, and managing the crew processes. Additionally, environment variables for API keys are set using `os.environ`. The specific API keys required are:\n",
      "- `OPENAI_API_KEY`\n",
      "- `SERPER_API_KEY` (for the SerperDevTool)\n",
      "\n",
      "In summary, while TaskGen does not specify imports, CrewAI requires the above imports to function effectively.\n"
     ]
    },
    {
     "data": {
      "text/plain": [
       "'The key imports needed for the frameworks based on the scraped data are as follows:\\n\\nFor **TaskGen**:\\n- There are no specific imports mentioned in the scraped data for TaskGen, but it is implied that the framework would require imports related to its core functionalities, such as JSON handling and task management.\\n\\nFor **CrewAI**:\\n- `import os`\\n- `from crewai import Agent, Task, Crew, Process`\\n- `from crewai_tools import SerperDevTool`\\n\\nThese imports are essential for setting up the CrewAI framework, defining agents, tasks, and managing the crew processes. Additionally, environment variables for API keys are set using `os.environ`. The specific API keys required are:\\n- `OPENAI_API_KEY`\\n- `SERPER_API_KEY` (for the SerperDevTool)\\n\\nIn summary, while TaskGen does not specify imports, CrewAI requires the above imports to function effectively.'"
      ]
     },
     "execution_count": 18,
     "metadata": {},
     "output_type": "execute_result"
    }
   ],
   "source": [
    "agent.reply_user('What are the key imports needed?')"
   ]
  },
  {
   "cell_type": "code",
   "execution_count": 19,
   "id": "3c8fbd4a-ab85-4e03-88cd-6e17924e8fdb",
   "metadata": {
    "tags": []
   },
   "outputs": [
    {
     "name": "stdout",
     "output_type": "stream",
     "text": [
      "The scraped data does not provide specific version compatibility information for the packages used in TaskGen. However, for CrewAI, it mentions the following regarding dependencies and installation:\n",
      "\n",
      "- To install CrewAI, the command is `pip install crewai`. For additional tools, the command is `pip install 'crewai[tools]'`, which installs the basic package along with extra components that require more dependencies to function.\n",
      "- The installation process also includes using `poetry` for managing dependencies, with commands like `poetry lock` and `poetry install` suggested for setting up the environment.\n",
      "- There is no explicit mention of compatible versions of Python or other packages in the scraped data for either framework.\n",
      "\n",
      "In summary, while CrewAI provides some installation commands and mentions the use of `poetry`, there is no detailed version compatibility information available for either TaskGen or CrewAI from the scraped data.\n"
     ]
    },
    {
     "data": {
      "text/plain": [
       "\"The scraped data does not provide specific version compatibility information for the packages used in TaskGen. However, for CrewAI, it mentions the following regarding dependencies and installation:\\n\\n- To install CrewAI, the command is `pip install crewai`. For additional tools, the command is `pip install 'crewai[tools]'`, which installs the basic package along with extra components that require more dependencies to function.\\n- The installation process also includes using `poetry` for managing dependencies, with commands like `poetry lock` and `poetry install` suggested for setting up the environment.\\n- There is no explicit mention of compatible versions of Python or other packages in the scraped data for either framework.\\n\\nIn summary, while CrewAI provides some installation commands and mentions the use of `poetry`, there is no detailed version compatibility information available for either TaskGen or CrewAI from the scraped data.\""
      ]
     },
     "execution_count": 19,
     "metadata": {},
     "output_type": "execute_result"
    }
   ],
   "source": [
    "agent.reply_user('What version of packages are they compatible with?')"
   ]
  },
  {
   "cell_type": "markdown",
   "id": "2a0c8158-7cd7-4bdd-8402-40e55bb55566",
   "metadata": {},
   "source": [
    "# LangChain Structured Tools Interface with TaskGen\n",
    "- If User defines a function in LangChain, simply just add <fn_name>.func to TaskGen Agent"
   ]
  },
  {
   "cell_type": "code",
   "execution_count": 20,
   "id": "a529f507-3a54-497d-9c0c-3e5e1c12a308",
   "metadata": {
    "tags": []
   },
   "outputs": [],
   "source": [
    "from langchain_core.tools import tool\n",
    "\n",
    "@tool\n",
    "def add(num1: int, num2: int) -> int:\n",
    "    \"\"\"Adds num1 and num2.\"\"\"\n",
    "    return num1 + num2\n",
    "\n",
    "\n",
    "@tool\n",
    "def multiply(num1: int, num2: int) -> int:\n",
    "    \"\"\"Multiplies num1 and num2.\"\"\"\n",
    "    return num1 * num2\n",
    "\n",
    "\n",
    "tools = [add, multiply]"
   ]
  },
  {
   "cell_type": "code",
   "execution_count": 21,
   "id": "4e0f6992-0fb3-4124-82e2-41f8a299dabb",
   "metadata": {
    "tags": []
   },
   "outputs": [],
   "source": [
    "from taskgen import Agent\n",
    "agent = Agent('Math Whiz', 'Does calculations',\n",
    "             llm = llm).assign_functions([add.func, multiply.func])"
   ]
  },
  {
   "cell_type": "code",
   "execution_count": 22,
   "id": "5e011a86-35f6-4922-803b-184f86c6a331",
   "metadata": {
    "tags": []
   },
   "outputs": [
    {
     "data": {
      "text/plain": [
       "[\"Name: use_llm\\nDescription: For general tasks. Used only when no other function can do the task\\nInput: []\\nOutput: {'Output': 'Output of LLM'}\\n\",\n",
       " 'Name: end_task\\nDescription: Passes the final output to the user\\nInput: []\\nOutput: {}\\n',\n",
       " \"Name: add\\nDescription: Adds <num1: int> and <num2: int>.\\nInput: ['num1', 'num2']\\nOutput: {'output_1': 'int'}\\n\",\n",
       " \"Name: multiply\\nDescription: Multiplies <num1: int> and <num2: int>.\\nInput: ['num1', 'num2']\\nOutput: {'output_1': 'int'}\\n\"]"
      ]
     },
     "execution_count": 22,
     "metadata": {},
     "output_type": "execute_result"
    }
   ],
   "source": [
    "agent.list_functions()"
   ]
  },
  {
   "cell_type": "code",
   "execution_count": 23,
   "id": "5506cd63-51c5-43e6-99b4-d4068579d7b3",
   "metadata": {
    "tags": []
   },
   "outputs": [
    {
     "name": "stdout",
     "output_type": "stream",
     "text": [
      "\u001b[1m\u001b[30mObservation: No subtasks have been completed yet for the assigned task of calculating 3*5 + 3.\u001b[0m\n",
      "\u001b[1m\u001b[32mThoughts: To complete the assigned task, I need to first perform the multiplication of 3 and 5, and then add 3 to the result.\u001b[0m\n",
      "\u001b[1m\u001b[34mSubtask identified: Multiply 3 and 5 to get the first part of the calculation.\u001b[0m\n",
      "Calling function multiply with parameters {'num1': 3, 'num2': 5}\n",
      "> {'output_1': 15}\n",
      "\n",
      "\u001b[1m\u001b[30mObservation: The multiplication of 3 and 5 has been completed, resulting in 15.\u001b[0m\n",
      "\u001b[1m\u001b[32mThoughts: Now, I need to add 3 to the result of the multiplication to complete the calculation for the assigned task.\u001b[0m\n",
      "\u001b[1m\u001b[34mSubtask identified: Add 15 and 3 to get the final result of the assigned task.\u001b[0m\n",
      "Calling function add with parameters {'num1': 15, 'num2': 3}\n",
      "> {'output_1': 18}\n",
      "\n",
      "\u001b[1m\u001b[30mObservation: The multiplication of 3 and 5 has been completed, resulting in 15. Additionally, 15 has been added to 3, yielding a final result of 18.\u001b[0m\n",
      "\u001b[1m\u001b[32mThoughts: The Assigned Task has been fully completed as the calculation 3*5 + 3 has been executed, and the final result is available.\u001b[0m\n",
      "\u001b[1m\u001b[34mSubtask identified: End Task\u001b[0m\n",
      "Task completed successfully!\n",
      "\n"
     ]
    },
    {
     "data": {
      "text/plain": [
       "[{'output_1': 15}, {'output_1': 18}]"
      ]
     },
     "execution_count": 23,
     "metadata": {},
     "output_type": "execute_result"
    }
   ],
   "source": [
    "agent.run('Calculate 3*5 + 3')"
   ]
  },
  {
   "cell_type": "markdown",
   "id": "d2cfcddc-b3cf-4d1c-8749-89827b901b06",
   "metadata": {},
   "source": [
    "# LangChain Community Tools Interface with TaskGen\n",
    "- See https://python.langchain.com/v0.2/docs/integrations/providers/ for full list\n",
    "- Wikipedia\n",
    "- Python REPL (not that great to run many things - have created my own in TaskGen)"
   ]
  },
  {
   "cell_type": "code",
   "execution_count": 134,
   "id": "72872030-d4dc-4bc6-8351-73f6fd8c214a",
   "metadata": {
    "tags": []
   },
   "outputs": [],
   "source": [
    "# !pip -q install wikipedia"
   ]
  },
  {
   "cell_type": "code",
   "execution_count": 24,
   "id": "0e866e88-8f0d-4aaf-a12e-ae7fb91dea3d",
   "metadata": {
    "tags": []
   },
   "outputs": [],
   "source": [
    "def wikipedia_tool(search_query: str) -> str:\n",
    "    ''' Uses search_query and returns text from wikipedia '''\n",
    "    from langchain.tools import WikipediaQueryRun\n",
    "    from langchain.utilities import WikipediaAPIWrapper\n",
    "\n",
    "    return WikipediaQueryRun(api_wrapper=WikipediaAPIWrapper()).run(search_query)"
   ]
  },
  {
   "cell_type": "code",
   "execution_count": 25,
   "id": "9e4cbb92-7e2e-483d-b372-7560c6bd1622",
   "metadata": {
    "tags": []
   },
   "outputs": [
    {
     "data": {
      "text/plain": [
       "'Page: Joe Biden\\nSummary: Joseph Robinette Biden Jr. (born November 20, 1942) is an American politici'"
      ]
     },
     "execution_count": 25,
     "metadata": {},
     "output_type": "execute_result"
    }
   ],
   "source": [
    "wikipedia_tool('Joe Biden')[:100]"
   ]
  },
  {
   "cell_type": "code",
   "execution_count": 26,
   "id": "113648d9-8b57-4449-8681-dfc86385d6dd",
   "metadata": {
    "tags": []
   },
   "outputs": [],
   "source": [
    "def python_repl_tool(python_code: str) -> str:\n",
    "    ''' Runs python_code, returns the final result, or any debugging errors '''\n",
    "    from langchain.utilities import PythonREPL\n",
    "    \n",
    "    return PythonREPL().run(python_code)"
   ]
  },
  {
   "cell_type": "code",
   "execution_count": 27,
   "id": "163cf349-c8b0-444e-a64d-e46f1a72853a",
   "metadata": {
    "tags": []
   },
   "outputs": [
    {
     "name": "stderr",
     "output_type": "stream",
     "text": [
      "2024-09-25 11:41:09,105 - 140704365209344 - python.py-python:16 - WARNING: Python REPL can execute arbitrary code. Use with caution.\n"
     ]
    },
    {
     "data": {
      "text/plain": [
       "'8\\n'"
      ]
     },
     "execution_count": 27,
     "metadata": {},
     "output_type": "execute_result"
    }
   ],
   "source": [
    "python_repl_tool('print(3+5)')"
   ]
  },
  {
   "cell_type": "markdown",
   "id": "e9ccfac6-5614-4661-8cc2-28a931d6f625",
   "metadata": {
    "tags": []
   },
   "source": [
    "# LlamaIndex Function Interface with TaskGen\n",
    "- If User defines a function in LlamaIndex, simply just add <fn_name>.fn to TaskGen Agent\n",
    "- TODO: Add structure for other kinds of functions in LlamaIndex"
   ]
  },
  {
   "cell_type": "code",
   "execution_count": 139,
   "id": "bf5305ec-75ca-402d-b143-3ca9b189317e",
   "metadata": {},
   "outputs": [],
   "source": [
    "# !pip install llama-index"
   ]
  },
  {
   "cell_type": "code",
   "execution_count": 28,
   "id": "cd7cad1e-abe9-4f13-9478-ccabd02338e4",
   "metadata": {
    "tags": []
   },
   "outputs": [],
   "source": [
    "from llama_index.core.tools import FunctionTool\n",
    "\n",
    "def get_weather(location: str) -> str:\n",
    "    \"\"\"Useful for getting the weather for a given location\"\"\"\n",
    "    return 'Sunny'\n",
    "    ...\n",
    "\n",
    "tool = FunctionTool.from_defaults(\n",
    "    get_weather,\n",
    "    # async_fn=aget_weather,  # optional!\n",
    ")"
   ]
  },
  {
   "cell_type": "code",
   "execution_count": 29,
   "id": "a5dbfa06-9849-4864-b775-094bcf98e401",
   "metadata": {
    "tags": []
   },
   "outputs": [],
   "source": [
    "agent = Agent('Weather Agent', 'Returns the Weather',\n",
    "             llm = llm).assign_functions(tool.fn)"
   ]
  },
  {
   "cell_type": "code",
   "execution_count": 30,
   "id": "366387df-b36c-44a1-b45a-fa6cd2b58fa0",
   "metadata": {
    "tags": []
   },
   "outputs": [
    {
     "data": {
      "text/plain": [
       "[\"Name: use_llm\\nDescription: For general tasks. Used only when no other function can do the task\\nInput: []\\nOutput: {'Output': 'Output of LLM'}\\n\",\n",
       " 'Name: end_task\\nDescription: Passes the final output to the user\\nInput: []\\nOutput: {}\\n',\n",
       " \"Name: get_weather\\nDescription: Useful for getting the weather for a given <location: str>\\nInput: ['location']\\nOutput: {'output_1': 'str'}\\n\"]"
      ]
     },
     "execution_count": 30,
     "metadata": {},
     "output_type": "execute_result"
    }
   ],
   "source": [
    "agent.list_functions()"
   ]
  },
  {
   "cell_type": "code",
   "execution_count": 31,
   "id": "29544561-a87c-4190-ad87-9d9f4c3cb235",
   "metadata": {
    "tags": []
   },
   "outputs": [
    {
     "name": "stdout",
     "output_type": "stream",
     "text": [
      "\u001b[1m\u001b[30mObservation: No subtasks have been completed yet for the assigned task of retrieving the weather in Miami.\u001b[0m\n",
      "\u001b[1m\u001b[32mThoughts: To complete the assigned task, I need to use the get_weather function to obtain the current weather for Miami.\u001b[0m\n",
      "\u001b[1m\u001b[34mSubtask identified: Use the get_weather function to fetch the weather information for Miami.\u001b[0m\n",
      "Calling function get_weather with parameters {'location': 'Miami'}\n",
      "> {'output_1': 'Sunny'}\n",
      "\n",
      "\u001b[1m\u001b[30mObservation: The weather in Miami has been successfully retrieved and is reported as Sunny.\u001b[0m\n",
      "\u001b[1m\u001b[32mThoughts: Since the weather information for Miami has been obtained, the next step is to provide this information to the user as the final output.\u001b[0m\n",
      "\u001b[1m\u001b[34mSubtask identified: End Task\u001b[0m\n",
      "Task completed successfully!\n",
      "\n"
     ]
    },
    {
     "data": {
      "text/plain": [
       "[{'output_1': 'Sunny'}]"
      ]
     },
     "execution_count": 31,
     "metadata": {},
     "output_type": "execute_result"
    }
   ],
   "source": [
    "agent.run('What is the weather in Miami?')"
   ]
  },
  {
   "cell_type": "markdown",
   "id": "15467ba9-48e8-4c23-943e-dbec1d7d3150",
   "metadata": {},
   "source": [
    "# TaskGen Custom Tools\n",
    "- Some initial tools TaskGen can provide are as follows:\n",
    "    - Code generator: `python_generator_tool`\n",
    "    - Code executor: `python_run_tool`\n",
    "    - Code debugger: `python_debug_tool`\n",
    "    - Code generator, executor and debugger combined: `python_generate_and_run_code_tool`"
   ]
  },
  {
   "cell_type": "code",
   "execution_count": 32,
   "id": "28d0978e-46e8-4d94-add8-63e694001bf0",
   "metadata": {
    "tags": []
   },
   "outputs": [],
   "source": [
    "shared_variables = {'agent': Agent('Generalist Agent', 'Does Everything', llm = llm).assign_functions([wikipedia_tool])}"
   ]
  },
  {
   "cell_type": "code",
   "execution_count": 34,
   "id": "b665c6a5-450b-43a3-a9b8-2167b1aff2b9",
   "metadata": {
    "tags": []
   },
   "outputs": [],
   "source": [
    "def python_generator_tool(shared_variables, instruction: str):\n",
    "    '''Generate code only based on instruction without any additional context.\n",
    "Ensure that you define all variables and list out all imports.\n",
    "You can only import the following modules: math, numpy, random, datetime, re, matplotlib, pandas, plotly\n",
    "Do not define any new functions\n",
    "You are able to use all Equipped Functions except use_llm and end_task\n",
    "The output of Equipped Function will be in a dictionary format\n",
    "Ensure all required output are in print()'''\n",
    "    \n",
    "    agent = shared_variables['agent']\n",
    "    \n",
    "    return strict_json(f'''Generate code based only on ```{instruction}``` without additional context.\n",
    "Ensure that you define all variables and list out all imports.\n",
    "You can only import the following modules: math, numpy, random, datetime, re, matplotlib, pandas, plotly\n",
    "Do not define any new functions\n",
    "You are able to use the following Equipped Functions: \n",
    "```{agent.list_functions(\n",
    "fn_list = [agent.function_map[function_name] for function_name in agent.function_map if function_name not in ['use_llm', 'end_task']])}\n",
    "```\n",
    "The output of Equipped Function will be in a dictionary format\n",
    "You must use Equipped Functions whenever possible\n",
    "Ensure all required output are in print()''',\n",
    "                       '',\n",
    "                                     output_format = {'Generated Code': 'type: code'},\n",
    "                      llm = agent.llm)"
   ]
  },
  {
   "cell_type": "code",
   "execution_count": 36,
   "id": "e5513395-eb20-4b05-9582-2f313fa3900a",
   "metadata": {
    "tags": []
   },
   "outputs": [
    {
     "name": "stdout",
     "output_type": "stream",
     "text": [
      "Filtered Function Names: wikipedia_tool\n"
     ]
    },
    {
     "data": {
      "text/plain": [
       "{'Generated Code': 'import math\\n\\n# Initialize variables\\nprimes = []\\nnum = 2\\n\\n# Calculate the first 3 prime numbers\\nwhile len(primes) < 3:\\n    is_prime = True\\n    for i in range(2, int(math.sqrt(num)) + 1):\\n        if num % i == 0:\\n            is_prime = False\\n            break\\n    if is_prime:\\n        primes.append(num)\\n    num += 1\\n\\n# Output the first 3 primes\\nprint(primes)'}"
      ]
     },
     "execution_count": 36,
     "metadata": {},
     "output_type": "execute_result"
    }
   ],
   "source": [
    "python_generator_tool(shared_variables, 'What are the first 3 primes by calculation?')"
   ]
  },
  {
   "cell_type": "code",
   "execution_count": 37,
   "id": "ff8a319d-fbb7-4daa-aca4-452078746523",
   "metadata": {
    "tags": []
   },
   "outputs": [],
   "source": [
    "def python_run_tool(shared_variables, code_snippet: str) -> str:\n",
    "    '''Runs code_snippet and outputs the result of all print statements'''\n",
    "    import sys\n",
    "    import io\n",
    "    import math\n",
    "    import numpy\n",
    "    import random\n",
    "    import datetime\n",
    "    import re\n",
    "    import matplotlib\n",
    "    import pandas\n",
    "    import plotly\n",
    "    \n",
    "    agent = shared_variables['agent']\n",
    "    \n",
    "    # wrap external functions to pass in shared_variables as well\n",
    "    def external_function_wrapper(function_name, shared_variables):\n",
    "        def external_function(**function_params):\n",
    "            return agent.function_map[function_name](shared_variables=shared_variables, **function_params)\n",
    "        return external_function\n",
    "    \n",
    "    # Capture the output\n",
    "    old_stdout = sys.stdout\n",
    "    sys.stdout = io.StringIO()\n",
    "\n",
    "    try:\n",
    "        # Safe environment to execute the user code\n",
    "        allowed_globals = {\n",
    "            '__builtins__': {\n",
    "                'print': print,\n",
    "                'range': range,\n",
    "                'len': len,\n",
    "                'int': int,\n",
    "                'float': float,\n",
    "                'str': str,\n",
    "                'list': list,\n",
    "                'dict': dict,\n",
    "                'set': set,\n",
    "                'tuple': tuple,\n",
    "                'abs': abs,\n",
    "                'min': min,\n",
    "                'max': max,\n",
    "                'sum': sum,\n",
    "                'any': any,\n",
    "                'all': all,\n",
    "                'sorted': sorted,\n",
    "                'zip': zip,\n",
    "                'map': map,\n",
    "                'filter': filter,\n",
    "                '__import__': __import__,\n",
    "                'math': math,  # Allow access to the math module\n",
    "                'datetime': datetime, # Allow access to datetime module\n",
    "                'random': random, # Allow access to random module\n",
    "                'numpy': numpy, # Allow access to numpy module\n",
    "                're': re,\n",
    "                'matplotlib': matplotlib,\n",
    "                'pandas': pandas,\n",
    "                'plotly': plotly\n",
    "            }\n",
    "        }\n",
    "        \n",
    "        # add in equipped functions one by one\n",
    "        for function_name in agent.function_map:\n",
    "            if function_name not in ['use_llm', 'end_task', 'python_generate_and_run_code_tool']:\n",
    "                allowed_globals['__builtins__'][function_name] = external_function_wrapper(function_name, shared_variables)\n",
    "\n",
    "        safe_locals = {}\n",
    "\n",
    "        exec(code_snippet, allowed_globals, safe_locals)\n",
    "        output = sys.stdout.getvalue()\n",
    "    except Exception as e:\n",
    "        output = f\"Error: {e}\"\n",
    "    finally:\n",
    "        # Restore the original stdout\n",
    "        sys.stdout = old_stdout\n",
    "\n",
    "    return output"
   ]
  },
  {
   "cell_type": "code",
   "execution_count": 38,
   "id": "3b24ea1a-8ee8-49b0-8ea3-408807e35bf7",
   "metadata": {
    "tags": []
   },
   "outputs": [
    {
     "data": {
      "text/plain": [
       "'This is a great tool to debug and run code!\\nAwesome!\\n'"
      ]
     },
     "execution_count": 38,
     "metadata": {},
     "output_type": "execute_result"
    }
   ],
   "source": [
    "python_run_tool({'agent': Agent('Generalist Agent', 'Does Everything', llm = llm)},\n",
    "                 'print(\"This is a great tool to debug and run code!\")\\nprint(\"Awesome!\")')"
   ]
  },
  {
   "cell_type": "code",
   "execution_count": 40,
   "id": "ad33dc12-e535-4ec3-854b-8a29e7ac1121",
   "metadata": {
    "tags": []
   },
   "outputs": [],
   "source": [
    "python_debug_tool = Function('''Debugs Python Code and returns corrected code.\n",
    "Instruction: <instruction: str>\n",
    "Current Code: <python_code: str>\n",
    "Error Message: <error_msg: str>''',\n",
    "                                 output_format = {'Thoughts': 'How to correct code', 'Corrected Code': 'type: code'}, \n",
    "                             fn_name = 'python_debug_tool', \n",
    "                             llm = llm)"
   ]
  },
  {
   "cell_type": "code",
   "execution_count": 41,
   "id": "928c5385-23ce-461d-8435-6ad00f462dba",
   "metadata": {
    "tags": []
   },
   "outputs": [
    {
     "data": {
      "text/plain": [
       "{'Thoughts': 'The code has a syntax error due to the incorrect concatenation of the number and the print function. It should be separated properly.',\n",
       " 'Corrected Code': 'result = 3\\nprint(result)'}"
      ]
     },
     "execution_count": 41,
     "metadata": {},
     "output_type": "execute_result"
    }
   ],
   "source": [
    "python_debug_tool('Print result', 'result = 3print(result)', 'invalid decimal literal (<string>, line 1)')"
   ]
  },
  {
   "cell_type": "markdown",
   "id": "37f55b09-def9-4706-98cb-84a84ba2cf54",
   "metadata": {},
   "source": [
    "## Combining all Python Code tools into one\n",
    "- This is like a rule-based agent, doing the three functions inside it, so that we don't have to keep passing in code as input variable to the functions\n",
    "- This is also a context-based function, taking in agent's overall task and subtasks completed via shared_variables"
   ]
  },
  {
   "cell_type": "code",
   "execution_count": 42,
   "id": "04fde2ab-40e9-49e1-a3d2-d36fa899e519",
   "metadata": {
    "tags": []
   },
   "outputs": [],
   "source": [
    "# Uses LLM to generate Code\n",
    "def python_generate_and_run_code(shared_variables, instruction: str) -> str:\n",
    "    ''' Generates and runs code based on instruction. \n",
    "You can only import the following modules: math, numpy, random, datetime, re, matplotlib, pandas, plotly\n",
    "You can use all Equipped Functions except use_llm and end_task. \n",
    "Returns 1) the result of all print statements in code, or error messages, and 2) the code '''\n",
    "    # from termcolor import colored\n",
    "    \n",
    "    # Append context to tool\n",
    "    if shared_variables and 'agent' in shared_variables:\n",
    "        instruction = f\"Context: {shared_variables['agent'].overall_task}\\nPrevious Subtasks: {shared_variables['agent'].subtasks_completed}\\nInstruction: {instruction}\"\n",
    "    # Generate Code\n",
    "    python_code = python_generator_tool(shared_variables, instruction)['Generated Code']\n",
    "    # print(colored(f'Generated code: ```{python_code}```', 'magenta'))\n",
    "    \n",
    "    # Run and Debug Code\n",
    "    for _ in range(3):\n",
    "        output = python_run_tool(shared_variables, python_code)\n",
    "\n",
    "        if output[:5] == \"Error\":\n",
    "            debugged_code = python_debug_tool(instruction, python_code, output)\n",
    "            python_code = debugged_code['Corrected Code']\n",
    "            # print(colored(output, 'red'))\n",
    "            # print(colored(f'Debugged code: ```{python_code}```', 'magenta'))\n",
    "        else:\n",
    "            break\n",
    "            \n",
    "    return output, python_code\n",
    "\n",
    "# Make this function compulsory\n",
    "python_generate_and_run_code_tool = Function(\n",
    "    external_fn = python_generate_and_run_code, \n",
    "    fn_name = 'python_generate_and_run_code_tool', \n",
    "    is_compulsory = True)"
   ]
  },
  {
   "cell_type": "code",
   "execution_count": 43,
   "id": "761e5b7e-cb38-42b4-9b33-49e24f5578ed",
   "metadata": {
    "tags": []
   },
   "outputs": [
    {
     "name": "stdout",
     "output_type": "stream",
     "text": [
      "Filtered Function Names: wikipedia_tool\n"
     ]
    },
    {
     "data": {
      "text/plain": [
       "{'output_1': '[3, 5, 7, 11, 13, 17, 19, 23, 29, 31]\\n',\n",
       " 'output_2': 'import math\\n\\nprimes = []\\nnum = 3\\nwhile len(primes) < 10:\\n    is_prime = True\\n    for i in range(3, int(math.sqrt(num)) + 1, 2):\\n        if num % i == 0:\\n            is_prime = False\\n            break\\n    if is_prime:\\n        primes.append(num)\\n    num += 2\\n\\nprint(primes)'}"
      ]
     },
     "execution_count": 43,
     "metadata": {},
     "output_type": "execute_result"
    }
   ],
   "source": [
    "python_generate_and_run_code_tool(shared_variables = shared_variables, instruction = 'Give me first 10 primes, without 2 and 5')"
   ]
  },
  {
   "cell_type": "markdown",
   "id": "97fcf132-f037-4ad2-9492-c9e30c778db2",
   "metadata": {
    "tags": []
   },
   "source": [
    "# General CodeGen showcase"
   ]
  },
  {
   "cell_type": "code",
   "execution_count": 44,
   "id": "e5a70ecf-a613-441d-b689-c4b09c9583e6",
   "metadata": {},
   "outputs": [],
   "source": [
    "agent = Agent('Generalist Agent', \n",
    "'''Helps user with tasks. When deterministic output or plots are needed, generate and run code. Do not use LLM for calculations.''',\n",
    "             summarise_subtasks_count = 10,\n",
    "             llm = llm).assign_functions(\n",
    "    [wikipedia_tool, python_generate_and_run_code_tool])"
   ]
  },
  {
   "cell_type": "code",
   "execution_count": 45,
   "id": "8ecd00be-93c2-42e3-9865-5341fd290040",
   "metadata": {
    "tags": []
   },
   "outputs": [
    {
     "name": "stdout",
     "output_type": "stream",
     "text": [
      "\u001b[1m\u001b[30mObservation: No subtasks have been completed yet, and the task requires a calculation to determine the final number of apples John has after receiving and giving away some.\u001b[0m\n",
      "\u001b[1m\u001b[32mThoughts: To complete the task, I need to perform a calculation based on the initial number of apples, the apples received, and the apples given away. This can be done using a simple arithmetic operation.\u001b[0m\n",
      "\u001b[1m\u001b[34mSubtask identified: Calculate the final number of apples John has by adding the apples received to the initial amount and then subtracting the apples given away.\u001b[0m\n",
      "Calling function python_generate_and_run_code_tool with parameters {'instruction': 'Calculate the final number of apples John has by adding the apples received to the initial amount and then subtracting the apples given away.'}\n",
      "Filtered Function Names: wikipedia_tool, python_generate_and_run_code_tool\n",
      "> {'output_1': '16\\n', 'output_2': 'import numpy as np\\n\\n# Initial number of apples\\ninitial_apples = 5\\n# Apples received from Mary\\nreceived_apples = 21\\n# Apples given to Tim\\ngiven_apples = 10\\n\\n# Calculate final number of apples\\nfinal_apples = initial_apples + received_apples - given_apples\\nprint(final_apples)'}\n",
      "\n",
      "\u001b[1m\u001b[30mObservation: The calculation for the number of apples John has at the end has been completed, resulting in 16 apples.\u001b[0m\n",
      "\u001b[1m\u001b[32mThoughts: Since the task is complete and the final number of apples has been calculated, I can now proceed to finalize the output for the user.\u001b[0m\n",
      "\u001b[1m\u001b[34mSubtask identified: End Task\u001b[0m\n",
      "Task completed successfully!\n",
      "\n"
     ]
    },
    {
     "data": {
      "text/plain": [
       "[{'output_1': '16\\n',\n",
       "  'output_2': 'import numpy as np\\n\\n# Initial number of apples\\ninitial_apples = 5\\n# Apples received from Mary\\nreceived_apples = 21\\n# Apples given to Tim\\ngiven_apples = 10\\n\\n# Calculate final number of apples\\nfinal_apples = initial_apples + received_apples - given_apples\\nprint(final_apples)'}]"
      ]
     },
     "execution_count": 45,
     "metadata": {},
     "output_type": "execute_result"
    }
   ],
   "source": [
    "agent.reset()\n",
    "agent.run('John has 5 apples. John received another 21 more from Mary, and gave 10 to Tim. How many apples does John have at the end?')"
   ]
  },
  {
   "cell_type": "code",
   "execution_count": 46,
   "id": "63f3c0c3-19e5-4465-af6a-aa24e46c4c9b",
   "metadata": {
    "tags": []
   },
   "outputs": [
    {
     "name": "stdout",
     "output_type": "stream",
     "text": [
      "To determine how many apples John has at the end, we start with the initial number of apples he has, which is 5. John then receives 21 apples from Mary, bringing his total to 5 + 21 = 26 apples. After that, John gives away 10 apples to Tim. Therefore, the final calculation is 26 - 10 = 16 apples. Thus, John has a total of 16 apples at the end.\n"
     ]
    },
    {
     "data": {
      "text/plain": [
       "'To determine how many apples John has at the end, we start with the initial number of apples he has, which is 5. John then receives 21 apples from Mary, bringing his total to 5 + 21 = 26 apples. After that, John gives away 10 apples to Tim. Therefore, the final calculation is 26 - 10 = 16 apples. Thus, John has a total of 16 apples at the end.'"
      ]
     },
     "execution_count": 46,
     "metadata": {},
     "output_type": "execute_result"
    }
   ],
   "source": [
    "agent.reply_user()"
   ]
  },
  {
   "cell_type": "code",
   "execution_count": 47,
   "id": "45745b01-e18a-4863-a356-a25e5ef10d9e",
   "metadata": {
    "tags": []
   },
   "outputs": [
    {
     "name": "stdout",
     "output_type": "stream",
     "text": [
      "\u001b[1m\u001b[30mObservation: No subtasks have been completed yet for the task of plotting the graph of y = 2x^2.\u001b[0m\n",
      "\u001b[1m\u001b[32mThoughts: To complete the task, I need to generate code that will create a plot for the equation y = 2x^2. This involves defining the range of x values, calculating the corresponding y values, and then using a plotting library to visualize the graph.\u001b[0m\n",
      "\u001b[1m\u001b[34mSubtask identified: Generate and run code to plot the graph of y = 2x^2 using a suitable plotting library.\u001b[0m\n",
      "Calling function python_generate_and_run_code_tool with parameters {'instruction': 'Generate and run code to plot the graph of y = 2x^2 using a suitable plotting library.'}\n",
      "Filtered Function Names: wikipedia_tool, python_generate_and_run_code_tool\n"
     ]
    },
    {
     "data": {
      "image/png": "[encoded data removed]",
      "text/plain": [
       "<Figure size 800x600 with 1 Axes>"
      ]
     },
     "metadata": {},
     "output_type": "display_data"
    },
    {
     "name": "stdout",
     "output_type": "stream",
     "text": [
      "> {'output_1': '', 'output_2': 'import numpy as np\\nimport matplotlib.pyplot as plt\\n\\n# Define the range of x values\\nx = np.linspace(-10, 10, 400)\\n# Define the function y = 2x^2\\ny = 2 * x**2\\n\\n# Create the plot\\nplt.figure(figsize=(8, 6))\\nplt.plot(x, y, label=\"y = 2x^2\", color=\"blue\")\\nplt.title(\"Graph of y = 2x^2\")\\nplt.xlabel(\"x\")\\nplt.ylabel(\"y\")\\nplt.axhline(0, color=\\'black\\',linewidth=0.5, ls=\\'--\\')\\nplt.axvline(0, color=\\'black\\',linewidth=0.5, ls=\\'--\\')\\nplt.grid(color = \\'gray\\', linestyle = \\'--\\', linewidth = 0.5)\\nplt.legend()\\nplt.show()'}\n",
      "\n",
      "\u001b[1m\u001b[30mObservation: The code to plot the graph of y = 2x^2 has been generated and run successfully, but the output of the plot has not been displayed to the user yet.\u001b[0m\n",
      "\u001b[1m\u001b[32mThoughts: To complete the assigned task, I need to pass the final output of the plot to the user, as the graph has already been created and displayed.\u001b[0m\n",
      "\u001b[1m\u001b[34mSubtask identified: End Task\u001b[0m\n",
      "Task completed successfully!\n",
      "\n"
     ]
    },
    {
     "data": {
      "text/plain": [
       "[{'output_1': '',\n",
       "  'output_2': 'import numpy as np\\nimport matplotlib.pyplot as plt\\n\\n# Define the range of x values\\nx = np.linspace(-10, 10, 400)\\n# Define the function y = 2x^2\\ny = 2 * x**2\\n\\n# Create the plot\\nplt.figure(figsize=(8, 6))\\nplt.plot(x, y, label=\"y = 2x^2\", color=\"blue\")\\nplt.title(\"Graph of y = 2x^2\")\\nplt.xlabel(\"x\")\\nplt.ylabel(\"y\")\\nplt.axhline(0, color=\\'black\\',linewidth=0.5, ls=\\'--\\')\\nplt.axvline(0, color=\\'black\\',linewidth=0.5, ls=\\'--\\')\\nplt.grid(color = \\'gray\\', linestyle = \\'--\\', linewidth = 0.5)\\nplt.legend()\\nplt.show()'}]"
      ]
     },
     "execution_count": 47,
     "metadata": {},
     "output_type": "execute_result"
    }
   ],
   "source": [
    "agent.reset()\n",
    "agent.run('Plot me a graph of y = 2x^2')"
   ]
  },
  {
   "cell_type": "code",
   "execution_count": 48,
   "id": "6d4cc46c-d2dc-40e0-b124-e5764d6ea058",
   "metadata": {
    "tags": []
   },
   "outputs": [
    {
     "name": "stdout",
     "output_type": "stream",
     "text": [
      "\u001b[1m\u001b[30mObservation: No subtasks have been completed yet for the task of identifying the first 10 prime numbers.\u001b[0m\n",
      "\u001b[1m\u001b[32mThoughts: To complete the task, I need to generate a list of the first 10 prime numbers using a code that can efficiently calculate prime numbers.\u001b[0m\n",
      "\u001b[1m\u001b[34mSubtask identified: Generate and run code to calculate the first 10 prime numbers.\u001b[0m\n",
      "Calling function python_generate_and_run_code_tool with parameters {'instruction': 'Generate and run code to calculate the first 10 prime numbers.'}\n",
      "Filtered Function Names: wikipedia_tool, python_generate_and_run_code_tool\n",
      "> {'output_1': '[2, 3, 5, 7, 11, 13, 17, 19, 23, 29]\\n', 'output_2': 'import math\\n\\nprimes = []\\nnum = 2\\nwhile len(primes) < 10:\\n    is_prime = True\\n    for i in range(2, int(math.sqrt(num)) + 1):\\n        if num % i == 0:\\n            is_prime = False\\n            break\\n    if is_prime:\\n        primes.append(num)\\n    num += 1\\n\\nprint(primes)'}\n",
      "\n",
      "\u001b[1m\u001b[30mObservation: The first 10 prime numbers have been successfully calculated and are: [2, 3, 5, 7, 11, 13, 17, 19, 23, 29].\u001b[0m\n",
      "\u001b[1m\u001b[32mThoughts: Since the task of finding the first 10 prime numbers is complete, the next step is to present this result to the user.\u001b[0m\n",
      "\u001b[1m\u001b[34mSubtask identified: End Task\u001b[0m\n",
      "Task completed successfully!\n",
      "\n"
     ]
    },
    {
     "data": {
      "text/plain": [
       "[{'output_1': '[2, 3, 5, 7, 11, 13, 17, 19, 23, 29]\\n',\n",
       "  'output_2': 'import math\\n\\nprimes = []\\nnum = 2\\nwhile len(primes) < 10:\\n    is_prime = True\\n    for i in range(2, int(math.sqrt(num)) + 1):\\n        if num % i == 0:\\n            is_prime = False\\n            break\\n    if is_prime:\\n        primes.append(num)\\n    num += 1\\n\\nprint(primes)'}]"
      ]
     },
     "execution_count": 48,
     "metadata": {},
     "output_type": "execute_result"
    }
   ],
   "source": [
    "agent.reset()\n",
    "agent.run('What are the first 10 prime numbers?')"
   ]
  },
  {
   "cell_type": "code",
   "execution_count": 49,
   "id": "935e82a7-e207-4ff1-9187-d57d57e82806",
   "metadata": {
    "tags": []
   },
   "outputs": [
    {
     "name": "stdout",
     "output_type": "stream",
     "text": [
      "\u001b[1m\u001b[30mObservation: No subtasks have been completed yet for the assigned task of finding out who Joe Biden is and calculating his current age.\u001b[0m\n",
      "\u001b[1m\u001b[32mThoughts: To complete the assigned task, I need to gather information about Joe Biden and perform a calculation to determine his current age based on the current date.\u001b[0m\n",
      "\u001b[1m\u001b[34mSubtask identified: First, I will search for information about Joe Biden using the Wikipedia tool to gather relevant details about his background and current status.\u001b[0m\n",
      "Calling function wikipedia_tool with parameters {'search_query': 'Joe Biden'}\n",
      "> {'output_1': \"Page: Joe Biden\\nSummary: Joseph Robinette Biden Jr. (born November 20, 1942) is an American politician who has been the 46th and current president of the United States since 2021. A member of the Democratic Party, he served as the 47th vice president from 2009 to 2017 under President Barack Obama and represented Delaware in the U.S. Senate from 1973 to 2009.\\nBorn in Scranton, Pennsylvania, Biden moved with his family to Delaware in 1953. He graduated from the University of Delaware in 1965 and from Syracuse University in 1968. He was elected to the New Castle County Council in 1970 and the U.S. Senate in 1972. As a senator, Biden drafted and led the effort to pass the Violent Crime Control and Law Enforcement Act and the Violence Against Women Act. He also oversaw six U.S. Supreme Court confirmation hearings, including the contentious hearings for Robert Bork and Clarence Thomas. Biden ran unsuccessfully for the 1988 and 2008 Democratic presidential nominations. In 2008, Obama chose Biden as his running mate, and he was a close counselor to Obama during his two terms as vice president. In the 2020 presidential election, the Democratic Party nominated Biden for president. He selected Kamala Harris as his running mate, and they defeated Republican incumbents Donald Trump and Mike Pence. He is the oldest president in U.S. history and the first to serve with a female vice president. \\nAs president, Biden signed the American Rescue Plan Act in response to the COVID-19 pandemic and subsequent recession. He signed bipartisan bills on infrastructure and manufacturing. He proposed the Build Back Better Act, which failed in Congress, but aspects of which were incorporated into the Inflation Reduction Act that he signed into law in 2022. Biden appointed Ketanji Brown Jackson to the Supreme Court. He worked with congressional Republicans to resolve the 2023 debt-ceiling crisis by negotiating a deal to raise the debt ceiling. In foreign policy, Biden restored America's membership in the Paris Agreement. He oversaw the complete withdrawal of U.S. troops from Afghanistan that ended the war in Afghanistan, leading to the collapse of the Afghan government and the Taliban seizing control. He responded to the Russian invasion of Ukraine by imposing sanctions on Russia and authorizing civilian and military aid to Ukraine. During the Israel–Hamas war, Biden condemned the actions of Hamas as terrorism, announced military support for Israel and sent limited humanitarian aid to the Gaza Strip.\\nIn April 2023, Biden announced his reelection campaign and, after the Democratic primaries, became the Democratic Party's presumptive nominee in the 2024 presidential election. However, after his performance during the first presidential debate on June 27, he withdrew his candidacy in July 2024 amid concerns about his age and health, becoming the first U.S. president to stop running for reelection after securing enough delegates to win renomination. He endorsed Vice President Harris to be the Democrats' nominee.\\n\\nPage: Presidency of Joe Biden\\nSummary: Joe Biden's tenure as the 46th president of the United States began with his inauguration on January 20, 2021. Biden, a member of the Democratic Party who previously served as vice president for two terms under President Barack Obama, took office after his victory in the 2020 presidential election over the incumbent president, Donald Trump of the Republican Party. Biden won the presidency with over 81 million votes, the most votes ever cast for a United States presidential candidate. Biden withdrew his bid for a second term in the 2024 presidential election because of concerns around his age and opposition within his party.\\nUpon his inauguration, he became the oldest president in American history, breaking the record set by Ronald Reagan. Biden entered office amid the COVID-19 pandemic, an economic crisis, and increased political polarization.\\nDay one actions of his presidency included restoring U.S. participation \"}\n",
      "\n",
      "\u001b[1m\u001b[30mObservation: I have gathered information about Joe Biden, including his biography and political career, from Wikipedia. I know his birth date is November 20, 1942, which allows me to calculate his current age.\u001b[0m\n",
      "\u001b[1m\u001b[32mThoughts: To complete the task, I need to calculate Joe Biden's age based on the current date and his birth date. I can use Python to perform this calculation.\u001b[0m\n",
      "\u001b[1m\u001b[34mSubtask identified: Generate and run code to calculate Joe Biden's current age based on his birth date of November 20, 1942.\u001b[0m\n",
      "Calling function python_generate_and_run_code_tool with parameters {'instruction': \"Generate and run code to calculate Joe Biden's current age based on his birth date of November 20, 1942.\"}\n",
      "Filtered Function Names: wikipedia_tool, python_generate_and_run_code_tool\n",
      "> {'output_1': 'Joe Biden is 81 years old.\\n', 'output_2': \"import datetime\\n\\n# Joe Biden's birth date\\nbirth_date = datetime.datetime(1942, 11, 20)\\n\\n# Current date\\ncurrent_date = datetime.datetime.now()\\n\\n# Calculate age\\nage = current_date.year - birth_date.year - ((current_date.month, current_date.day) < (birth_date.month, birth_date.day))\\n\\nprint(f'Joe Biden is {age} years old.')\"}\n",
      "\n",
      "\u001b[1m\u001b[30mObservation: The information about Joe Biden has been successfully retrieved, including his biography and political career. Additionally, the calculation of his current age has been completed, confirming that he is 81 years old.\u001b[0m\n",
      "\u001b[1m\u001b[32mThoughts: Since the age calculation is complete and the necessary information about Joe Biden has been gathered, the next step is to finalize the task and present the results to the user.\u001b[0m\n",
      "\u001b[1m\u001b[34mSubtask identified: End Task\u001b[0m\n",
      "Task completed successfully!\n",
      "\n"
     ]
    },
    {
     "data": {
      "text/plain": [
       "[{'output_1': \"Page: Joe Biden\\nSummary: Joseph Robinette Biden Jr. (born November 20, 1942) is an American politician who has been the 46th and current president of the United States since 2021. A member of the Democratic Party, he served as the 47th vice president from 2009 to 2017 under President Barack Obama and represented Delaware in the U.S. Senate from 1973 to 2009.\\nBorn in Scranton, Pennsylvania, Biden moved with his family to Delaware in 1953. He graduated from the University of Delaware in 1965 and from Syracuse University in 1968. He was elected to the New Castle County Council in 1970 and the U.S. Senate in 1972. As a senator, Biden drafted and led the effort to pass the Violent Crime Control and Law Enforcement Act and the Violence Against Women Act. He also oversaw six U.S. Supreme Court confirmation hearings, including the contentious hearings for Robert Bork and Clarence Thomas. Biden ran unsuccessfully for the 1988 and 2008 Democratic presidential nominations. In 2008, Obama chose Biden as his running mate, and he was a close counselor to Obama during his two terms as vice president. In the 2020 presidential election, the Democratic Party nominated Biden for president. He selected Kamala Harris as his running mate, and they defeated Republican incumbents Donald Trump and Mike Pence. He is the oldest president in U.S. history and the first to serve with a female vice president. \\nAs president, Biden signed the American Rescue Plan Act in response to the COVID-19 pandemic and subsequent recession. He signed bipartisan bills on infrastructure and manufacturing. He proposed the Build Back Better Act, which failed in Congress, but aspects of which were incorporated into the Inflation Reduction Act that he signed into law in 2022. Biden appointed Ketanji Brown Jackson to the Supreme Court. He worked with congressional Republicans to resolve the 2023 debt-ceiling crisis by negotiating a deal to raise the debt ceiling. In foreign policy, Biden restored America's membership in the Paris Agreement. He oversaw the complete withdrawal of U.S. troops from Afghanistan that ended the war in Afghanistan, leading to the collapse of the Afghan government and the Taliban seizing control. He responded to the Russian invasion of Ukraine by imposing sanctions on Russia and authorizing civilian and military aid to Ukraine. During the Israel–Hamas war, Biden condemned the actions of Hamas as terrorism, announced military support for Israel and sent limited humanitarian aid to the Gaza Strip.\\nIn April 2023, Biden announced his reelection campaign and, after the Democratic primaries, became the Democratic Party's presumptive nominee in the 2024 presidential election. However, after his performance during the first presidential debate on June 27, he withdrew his candidacy in July 2024 amid concerns about his age and health, becoming the first U.S. president to stop running for reelection after securing enough delegates to win renomination. He endorsed Vice President Harris to be the Democrats' nominee.\\n\\nPage: Presidency of Joe Biden\\nSummary: Joe Biden's tenure as the 46th president of the United States began with his inauguration on January 20, 2021. Biden, a member of the Democratic Party who previously served as vice president for two terms under President Barack Obama, took office after his victory in the 2020 presidential election over the incumbent president, Donald Trump of the Republican Party. Biden won the presidency with over 81 million votes, the most votes ever cast for a United States presidential candidate. Biden withdrew his bid for a second term in the 2024 presidential election because of concerns around his age and opposition within his party.\\nUpon his inauguration, he became the oldest president in American history, breaking the record set by Ronald Reagan. Biden entered office amid the COVID-19 pandemic, an economic crisis, and increased political polarization.\\nDay one actions of his presidency included restoring U.S. participation \"},\n",
       " {'output_1': 'Joe Biden is 81 years old.\\n',\n",
       "  'output_2': \"import datetime\\n\\n# Joe Biden's birth date\\nbirth_date = datetime.datetime(1942, 11, 20)\\n\\n# Current date\\ncurrent_date = datetime.datetime.now()\\n\\n# Calculate age\\nage = current_date.year - birth_date.year - ((current_date.month, current_date.day) < (birth_date.month, birth_date.day))\\n\\nprint(f'Joe Biden is {age} years old.')\"}]"
      ]
     },
     "execution_count": 49,
     "metadata": {},
     "output_type": "execute_result"
    }
   ],
   "source": [
    "agent.reset()\n",
    "agent.run('Who is Joe Biden and how old is he now based on calculation?')"
   ]
  },
  {
   "cell_type": "code",
   "execution_count": 50,
   "id": "a78e0343-d854-46d2-9bf0-647af8f0ad96",
   "metadata": {
    "tags": []
   },
   "outputs": [
    {
     "name": "stdout",
     "output_type": "stream",
     "text": [
      "Joe Biden, whose full name is Joseph Robinette Biden Jr., is an American politician who has been the 46th and current president of the United States since January 20, 2021. He was born on November 20, 1942, making him 81 years old as of now. Biden is a member of the Democratic Party and previously served as the 47th vice president from 2009 to 2017 under President Barack Obama. He represented Delaware in the U.S. Senate from 1973 to 2009. Biden won the presidency in the 2020 election with over 81 million votes, the most votes ever cast for a U.S. presidential candidate. He is notable for being the oldest president in U.S. history and the first to serve with a female vice president, Kamala Harris. His presidency has included significant actions such as signing the American Rescue Plan Act in response to the COVID-19 pandemic, bipartisan infrastructure bills, and addressing foreign policy challenges, including the Russian invasion of Ukraine and the Israel–Hamas conflict.\n"
     ]
    },
    {
     "data": {
      "text/plain": [
       "'Joe Biden, whose full name is Joseph Robinette Biden Jr., is an American politician who has been the 46th and current president of the United States since January 20, 2021. He was born on November 20, 1942, making him 81 years old as of now. Biden is a member of the Democratic Party and previously served as the 47th vice president from 2009 to 2017 under President Barack Obama. He represented Delaware in the U.S. Senate from 1973 to 2009. Biden won the presidency in the 2020 election with over 81 million votes, the most votes ever cast for a U.S. presidential candidate. He is notable for being the oldest president in U.S. history and the first to serve with a female vice president, Kamala Harris. His presidency has included significant actions such as signing the American Rescue Plan Act in response to the COVID-19 pandemic, bipartisan infrastructure bills, and addressing foreign policy challenges, including the Russian invasion of Ukraine and the Israel–Hamas conflict.'"
      ]
     },
     "execution_count": 50,
     "metadata": {},
     "output_type": "execute_result"
    }
   ],
   "source": [
    "agent.reply_user()"
   ]
  },
  {
   "cell_type": "code",
   "execution_count": 51,
   "id": "cb4b67b4-37e1-4c82-83ec-0ffc5faa4dc7",
   "metadata": {
    "tags": []
   },
   "outputs": [
    {
     "name": "stdout",
     "output_type": "stream",
     "text": [
      "Joe Biden is 81 years old. He was born on November 20, 1942. As of now, he has been the 46th president of the United States since January 20, 2021, and is notable for being the oldest president in U.S. history.\n"
     ]
    },
    {
     "data": {
      "text/plain": [
       "'Joe Biden is 81 years old. He was born on November 20, 1942. As of now, he has been the 46th president of the United States since January 20, 2021, and is notable for being the oldest president in U.S. history.'"
      ]
     },
     "execution_count": 51,
     "metadata": {},
     "output_type": "execute_result"
    }
   ],
   "source": [
    "agent.reply_user('Reply only the age')"
   ]
  },
  {
   "cell_type": "markdown",
   "id": "e5037b8e-1438-4b32-9cd4-377279fdbda8",
   "metadata": {},
   "source": [
    "# Code as Action\n",
    "- Executable Code Actions Elicit Better LLM Agents (Wang et al, 2024)\n",
    "- https://arxiv.org/abs/2402.01030\n",
    "\n",
    "- **How to use it**: Equip `python_generate_and_run_code_tool` and set `code_action = True` to make this function be used as default other than `end_task`. Also mention to use `python_generate_and_run_code_tool` as default in the Agent prompt.\n",
    "\n",
    "- My take:\n",
    "    - It is not as robust as the way we do modular function calling like the rest of TaskGen\n",
    "    - Should use better LLMs like `gpt-4o-mini` to be viable\n",
    "    - Try to specify 'at one go' in the task to encourage LLM to use all Equipped Functions in the same code"
   ]
  },
  {
   "cell_type": "code",
   "execution_count": 52,
   "id": "fa59d181-b172-4171-a0c6-f16f9dd1fbfa",
   "metadata": {
    "tags": []
   },
   "outputs": [],
   "source": [
    "def return_random_person() -> str:\n",
    "    '''Returns a random person name'''\n",
    "    import numpy as np\n",
    "    return np.random.choice(['Alice', 'Bob', 'Cindy', 'Don', 'Edward'])"
   ]
  },
  {
   "cell_type": "code",
   "execution_count": 53,
   "id": "12493d87-7e25-4fab-b8d1-8d5799e3616a",
   "metadata": {
    "tags": []
   },
   "outputs": [],
   "source": [
    "agent = Agent('Code Agent', \n",
    "'''Uses code to solve tasks''',\n",
    "              code_action = True, # this forces python_generate_and_run_code_tool to be the default action\n",
    "             summarise_subtasks_count = 10,\n",
    "             llm = llm).assign_functions(\n",
    "    [python_generate_and_run_code_tool, return_random_person])"
   ]
  },
  {
   "cell_type": "code",
   "execution_count": 54,
   "id": "05f5e8f6-267e-4a98-b41b-65d04b61401f",
   "metadata": {
    "tags": []
   },
   "outputs": [
    {
     "name": "stdout",
     "output_type": "stream",
     "text": [
      "\u001b[1m\u001b[30mObservation: No subtasks have been completed yet for the task of generating three random names.\u001b[0m\n",
      "\u001b[1m\u001b[32mThoughts: To complete the assigned task, I can utilize the return_random_person function to generate random names. Since I need three names, I can call this function three times.\u001b[0m\n",
      "\u001b[1m\u001b[34mSubtask identified: Call the return_random_person function three times to generate three random names.\u001b[0m\n",
      "Calling function python_generate_and_run_code_tool with parameters {'instruction': 'Call the return_random_person function three times to generate three random names.'}\n",
      "Filtered Function Names: python_generate_and_run_code_tool, return_random_person\n",
      "> {'output_1': \"{'output_1': 'Edward'}\\n{'output_1': 'Alice'}\\n{'output_1': 'Don'}\\n\", 'output_2': 'import random\\n\\nname1 = return_random_person()\\nname2 = return_random_person()\\nname3 = return_random_person()\\n\\nprint(name1)\\nprint(name2)\\nprint(name3)'}\n",
      "\n",
      "\u001b[1m\u001b[30mObservation: Three random names have been successfully generated: Edward, Alice, and Don. The code to generate these names has been executed without any errors.\u001b[0m\n",
      "\u001b[1m\u001b[32mThoughts: Since the task of generating three random names is complete, the next step is to pass the final output to the user.\u001b[0m\n",
      "\u001b[1m\u001b[34mSubtask identified: End Task\u001b[0m\n",
      "Task completed successfully!\n",
      "\n"
     ]
    },
    {
     "data": {
      "text/plain": [
       "[{'output_1': \"{'output_1': 'Edward'}\\n{'output_1': 'Alice'}\\n{'output_1': 'Don'}\\n\",\n",
       "  'output_2': 'import random\\n\\nname1 = return_random_person()\\nname2 = return_random_person()\\nname3 = return_random_person()\\n\\nprint(name1)\\nprint(name2)\\nprint(name3)'}]"
      ]
     },
     "execution_count": 54,
     "metadata": {},
     "output_type": "execute_result"
    }
   ],
   "source": [
    "agent.reset()\n",
    "agent.run('Generate three random names in one go')"
   ]
  },
  {
   "cell_type": "code",
   "execution_count": 57,
   "id": "eb3b5a07-b5e2-4dd2-a27a-37595e755da0",
   "metadata": {
    "tags": []
   },
   "outputs": [
    {
     "name": "stdout",
     "output_type": "stream",
     "text": [
      "The three random names generated are Edward, Alice, and Don.\n"
     ]
    },
    {
     "data": {
      "text/plain": [
       "'The three random names generated are Edward, Alice, and Don.'"
      ]
     },
     "execution_count": 57,
     "metadata": {},
     "output_type": "execute_result"
    }
   ],
   "source": [
    "agent.reply_user('Reply only the three names')"
   ]
  }
 ],
 "metadata": {
  "kernelspec": {
   "display_name": "Python 3 (ipykernel)",
   "language": "python",
   "name": "python3"
  },
  "language_info": {
   "codemirror_mode": {
    "name": "ipython",
    "version": 3
   },
   "file_extension": ".py",
   "mimetype": "text/x-python",
   "name": "python",
   "nbconvert_exporter": "python",
   "pygments_lexer": "ipython3",
   "version": "3.11.3"
  }
 },
 "nbformat": 4,
 "nbformat_minor": 5
}
