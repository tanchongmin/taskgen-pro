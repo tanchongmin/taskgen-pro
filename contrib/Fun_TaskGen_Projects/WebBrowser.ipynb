{
 "cells": [
  {
   "cell_type": "code",
   "execution_count": 1,
   "id": "6147bb82-1bac-49ae-898d-316c045d98ae",
   "metadata": {
    "tags": []
   },
   "outputs": [],
   "source": [
    "# Set up API key and do the necessary imports\n",
    "import os\n",
    "from taskgen import *\n",
    "\n",
    "os.environ['OPENAI_API_KEY'] = '<YOUR API KEY HERE>'"
   ]
  },
  {
   "cell_type": "code",
   "execution_count": 3,
   "id": "a0ad97e0-fe2a-4d60-82ca-8452efc4edba",
   "metadata": {
    "tags": []
   },
   "outputs": [],
   "source": [
    "import os\n",
    "from typing import List\n",
    "\n",
    "import pyautogui\n",
    "from dotenv import load_dotenv\n",
    "from helium import go_to, kill_browser, start_chrome\n",
    "from taskgen import Agent\n",
    "\n",
    "\n",
    "# Example\n",
    "def add_number_to_list(num1: int, num_list: List[int], *args, **kwargs) -> List[int]:\n",
    "    \"\"\"Appends num1 to num_list\"\"\"\n",
    "    num_list.append(num1)\n",
    "    return num_list\n",
    "\n",
    "\n",
    "# Define the functions\n",
    "def open_browser() -> str:\n",
    "    \"\"\"Opens the web browser\"\"\"\n",
    "    start_chrome()\n",
    "    return {\"Output\": \"Web browser opened. Currently on empty page.\"}\n",
    "\n",
    "\n",
    "def close_browser() -> str:\n",
    "    \"\"\"Closes the web browser\"\"\"\n",
    "    kill_browser()\n",
    "    return {\"Output\": \"Web browser closed.\"}\n",
    "\n",
    "\n",
    "def type_text(text: str) -> str:\n",
    "    \"\"\"Types text on the keyboard\"\"\"\n",
    "    pyautogui.typewrite(text)\n",
    "    return {\"Output\": f\"Typed {text}\"}\n",
    "\n",
    "\n",
    "def enter_key() -> str:\n",
    "    \"\"\"Hits the enter key\"\"\"\n",
    "    pyautogui.press(\"enter\")\n",
    "    return {\"Output\": \"Pressed Enter\"}\n",
    "\n",
    "\n",
    "def navigate_to_url_via_address_bar(url: str) -> str:\n",
    "    \"\"\"Navigates to the specified url\"\"\"\n",
    "    go_to(url)\n",
    "    return {\"Output\": f\"Navigated to {url}\"}\n",
    "\n",
    "\n",
    "# Load the API key\n",
    "def load_api_key(dotenv_path=\"../.env\"):\n",
    "    load_dotenv(dotenv_path)\n",
    "    return os.getenv(\"OPENAI_API_KEY\")\n",
    "\n",
    "\n",
    "load_api_key()\n",
    "\n",
    "fn_list_1 = [close_browser, open_browser]\n",
    "BrowserController = Agent(\n",
    "    \"BrowserController\",\n",
    "    \"Opens and closes browsers. Does not navigate to pages\",\n",
    "    model=\"gpt-4o\",\n",
    "    default_to_llm=False,\n",
    ").assign_functions(fn_list_1)\n",
    "\n",
    "fn_list_2 = [type_text, navigate_to_url_via_address_bar, enter_key]\n",
    "WebUser = Agent(\n",
    "    \"WebUser\",\n",
    "    \"Performs user actions within the web browser, navigates to web pages and interacts with web pages.\",\n",
    "    model=\"gpt-4o\",\n",
    "    default_to_llm=False,\n",
    ").assign_functions(fn_list_2)\n",
    "\n"
   ]
  },
  {
   "cell_type": "code",
   "execution_count": 4,
   "id": "c49795f5-0026-4bca-8d43-42121da0371b",
   "metadata": {
    "tags": []
   },
   "outputs": [
    {
     "data": {
      "text/plain": [
       "<taskgen.agent.Agent at 0x1392d9290>"
      ]
     },
     "execution_count": 4,
     "metadata": {},
     "output_type": "execute_result"
    }
   ],
   "source": [
    "# Boss agent\n",
    "bossagent = Agent(\n",
    "    \"WebNavigator\",\n",
    "    \"Assists user to navigate the web. Open webpage before task, and close webpage after task\",\n",
    "    model=\"gpt-4o\",\n",
    "    default_to_llm=False,\n",
    ")\n",
    "\n",
    "# Assign the agents to the boss agent\n",
    "agent_list = [BrowserController, WebUser]\n",
    "\n",
    "# print(Webuser.status())\n",
    "\n",
    "bossagent.assign_agents(agent_list)\n",
    "# bossagent.status()\n"
   ]
  },
  {
   "cell_type": "code",
   "execution_count": 5,
   "id": "921cf99d-2780-48c9-b9ae-aae2556e28ce",
   "metadata": {
    "tags": []
   },
   "outputs": [
    {
     "name": "stdout",
     "output_type": "stream",
     "text": [
      "\u001b[1m\u001b[30mObservation: The assigned task is to search \"hello world !\" on Google and close the webpage once done. No subtasks have been completed yet.\u001b[0m\n",
      "\u001b[1m\u001b[32mThoughts: To complete the task, I need to first open a web browser, then navigate to Google and perform the search. After that, I need to close the webpage.\u001b[0m\n",
      "\u001b[1m\u001b[34mSubtask identified: Open a web browser.\u001b[0m\n",
      "Calling function BrowserController with parameters {'instruction': 'Open a web browser.'}\n",
      "\n",
      "### Start of Inner Agent: BrowserController ###\n",
      "\u001b[1m\u001b[30mObservation: The assigned task is to open a web browser, and no subtasks have been completed yet.\u001b[0m\n",
      "\u001b[1m\u001b[32mThoughts: To complete the assigned task, I need to open the web browser as no other actions are required.\u001b[0m\n",
      "\u001b[1m\u001b[34mSubtask identified: Open the web browser.\u001b[0m\n",
      "Calling function open_browser with parameters {}\n",
      "> {'output_1': {'Output': 'Web browser opened. Currently on empty page.'}}\n",
      "\n",
      "\u001b[1m\u001b[30mObservation: The web browser has been successfully opened and is currently on an empty page.\u001b[0m\n",
      "\u001b[1m\u001b[32mThoughts: The assigned task was to open a web browser, which has been completed successfully.\u001b[0m\n",
      "\u001b[1m\u001b[34mSubtask identified: End Task\u001b[0m\n",
      "Task completed successfully!\n",
      "\n",
      "\u001b[1m\u001b[35m###\n",
      "Reply from BrowserController to WebNavigator:\n",
      "The task to open a web browser has been completed. The web browser is currently open and on an empty page.\n",
      "###\n",
      "\u001b[0m\n",
      "### End of Inner Agent: BrowserController ###\n",
      "\n",
      "\u001b[1m\u001b[30mObservation: The web browser has been successfully opened and is currently on an empty page.\u001b[0m\n",
      "\u001b[1m\u001b[32mThoughts: The next step is to navigate to Google and perform the search for \"hello world !\".\u001b[0m\n",
      "\u001b[1m\u001b[34mSubtask identified: Navigate to Google and search for \"hello world !\".\u001b[0m\n",
      "Calling function WebUser with parameters {'instruction': 'Navigate to Google and search for \"hello world !\".'}\n",
      "\n",
      "### Start of Inner Agent: WebUser ###\n",
      "\u001b[1m\u001b[30mObservation: The web browser is currently open and on an empty page.\u001b[0m\n",
      "\u001b[1m\u001b[32mThoughts: To navigate to Google and search for \"hello world !\", the first step is to navigate to the Google homepage.\u001b[0m\n",
      "\u001b[1m\u001b[34mSubtask identified: Navigate to the Google homepage by entering the URL \"https://www.google.com\" in the address bar.\u001b[0m\n",
      "Calling function navigate_to_url_via_address_bar with parameters {'url': 'https://www.google.com'}\n",
      "> {'output_1': {'Output': 'Navigated to https://www.google.com'}}\n",
      "\n",
      "\u001b[1m\u001b[30mObservation: The web browser is open and has navigated to https://www.google.com.\u001b[0m\n",
      "\u001b[1m\u001b[32mThoughts: To complete the task of searching for \"hello world !\" on Google, the next step is to type the search query into the search bar.\u001b[0m\n",
      "\u001b[1m\u001b[34mSubtask identified: Type the text \"hello world !\" into the search bar.\u001b[0m\n",
      "Calling function type_text with parameters {'text': 'hello world !'}\n",
      "> {'output_1': {'Output': 'Typed hello world !'}}\n",
      "\n",
      "\u001b[1m\u001b[30mObservation: The browser has been navigated to Google and the text \"hello world !\" has been typed in the search bar.\u001b[0m\n",
      "\u001b[1m\u001b[32mThoughts: To complete the search action, the enter key needs to be pressed to execute the search query.\u001b[0m\n",
      "\u001b[1m\u001b[34mSubtask identified: Press the enter key to execute the search for \"hello world !\" on Google.\u001b[0m\n",
      "Calling function enter_key with parameters {}\n",
      "> {'output_1': {'Output': 'Pressed Enter'}}\n",
      "\n",
      "\u001b[1m\u001b[30mObservation: The web browser was opened, navigated to Google, the text \"hello world !\" was typed into the search bar, and the Enter key was pressed.\u001b[0m\n",
      "\u001b[1m\u001b[32mThoughts: The assigned task to navigate to Google and search for \"hello world !\" has been completed successfully.\u001b[0m\n",
      "\u001b[1m\u001b[34mSubtask identified: End Task\u001b[0m\n",
      "Task completed successfully!\n",
      "\n",
      "\u001b[1m\u001b[35m###\n",
      "Reply from WebUser to WebNavigator:\n",
      "The task to navigate to Google and search for \"hello world !\" has been completed. The following steps were performed: \n",
      "1. Navigated to https://www.google.com.\n",
      "2. Typed \"hello world !\".\n",
      "3. Pressed Enter.\n",
      "###\n",
      "\u001b[0m\n",
      "### End of Inner Agent: WebUser ###\n",
      "\n",
      "\u001b[1m\u001b[30mObservation: The web browser has been opened, and a search for \"hello world !\" has been successfully performed on Google.\u001b[0m\n",
      "\u001b[1m\u001b[32mThoughts: The next step is to close the web browser as the search task has been completed.\u001b[0m\n",
      "\u001b[1m\u001b[34mSubtask identified: Close the web browser.\u001b[0m\n",
      "Calling function BrowserController with parameters {'instruction': 'Close the web browser.'}\n",
      "\n",
      "### Start of Inner Agent: BrowserController ###\n",
      "\u001b[1m\u001b[30mObservation: The web browser is currently open and the user has assigned the task to close it.\u001b[0m\n",
      "\u001b[1m\u001b[32mThoughts: To complete the assigned task, I need to close the web browser.\u001b[0m\n",
      "\u001b[1m\u001b[34mSubtask identified: Close the web browser.\u001b[0m\n",
      "Calling function close_browser with parameters {}\n",
      "> {'output_1': {'Output': 'Web browser closed.'}}\n",
      "\n",
      "\u001b[1m\u001b[30mObservation: The web browser was previously opened and navigated to Google to search for \"hello world !\". The current task is to close the web browser. The subtask to close the browser has already been completed, and the browser is now closed.\u001b[0m\n",
      "\u001b[1m\u001b[32mThoughts: Since the browser has already been closed, the assigned task is complete.\u001b[0m\n",
      "\u001b[1m\u001b[34mSubtask identified: End Task\u001b[0m\n",
      "Task completed successfully!\n",
      "\n",
      "\u001b[1m\u001b[35m###\n",
      "Reply from BrowserController to WebNavigator:\n",
      "The task to close the web browser has been completed. The web browser was previously open and on an empty page. The output for the close browser task is: Web browser closed.\n",
      "###\n",
      "\u001b[0m\n",
      "### End of Inner Agent: BrowserController ###\n",
      "\n",
      "\u001b[1m\u001b[30mObservation: The web browser was opened, navigated to Google, searched for \"hello world !\", and then closed.\u001b[0m\n",
      "\u001b[1m\u001b[32mThoughts: The assigned task to search \"hello world !\" on Google and close the webpage has been completed successfully.\u001b[0m\n",
      "\u001b[1m\u001b[34mSubtask identified: End Task\u001b[0m\n",
      "Task completed successfully!\n",
      "\n"
     ]
    }
   ],
   "source": [
    "bossagent.reset()\n",
    "output = bossagent.run(\"Search 'hello world !' on google. Remember to close the webpage once done.\")"
   ]
  },
  {
   "cell_type": "code",
   "execution_count": 5,
   "id": "3093fc1a-fd1f-4c07-a1a9-0c464b87d99d",
   "metadata": {
    "tags": []
   },
   "outputs": [
    {
     "data": {
      "text/plain": [
       "[<taskgen.function.Function at 0x12e4fdfd0>,\n",
       " <taskgen.function.Function at 0x12e586c50>]"
      ]
     },
     "execution_count": 5,
     "metadata": {},
     "output_type": "execute_result"
    }
   ],
   "source": [
    "BrowserController.memory_bank['Function'].memory"
   ]
  },
  {
   "cell_type": "code",
   "execution_count": 6,
   "id": "ffc751e5-03a9-4fac-8e08-2e686479ab43",
   "metadata": {
    "tags": []
   },
   "outputs": [
    {
     "data": {
      "text/plain": [
       "[<taskgen.function.Function at 0x1360f3410>,\n",
       " <taskgen.function.Function at 0x1360f3610>,\n",
       " <taskgen.function.Function at 0x1360f37d0>]"
      ]
     },
     "execution_count": 6,
     "metadata": {},
     "output_type": "execute_result"
    }
   ],
   "source": [
    "WebUser.memory_bank['Function'].memory"
   ]
  },
  {
   "cell_type": "code",
   "execution_count": 7,
   "id": "5fb82c21-baf6-4242-b41c-8f1d3cff2a7d",
   "metadata": {
    "tags": []
   },
   "outputs": [
    {
     "data": {
      "text/plain": [
       "[<taskgen.function.Function at 0x114da4210>,\n",
       " <taskgen.function.Function at 0x114da58d0>]"
      ]
     },
     "execution_count": 7,
     "metadata": {},
     "output_type": "execute_result"
    }
   ],
   "source": [
    "bossagent.memory_bank['Function'].memory"
   ]
  },
  {
   "cell_type": "code",
   "execution_count": null,
   "id": "2f058418-c524-4188-a2aa-70df67b79588",
   "metadata": {},
   "outputs": [],
   "source": []
  }
 ],
 "metadata": {
  "kernelspec": {
   "display_name": "Python 3 (ipykernel)",
   "language": "python",
   "name": "python3"
  },
  "language_info": {
   "codemirror_mode": {
    "name": "ipython",
    "version": 3
   },
   "file_extension": ".py",
   "mimetype": "text/x-python",
   "name": "python",
   "nbconvert_exporter": "python",
   "pygments_lexer": "ipython3",
   "version": "3.11.3"
  }
 },
 "nbformat": 4,
 "nbformat_minor": 5
}
