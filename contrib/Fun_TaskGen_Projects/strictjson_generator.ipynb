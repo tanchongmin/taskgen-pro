{
 "cells": [
  {
   "cell_type": "markdown",
   "id": "8dd31bb5-f97f-4413-bd86-c7d1546c0885",
   "metadata": {},
   "source": [
    "# StrictJSON Generator\n",
    "- Generates StrictJSON code and runs it based on user task and inputs\n",
    "- Created by John Tan Chong Min\n",
    "- 25 Sep 2024"
   ]
  },
  {
   "cell_type": "code",
   "execution_count": 1,
   "id": "4cffce7e-40d0-4f55-8484-596374751ef6",
   "metadata": {
    "tags": []
   },
   "outputs": [],
   "source": [
    "from taskgen import *"
   ]
  },
  {
   "cell_type": "code",
   "execution_count": 2,
   "id": "9dfcb59c-1fe7-4d76-bb77-91fd875d0966",
   "metadata": {
    "tags": []
   },
   "outputs": [],
   "source": [
    "import os\n",
    "os.environ['OPENAI_API_KEY'] = '<YOUR API KEY HERE>'"
   ]
  },
  {
   "cell_type": "code",
   "execution_count": 4,
   "id": "69b765ff-cea4-4622-9631-14f72e397832",
   "metadata": {
    "tags": []
   },
   "outputs": [],
   "source": [
    "def llm(system_prompt: str, user_prompt: str) -> str:\n",
    "    ''' Here, we use OpenAI for illustration, you can change it to your own LLM '''\n",
    "    # ensure your LLM imports are all within this function\n",
    "    from openai import OpenAI\n",
    "    \n",
    "    # define your own LLM here\n",
    "    client = OpenAI()\n",
    "    response = client.chat.completions.create(\n",
    "        model='gpt-4o-mini',\n",
    "        temperature = 0,\n",
    "        messages=[\n",
    "            {\"role\": \"system\", \"content\": system_prompt},\n",
    "            {\"role\": \"user\", \"content\": user_prompt}\n",
    "        ]\n",
    "    )\n",
    "    return response.choices[0].message.content"
   ]
  },
  {
   "cell_type": "code",
   "execution_count": 98,
   "id": "94ef479c-9797-402e-9f71-70be3e089466",
   "metadata": {},
   "outputs": [],
   "source": [
    "documentation = \"\"\"# Features:\n",
    "# 1. Basic Generation\n",
    "\n",
    "- **system_prompt**: Write in whatever you want the LLM to become. \"You are a \\<purpose in life\\>\"\n",
    "- **user_prompt**: The user input. Later, when we use it as a function, this is the function input\n",
    "- **output_format**: JSON of output variables in a dictionary, with the key as the output key, and the value as the output description\n",
    "    - The output keys will be preserved exactly, while the LLM will generate content to match the description of the value as best as possible\n",
    "- **llm**: The llm you want to use. Takes in `system_prompt` and `user_prompt` and outputs the LLM-generated string\n",
    "\n",
    "#### Example LLM Definition\n",
    "```python\n",
    "def llm(system_prompt: str, user_prompt: str) -> str:\n",
    "    ''' Here, we use OpenAI for illustration, you can change it to your own LLM '''\n",
    "    # ensure your LLM imports are all within this function\n",
    "    from openai import OpenAI\n",
    "    \n",
    "    # define your own LLM here\n",
    "    client = OpenAI()\n",
    "    response = client.chat.completions.create(\n",
    "        model='gpt-4o-mini',\n",
    "        temperature = 0,\n",
    "        messages=[\n",
    "            {\"role\": \"system\", \"content\": system_prompt},\n",
    "            {\"role\": \"user\", \"content\": user_prompt}\n",
    "        ]\n",
    "    )\n",
    "    return response.choices[0].message.content\n",
    "```\n",
    "\n",
    "#### Example Usage\n",
    "```python\n",
    "res = strict_json(system_prompt = 'You are a classifier',\n",
    "                    user_prompt = 'It is a beautiful and sunny day',\n",
    "                    output_format = {'Sentiment': 'Type of Sentiment',\n",
    "                                    'Adjectives': 'Array of adjectives',\n",
    "                                    'Words': 'Number of words'},\n",
    "                    llm = llm)\n",
    "                                    \n",
    "print(res)\n",
    "```\n",
    "\n",
    "#### Example Output\n",
    "```{'Sentiment': 'Positive', 'Adjectives': ['beautiful', 'sunny'], 'Words': 7}```\n",
    "\n",
    "## 2. Advanced Generation\n",
    "- More advanced demonstration involving code that would typically break ```json.loads()```\n",
    "\n",
    "#### Example Usage\n",
    "```python\n",
    "res = strict_json(system_prompt = 'You are a code generator, generating code to fulfil a task',\n",
    "                    user_prompt = 'Given array p, output a function named func_sum to return its sum',\n",
    "                    output_format = {'Elaboration': 'How you would do it',\n",
    "                                     'C': 'Code',\n",
    "                                    'Python': 'Code'},\n",
    "                    llm = llm)\n",
    "                                    \n",
    "print(res)\n",
    "```\n",
    "\n",
    "#### Example Output\n",
    "```{'Elaboration': 'Use a loop to iterate through each element in the array and add it to a running total.', ```\n",
    "\n",
    "```'C': 'int func_sum(int p[], int size) {\\n    int sum = 0;\\n    for (int i = 0; i < size; i++) {\\n        sum += p[i];\\n    }\\n    return sum;\\n}', ```\n",
    "\n",
    "```'Python': 'def func_sum(p):\\n    sum = 0\\n    for num in p:\\n        sum += num\\n    return sum'}```\n",
    "\n",
    "## 3. Type forcing output variables\n",
    "- Generally, ```strict_json``` will infer the data type automatically for you for the output fields\n",
    "- However, if you would like very specific data types, you can do data forcing using ```type: <data_type>``` at the last part of the output field description\n",
    "- ```<data_type>``` must be of the form `int`, `float`, `str`, `dict`, `list`, `array`, `code`, `Dict[]`, `List[]`, `Array[]`, `Enum[]`, `bool` for type checking to work\n",
    "- `code` removes all unicode escape characters that might interfere with normal code running\n",
    "- The `Enum` and `List` are not case sensitive, so `enum` and `list` works just as well\n",
    "- For `Enum[list_of_category_names]`, it is best to give an \"Other\" category in case the LLM fails to classify correctly with the other options.\n",
    "- If `list` or `List[]` is not formatted correctly in LLM's output, we will correct it by asking the LLM to list out the elements line by line\n",
    "- For `dict`,  we can further check whether keys are present using `Dict[list_of_key_names]`\n",
    "- Other types will first be forced by rule-based conversion, any further errors will be fed into LLM's error feedback mechanism\n",
    "- If `<data_type>` is not the specified data types, it can still be useful to shape the output for the LLM. However, no type checking will be done.\n",
    "- Note: LLM understands the word `Array` better than `List` since `Array` is the official JSON object type, so in the backend, any type with the word `List` will be converted to `Array`.\n",
    "\n",
    "### LLM-based checks\n",
    "- If you would like the LLM to ensure that the type is being met, use `type: ensure <requirement>`\n",
    "- This will run a LLM to check if the requirement is met. If requirement is not met, the LLM will generate what needs to be done to meet the requirement, which will be fed into the error-correcting loop of `strict_json`\n",
    "\n",
    "#### Example Usage 1\n",
    "```python\n",
    "res = strict_json(system_prompt = 'You are a classifier',\n",
    "                    user_prompt = 'It is a beautiful and sunny day',\n",
    "                    output_format = {'Sentiment': 'Type of Sentiment, type: Enum[\"Pos\", \"Neg\", \"Other\"]',\n",
    "                                    'Adjectives': 'Array of adjectives, type: List[str]',\n",
    "                                    'Words': 'Number of words, type: int',\n",
    "                                    'In English': 'Whether sentence is in English, type: bool'},\n",
    "                  llm = llm)\n",
    "                                    \n",
    "print(res)\n",
    "```\n",
    "\n",
    "#### Example Output 1\n",
    "```{'Sentiment': 'Pos', 'Adjectives': ['beautiful', 'sunny'], 'Words': 7, 'In English': True}```\n",
    "\n",
    "#### Example Usage 2\n",
    "```python\n",
    "res = strict_json(system_prompt = 'You are an expert at organising birthday parties',\n",
    "                    user_prompt = 'Give me some information on how to organise a birthday',\n",
    "                    output_format = {'Famous Quote about Age': 'type: ensure quote contains the word age',\n",
    "                                    'Lucky draw numbers': '3 numbers from 1-50, type: List[int]',\n",
    "                                    'Sample venues': 'Describe two venues, type: List[Dict[\"Venue\", \"Description\"]]'},\n",
    "                    llm = llm)\n",
    "\n",
    "print(res)\n",
    "```\n",
    "\n",
    "#### Example Output 2\n",
    "`Using LLM to check \"The secret of staying young is to live honestly, eat slowly, and lie about your age. - Lucille Ball\" to see if it adheres to \"quote contains the word age\" Requirement Met: True`\n",
    "\n",
    "\n",
    "```{'Famous Quote about Age': 'The secret of staying young is to live honestly, eat slowly, and lie about your age. - Lucille Ball',```\n",
    "```'Lucky draw numbers': [7, 21, 35],```\n",
    "\n",
    "```'Sample venues': [{'Venue': 'Beachside Resort', 'Description': 'A beautiful resort with stunning views of the beach. Perfect for a summer birthday party.'}, {'Venue': 'Indoor Trampoline Park', 'Description': 'An exciting venue with trampolines and fun activities. Ideal for an active and energetic birthday celebration.'}]}```\n",
    "\"\"\""
   ]
  },
  {
   "cell_type": "code",
   "execution_count": 99,
   "id": "7a57a9f1-abd5-47ca-979a-70db691dec39",
   "metadata": {
    "tags": []
   },
   "outputs": [],
   "source": [
    "def create_strict_json(task, inputs = {}):\n",
    "    ''' Creates code to use strict_json or Function given a task and the inputs\n",
    "Returns Code generated, whether code ran, and code output'''\n",
    "    \n",
    "    from typing import List, Dict\n",
    "\n",
    "    for _ in range(3):\n",
    "        code = \"\"\n",
    "        error = \"\"\n",
    "        res2 = strict_json(f\"\"\"Given the task, write out code using strict_json to fulfil it.\n",
    "    Previous Code: ```{code}```\n",
    "    Previous Error: ```{error}```\n",
    "\n",
    "    Example strict_json code: \n",
    "    ```res = strict_json(system_prompt = 'You are a classifier',\n",
    "        user_prompt = 'It is a beautiful and sunny day',\n",
    "        output_format = {{'Sentiment': '''Type of Sentiment, type: Enum[\"Pos\", \"Neg\", \"Other\"]''',\n",
    "                        'Adjectives': '''Array of adjectives, type: List[str]''',\n",
    "                        'Words': '''Number of words, type: int''',\n",
    "                        'In English': '''Whether sentence is in English, type: bool'''}},\n",
    "        llm = llm)```\n",
    "        \n",
    "    strict_json documentation: ```{documentation}```\"\"\",\n",
    "        f\"Task: {task}, Inputs: {inputs}\",\n",
    "        output_format = {\"Code\": \"Python function beginning with ```def my_function(inputs: Dict) -> Dict:\\n``` which uses strict_json, type: code\"},\n",
    "        llm = llm)\n",
    "\n",
    "        try:\n",
    "            # execute the code\n",
    "            exec(res2['Code'], globals(), locals())\n",
    "            output = locals()[\"my_function\"](inputs)\n",
    "            return res2['Code'], True, output\n",
    "\n",
    "        except Exception as e:\n",
    "            # put code and error here\n",
    "            code = res2['Code']\n",
    "            error = str(e)\n",
    "            \n",
    "    return res2['Code'], False, error"
   ]
  },
  {
   "cell_type": "code",
   "execution_count": 100,
   "id": "3b61c24e-e827-4b32-a852-5d687b6dbeb8",
   "metadata": {
    "tags": []
   },
   "outputs": [
    {
     "name": "stdout",
     "output_type": "stream",
     "text": [
      "def my_function(inputs: Dict) -> Dict:\n",
      "    res = strict_json(system_prompt = \"You are a named entity recognizer, extracting people and objects from a sentence\",\n",
      "        user_prompt = inputs[\"Sentence\"],\n",
      "        output_format = {\n",
      "            \"People\": \"Array of names of people, type: List[str]\",\n",
      "            \"Objects\": \"Array of objects mentioned, type: List[str]\"\n",
      "        },\n",
      "        llm = llm)\n",
      "    return res\n",
      "{'People': ['John', 'Mary'], 'Objects': ['sandwich']}\n"
     ]
    }
   ],
   "source": [
    "code, compile_correct, result = create_strict_json(task = \"Extract out all people and all objects from a sentence\", \n",
    "                   inputs = {\"Sentence\": \"John ate Mary's sandwich\"})\n",
    "print(code)\n",
    "print(result)"
   ]
  },
  {
   "cell_type": "code",
   "execution_count": 101,
   "id": "4e04f6f6-c924-4e25-86f3-5e2343f8ba31",
   "metadata": {
    "tags": []
   },
   "outputs": [
    {
     "name": "stdout",
     "output_type": "stream",
     "text": [
      "def my_function(inputs: Dict) -> Dict:\n",
      "    res = strict_json(system_prompt = \"You are a poet, generating a poem based on a given word\",\n",
      "        user_prompt = \"Generate a poem with the word sandwich\",\n",
      "        output_format = {\"Poem\": \"A creative poem that includes the word sandwich, type: str\"},\n",
      "        llm = llm)\n",
      "    return res\n",
      "{'Poem': 'In the kitchen, a canvas awaits,  \\nLayers of flavor, a dance on my plate.  \\nBread, soft and warm, cradles delight,  \\nA sandwich of dreams, a savory bite.  \\n\\nLettuce whispers, crisp and green,  \\nTomatoes blush, a vibrant sheen.  \\nCheese melts gently, a golden embrace,  \\nEach ingredient finds its rightful place.  \\n\\nTurkey or ham, a choice to be made,  \\nWith mustard and mayo, a masterpiece laid.  \\nPickles add crunch, a zesty surprise,  \\nIn this simple meal, a feast for the eyes.  \\n\\nSo here’s to the sandwich, humble yet grand,  \\nA comfort, a joy, crafted by hand.  \\nIn every bite, a story unfolds,  \\nOf flavors and memories, a treasure to hold.'}\n"
     ]
    }
   ],
   "source": [
    "code, compile_correct, result = create_strict_json(task = \"Generates a poem with the given word\", \n",
    "                   inputs = {\"word\": \"sandwich\"})\n",
    "print(code)\n",
    "print(result)"
   ]
  },
  {
   "cell_type": "code",
   "execution_count": 102,
   "id": "247753b6-6922-4e4d-a075-63e59d1d975b",
   "metadata": {
    "tags": []
   },
   "outputs": [
    {
     "name": "stdout",
     "output_type": "stream",
     "text": [
      "def my_function(inputs: Dict) -> Dict:\n",
      "    res = strict_json(system_prompt = \"You are a number extractor, extracting all numbers from text including numbers from words\",\n",
      "        user_prompt = inputs[\"Text\"],\n",
      "        output_format = {\"Numbers\": \"Array of numbers extracted from the text, type: Array[int]\"},\n",
      "        llm = llm)\n",
      "    return res\n",
      "{'Numbers': [46, 34, 12]}\n"
     ]
    }
   ],
   "source": [
    "code, compile_correct, result = create_strict_json(task = \"Extract all numbers, including numbers from words\", \n",
    "                   inputs = {\"Text\": \"forty-six is 34 more than 12\"})\n",
    "print(code)\n",
    "print(result)"
   ]
  },
  {
   "cell_type": "code",
   "execution_count": 104,
   "id": "339ffa69-49d6-45ab-a21d-b59225cb206b",
   "metadata": {
    "tags": []
   },
   "outputs": [
    {
     "name": "stdout",
     "output_type": "stream",
     "text": [
      "def my_function(inputs: Dict) -> Dict:\n",
      "    res = strict_json(system_prompt = \"You are a number extractor, extracting all numbers from text along with their word forms and whether they are even or odd\",\n",
      "        user_prompt = \"forty-six is 34 more than 12\",\n",
      "        output_format = {\n",
      "            \"Numbers\": \"Array of numbers extracted, type: Array[int]\",\n",
      "            \"Word Forms\": \"Array of word forms of the numbers, type: Array[str]\",\n",
      "            \"Even or Odd\": \"Array indicating whether each number is even or odd, type: Array[str]\"\n",
      "        },\n",
      "        llm = llm)\n",
      "    return res\n",
      "{'Numbers': [46, 34, 12], 'Word Forms': ['forty-six', 'thirty-four', 'twelve'], 'Even or Odd': ['even', 'even', 'even']}\n"
     ]
    }
   ],
   "source": [
    "code, compile_correct, result = create_strict_json(task = '''Extract all numbers, including numbers from words. \n",
    "                                    Output the numbers, as well as the word form of the numbers, and whether they are even or odd''', \n",
    "                   inputs = {\"Text\": \"forty-six is 34 more than 12\"})\n",
    "print(code)\n",
    "print(result)"
   ]
  },
  {
   "cell_type": "code",
   "execution_count": null,
   "id": "f0142730-543b-4dfb-b300-615fab994045",
   "metadata": {},
   "outputs": [],
   "source": []
  }
 ],
 "metadata": {
  "kernelspec": {
   "display_name": "Python 3 (ipykernel)",
   "language": "python",
   "name": "python3"
  },
  "language_info": {
   "codemirror_mode": {
    "name": "ipython",
    "version": 3
   },
   "file_extension": ".py",
   "mimetype": "text/x-python",
   "name": "python",
   "nbconvert_exporter": "python",
   "pygments_lexer": "ipython3",
   "version": "3.11.3"
  }
 },
 "nbformat": 4,
 "nbformat_minor": 5
}
