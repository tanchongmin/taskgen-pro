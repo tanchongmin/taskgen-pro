{
 "cells": [
  {
   "cell_type": "code",
   "execution_count": 13,
   "metadata": {},
   "outputs": [],
   "source": [
    "from taskgen import Function, Agent, Memory\n",
    "import json\n",
    "import os\n",
    "from dotenv import load_dotenv\n",
    "\n",
    "# Specify the path to your .env file\n",
    "dotenv_path = '../../../.env'\n",
    "\n",
    "# Load environment variables from a .env file\n",
    "load_dotenv()\n",
    "\n",
    "# Now you can safely use the environment variable\n",
    "api_key = os.getenv('OPENAI_API_KEY')"
   ]
  },
  {
   "cell_type": "code",
   "execution_count": 14,
   "metadata": {},
   "outputs": [],
   "source": [
    "def store_name(shared_variables, name: str):\n",
    "    shared_variables['User Information'] = name\n",
    "    return {'Output': f'Nice to meet you, {name}!'}\n",
    "\n",
    "def greet_user(shared_variables):\n",
    "    stored_name = shared_variables['User Information']\n",
    "    return {'Output': f'Hello {stored_name}! How can I assist you today ?'}\n",
    "\n",
    "def ingest_json(memory_bank, path: str):\n",
    "    with open(path, 'r') as file:\n",
    "        json_data = file.read()\n",
    "    documents = json.loads(json_data)\n",
    "    memory_bank['Documents'] = Memory(documents, top_k=3, mapper=lambda doc: doc['content'])\n",
    "    return {'Output': 'Data has been stored successfully'}\n",
    "\n",
    "def access_relevant_documents(memory_bank, query: str):\n",
    "    relevant_documents = memory_bank['Documents'].retrieve_by_ranker(query)\n",
    "    document_names = [doc['name'] for doc in relevant_documents]\n",
    "    return {'Output': f'The most relevant documents for \"{query}\" are: {\", \".join(document_names)}'}"
   ]
  },
  {
   "cell_type": "code",
   "execution_count": 15,
   "metadata": {},
   "outputs": [],
   "source": [
    "# Define functions for the conversational agent\n",
    "fn_list = [\n",
    "    Function(fn_description='Greets the user', external_fn=greet_user, output_format={'Output': 'Greeting message'}),\n",
    "    Function(fn_description='Stores the <name> in memory', external_fn=store_name, output_format={'Output': 'Confirmation message'}),\n",
    "    Function(fn_description='Output a sentence with words <var1> and <var2> in the style of <var3>', \n",
    "                     output_format = {'output': 'sentence'}),\n",
    "    Function(fn_description='Ingest JSON data from <path> and store it in memory', fn_params=[{'name': 'path', 'type': 'str'}], external_fn=lambda shared_variables, path: ingest_json(conversational_agent.memory_bank, path), output_format={'Output': 'Confirmation message'}),\n",
    "    Function(fn_description='Access relevant documents based on a <query>', fn_params=[{'name': 'query', 'type': 'str'}], external_fn=lambda shared_variables, query: access_relevant_documents(conversational_agent.memory_bank, query), output_format={'Output': 'Relevant document names'})\n",
    "]\n",
    "\n",
    "# Create the conversational agent\n",
    "conversational_agent = Agent('Conversational Agent', 'Engages in personalized conversations with users', \n",
    "                             memory_bank={'Documents': Memory(), 'Function': Memory()},\n",
    "                             shared_variables={'User Information': ''}).assign_functions(fn_list)\n",
    "\n",
    "conversational_agent.memory_bank['Function'] = Memory(fn_list, top_k=3, mapper=lambda f: f.fn_description)\n",
    "\n"
   ]
  },
  {
   "cell_type": "code",
   "execution_count": null,
   "metadata": {},
   "outputs": [],
   "source": [
    "user_input = input('User: ')\n",
    "# see the auto-generated names of your functions :)\n",
    "conversational_agent.list_functions()"
   ]
  },
  {
   "cell_type": "code",
   "execution_count": null,
   "metadata": {},
   "outputs": [],
   "source": [
    "# Store the user's name in memory\n",
    "output = conversational_agent.run(f'Store the {user_input} in memory')\n",
    "print(f'Agent: {output}')\n",
    "\n",
    "# visualise the shared variables\n",
    "print('Shared Variables:', conversational_agent.shared_variables)"
   ]
  },
  {
   "cell_type": "code",
   "execution_count": null,
   "metadata": {},
   "outputs": [],
   "source": [
    "# Run the conversational agent\n",
    "output = conversational_agent.run('Greet the user')\n",
    "print(f'Agent: {output}')"
   ]
  },
  {
   "cell_type": "code",
   "execution_count": 16,
   "metadata": {},
   "outputs": [
    {
     "name": "stdout",
     "output_type": "stream",
     "text": [
      "Filtered Function Names: store_name, ingest_JSON_data, access_documents\n",
      "Subtask identified: Ingest JSON data from \"data/documents.json\" and store it in memory\n",
      "Calling function ingest_JSON_data with parameters {'path': 'data/documents.json'}\n",
      "> {'Output': 'Data has been stored successfully'}\n",
      "\n",
      "Filtered Function Names: store_name, ingest_JSON_data, access_documents\n",
      "Task completed successfully!\n",
      "\n",
      "Agent: [{'Output': 'Data has been stored successfully'}]\n",
      "Filtered Function Names: sentence_with_style, ingest_JSON_data, access_documents\n",
      "Subtask identified: Access relevant documents based on the query \"When will the company implement the two-day work in office policy?\"\n",
      "Calling function access_documents with parameters {'query': 'When will the company implement the two-day work in office policy?'}\n",
      "> {'Output': 'The most relevant documents for \"When will the company implement the two-day work in office policy?\" are: April Work From Home Update, Wfh Policy Update May 2023, Work From Home Policy'}\n",
      "\n",
      "Filtered Function Names: sentence_with_style, ingest_JSON_data, access_documents\n",
      "Task completed successfully!\n",
      "\n",
      "Agent: [{'Output': 'Data has been stored successfully'}, {'Output': 'The most relevant documents for \"When will the company implement the two-day work in office policy?\" are: April Work From Home Update, Wfh Policy Update May 2023, Work From Home Policy'}]\n"
     ]
    }
   ],
   "source": [
    "path = 'data/documents.json'\n",
    "\n",
    "# Ingest the JSON data and store it in memory\n",
    "output = conversational_agent.run(f'Ingest JSON data from \"{path}\" and store it in memory')\n",
    "print(f'Agent: {output}')\n",
    "\n",
    "query = input('User: ')\n",
    "# Access relevant documents based on the user's query\n",
    "output = conversational_agent.run(f'Access relevant documents based on a \"{query}\"')\n",
    "print(f'Agent: {output}')"
   ]
  }
 ],
 "metadata": {
  "kernelspec": {
   "display_name": ".venv",
   "language": "python",
   "name": "python3"
  },
  "language_info": {
   "codemirror_mode": {
    "name": "ipython",
    "version": 3
   },
   "file_extension": ".py",
   "mimetype": "text/x-python",
   "name": "python",
   "nbconvert_exporter": "python",
   "pygments_lexer": "ipython3",
   "version": "3.10.11"
  }
 },
 "nbformat": 4,
 "nbformat_minor": 2
}
