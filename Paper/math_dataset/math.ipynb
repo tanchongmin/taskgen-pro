{
 "cells": [
  {
   "cell_type": "code",
   "execution_count": null,
   "metadata": {},
   "outputs": [],
   "source": [
    "# Set up API key and do the necessary imports\n",
    "import os\n",
    "from taskgen import *\n",
    "\n",
    "os.environ['OPENAI_API_KEY'] = \"\""
   ]
  },
  {
   "cell_type": "markdown",
   "metadata": {},
   "source": [
    "## DATA LOADING"
   ]
  },
  {
   "cell_type": "code",
   "execution_count": null,
   "metadata": {},
   "outputs": [],
   "source": [
    "import json\n",
    "with open('selected_problems_level_5.json', 'r') as file:\n",
    "    selected_problems = json.load(file)"
   ]
  },
  {
   "cell_type": "markdown",
   "metadata": {},
   "source": [
    "## TaskGen Agent And Functions "
   ]
  },
  {
   "cell_type": "code",
   "execution_count": null,
   "metadata": {},
   "outputs": [],
   "source": [
    "\n",
    "def python_run_tool(code_snippet: str) -> str:\n",
    "    '''Runs code_snippet and outputs the result of all print statements'''\n",
    "    import sys\n",
    "    import io\n",
    "    import math\n",
    "    import numpy\n",
    "    import random\n",
    "    import datetime\n",
    "    import re\n",
    "    import matplotlib\n",
    "    import pandas\n",
    "    import sympy\n",
    "    import plotly\n",
    "    import numpy as np\n",
    "    # Disable file access\n",
    "    def restricted_open(*args, **kwargs):\n",
    "        raise PermissionError(\"File access is restricted\")\n",
    "    \n",
    "    # Capture the output\n",
    "    old_stdout = sys.stdout\n",
    "    sys.stdout = io.StringIO()\n",
    "\n",
    "    try:\n",
    "        # Safe environment to execute the user code\n",
    "        allowed_globals = {\n",
    "            '__builtins__': {\n",
    "                'print': print,\n",
    "                'range': range,\n",
    "                'len': len,\n",
    "                'int': int,\n",
    "                'float': float,\n",
    "                'str': str,\n",
    "                'list': list,\n",
    "                'dict': dict,\n",
    "                'set': set,\n",
    "                'tuple': tuple,\n",
    "                'abs': abs,\n",
    "                'min': min,\n",
    "                'max': max,\n",
    "                'sum': sum,\n",
    "                'any': any,\n",
    "                'all': all,\n",
    "                'sorted': sorted,\n",
    "                'zip': zip,\n",
    "                'map': map,\n",
    "                'filter': filter,\n",
    "                '__import__': __import__,\n",
    "                'math': math,  # Allow access to the math module\n",
    "                'datetime': datetime, # Allow access to datetime module\n",
    "                'random': random, # Allow access to random module\n",
    "                'numpy': numpy, # Allow access to numpy module\n",
    "                're': re,\n",
    "                'pandas': pandas,\n",
    "                'open': restricted_open,  # Override open to restrict file access\n",
    "                'sympy': sympy,                \n",
    "            }\n",
    "        }\n",
    "\n",
    "        safe_locals = {}\n",
    "\n",
    "        exec(code_snippet, allowed_globals, safe_locals)\n",
    "        output = sys.stdout.getvalue()\n",
    "    except Exception as e:\n",
    "        output = f\"Error: {e}\"\n",
    "    finally:\n",
    "        # Restore the original stdout\n",
    "        sys.stdout = old_stdout\n",
    "\n",
    "    return output\n",
    "\n",
    "python_generator_tool = Function('''Generate code based only on <instruction: str> without additional context.\n",
    "    Ensure that you define all variables and list out all imports.\n",
    "    You can only import the following modules: math, numpy, random, datetime, re, matplotlib, pandas, sympy, plotly\n",
    "    ***Do not use short forms for modules for example use import numpy instead of import numpy as np***\n",
    "    Do not define any functions\n",
    "    You are not able to use the Equipped Functions using this tool.\n",
    "    Ensure all required output are in print statements''',\n",
    "                                     output_format = {'Output Code': 'type: code'}, fn_name = 'python_generator_tool',model=\"gpt-4o\")\n",
    "\n",
    "\n",
    "\n",
    "python_debug_tool = Function('''Debugs Python Code and returns corrected code.\n",
    "Instruction: <instruction: str>\n",
    "Current Code: <python_code: str>\n",
    "Error Message: <error_msg: str>''',\n",
    "                                 output_format = {'Thoughts': 'How to correct code', 'Corrected Code': 'type: code'}, fn_name = 'python_debug_tool',model=\"gpt-4o\")\n",
    "\n",
    "\n",
    "\n",
    "\n",
    "# Uses LLM to generate Code\n",
    "def python_generate_and_run_code_tool(shared_variables, instruction: str) -> str:\n",
    "    ''' Generates and runs code based on instruction. Returns 1) the result of all print statements in code, or error messages, and 2) the code '''\n",
    "    # from termcolor import colored\n",
    "    \n",
    "    # Append context to tool\n",
    "    if shared_variables and 'agent' in shared_variables:\n",
    "        instruction = f\"Context: {shared_variables['agent'].overall_task}\\nPrevious Subtasks: {shared_variables['agent'].subtasks_completed}\\nInstruction: {instruction}\"\n",
    "    # Generate Code\n",
    "    python_code = python_generator_tool(instruction)['Output Code']\n",
    "    \n",
    "    # Run and Debug Code\n",
    "    for _ in range(3):\n",
    "        output = python_run_tool(python_code)\n",
    "\n",
    "        if output[:5] == \"Error\":\n",
    "            debugged_code = python_debug_tool(instruction, python_code, output)\n",
    "            python_code = debugged_code['Corrected Code']\n",
    "\n",
    "        else:\n",
    "            break\n",
    "            \n",
    "    return output, python_code"
   ]
  },
  {
   "cell_type": "code",
   "execution_count": null,
   "metadata": {},
   "outputs": [],
   "source": [
    "# Agent for Math Problem Solver\n",
    "\n",
    "agent = Agent('Math Problem Solver', \n",
    "'''You are a math expert skilled in solving a wide range of math problems, including symbolic, algebraic, and numerical challenges. Your task is to analyze the given problem, break it down into manageable steps, and provide a comprehensive solution with clear, logical reasoning. Ensure that your explanations are thorough, using relevant mathematical principles and terminology. Importantly, present the final answer clearly and explicitly, such that no further calculations are required from the user. Please note: do not use any large language models to derive the solution, you are free to use the tools given to you for the solution like sympy library; all steps should be manually explainable and grounded in mathematical theory. When using code to solve the problem, only print out the final answer. You should only use code to solve the problem if it is necessary and should not be the primary method of solving the problem.\n",
    "''',model=\"gpt-4o\").assign_functions(\n",
    "    [python_generate_and_run_code_tool])\n",
    "\n",
    "\n",
    "# Assign the shared variables for agent so code tool can get context of the task\n",
    "agent.shared_variables['agent'] = agent\n"
   ]
  },
  {
   "cell_type": "markdown",
   "metadata": {},
   "source": [
    "### Example : Counting and Probability"
   ]
  },
  {
   "cell_type": "code",
   "execution_count": null,
   "metadata": {},
   "outputs": [],
   "source": [
    "example_prob = selected_problems['counting_and_probability'][0]\n",
    "\n",
    "with open(example_prob, 'r') as file:\n",
    "    example_data = json.load(file)\n",
    "\n",
    "example_data[\"problem\"]"
   ]
  },
  {
   "cell_type": "markdown",
   "metadata": {},
   "source": [
    "#### Simple example of running the agent on the problem"
   ]
  },
  {
   "cell_type": "code",
   "execution_count": null,
   "metadata": {},
   "outputs": [],
   "source": [
    "agent.reset()    \n",
    "soln = agent.run(example_data[\"problem\"])"
   ]
  }
 ],
 "metadata": {
  "language_info": {
   "name": "python"
  }
 },
 "nbformat": 4,
 "nbformat_minor": 2
}
