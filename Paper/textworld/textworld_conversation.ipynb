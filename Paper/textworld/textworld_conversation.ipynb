{
  "cells": [
    {
      "cell_type": "code",
      "execution_count": null,
      "metadata": {
        "collapsed": true,
        "id": "3k9S056z4yKc"
      },
      "outputs": [],
      "source": [
        "%pip install taskgen-pro textworld gym torch numpy"
      ]
    },
    {
      "cell_type": "code",
      "execution_count": 3,
      "metadata": {
        "id": "xbAsOdyO5AtD"
      },
      "outputs": [],
      "source": [
        "# Set up API key and do the necessary imports\n",
        "from taskgen import *\n",
        "import os\n",
        "from google.colab import userdata\n",
        "\n",
        "# this is only if you use OpenAI as your LLM\n",
        "keyname = 'OPENAI_API_KEY'\n",
        "os.environ['OPENAI_API_KEY'] = userdata.get(keyname)"
      ]
    },
    {
      "cell_type": "code",
      "execution_count": 4,
      "metadata": {
        "id": "a5LwB1SJBpZ7"
      },
      "outputs": [],
      "source": [
        "!tw-make tw-simple --rewards dense --goal detailed --seed 18 --test --silent -f --output games/tw-rewardsDense_goalDetailed.z8\n",
        "!tw-make tw-simple --rewards sparse --goal brief --seed 18 --test --silent -f --output games/tw-rewardsSparse_goalBrief.z8\n",
        "!tw-make tw-simple --rewards sparse --goal none --seed 18 --test --silent -f --output games/tw-rewardsSparse_goalNone.z8"
      ]
    },
    {
      "cell_type": "code",
      "execution_count": 5,
      "metadata": {
        "id": "89QQ2ruf6T1m"
      },
      "outputs": [],
      "source": [
        "def llm(system_prompt: str, user_prompt: str) -> str:\n",
        "    ''' Here, we use OpenAI for illustration, you can change it to your own LLM '''\n",
        "    # ensure your LLM imports are all within this function\n",
        "    from openai import OpenAI\n",
        "\n",
        "    # define your own LLM here\n",
        "    client = OpenAI()\n",
        "    response = client.chat.completions.create(\n",
        "        model='gpt-4o',\n",
        "        seed=42,\n",
        "        temperature = 0,\n",
        "        messages=[\n",
        "            {\"role\": \"system\", \"content\": system_prompt},\n",
        "            {\"role\": \"user\", \"content\": user_prompt}\n",
        "        ]\n",
        "    )\n",
        "    return response.choices[0].message.content"
      ]
    },
    {
      "cell_type": "code",
      "execution_count": 8,
      "metadata": {
        "id": "y2QQN9Xow-BS"
      },
      "outputs": [],
      "source": [
        "import os\n",
        "from glob import glob\n",
        "import numpy as np\n",
        "import textworld.gym\n",
        "from typing import Mapping, Any\n",
        "import torch\n",
        "\n",
        "\n",
        "def play(agent, path, max_step=100, nb_episodes=10, verbose=True):\n",
        "    torch.manual_seed(20211021)  # For reproducibility when using action sampling.\n",
        "\n",
        "    infos_to_request = agent.infos_to_request\n",
        "    infos_to_request.max_score = True  # Needed to normalize the scores.\n",
        "\n",
        "    gamefiles = [path]\n",
        "    if os.path.isdir(path):\n",
        "        gamefiles = glob(os.path.join(path, \"*.z8\"))\n",
        "\n",
        "    env_id = textworld.gym.register_games(gamefiles,\n",
        "                                          request_infos=infos_to_request,\n",
        "                                          max_episode_steps=max_step)\n",
        "    env = textworld.gym.make(env_id)  # Create a Gym environment to play the text game.\n",
        "    if verbose:\n",
        "        if os.path.isdir(path):\n",
        "            print(os.path.dirname(path), end=\"\")\n",
        "        else:\n",
        "            print(os.path.basename(path), end=\"\")\n",
        "\n",
        "    # Collect some statistics: nb_steps, final reward.\n",
        "    avg_moves, avg_scores, avg_norm_scores = [], [], []\n",
        "    for no_episode in range(nb_episodes):\n",
        "        obs, infos = env.reset()  # Start new episode.\n",
        "\n",
        "        score = 0\n",
        "        done = False\n",
        "        nb_moves = 0\n",
        "        while not done:\n",
        "            command = agent.act(obs, score, done, infos)\n",
        "            obs, score, done, infos = env.step(command)\n",
        "            nb_moves += 1\n",
        "\n",
        "        agent.act(obs, score, done, infos)  # Let the agent know the game is done.\n",
        "\n",
        "        if verbose:\n",
        "            print(\".\", end=\"\")\n",
        "        avg_moves.append(nb_moves)\n",
        "        avg_scores.append(score)\n",
        "        avg_norm_scores.append(score / infos[\"max_score\"])\n",
        "\n",
        "    env.close()\n",
        "    if verbose:\n",
        "        if os.path.isdir(path):\n",
        "            msg = \"  \\tavg. steps: {:5.1f}; avg. normalized score: {:4.1f} / {}.\"\n",
        "            print(msg.format(np.mean(avg_moves), np.mean(avg_norm_scores), 1))\n",
        "        else:\n",
        "            msg = \"  \\tavg. steps: {:5.1f}; avg. score: {:4.1f} / {}.\"\n",
        "            print(msg.format(np.mean(avg_moves), np.mean(avg_scores), infos[\"max_score\"]))"
      ]
    },
    {
      "cell_type": "code",
      "execution_count": 9,
      "metadata": {
        "id": "RR2fanXNBuCv"
      },
      "outputs": [],
      "source": [
        "def remove_ascii_art(text):\n",
        "    import re\n",
        "    new_message = \"\"\n",
        "    for line in text.splitlines():\n",
        "        x = re.findall(\"[:alphanum:]\", line)\n",
        "        if x:\n",
        "            new_message += line\n",
        "    return new_message\n",
        "\n",
        "class TaskgenAgent(textworld.gym.Agent):\n",
        "    def __init__(self, seed=1234):\n",
        "        self._seed = seed\n",
        "        self._player = Agent('interactive fiction player',\n",
        "                            'You are the player of an interactive fiction game. \\\n",
        "                            Consider which comands have been successful and try variations throughout the game. \\\n",
        "                            As the player, you may only issue commands in this game. \\\n",
        "                            complete game objectives then explore the game world. \\\n",
        "                            Consider whether the previous command was poorly formed or referred to an object not present. \\\n",
        "                            Commands are like \"LOOK AT BOB\"; \"EAST\"; \"EXAMINE KNIFE\". \\\n",
        "                            Respond only with a single command.',\n",
        "                            llm = llm,\n",
        "                            debug=False)\n",
        "        self.new_conversation()\n",
        "\n",
        "    def new_conversation(self):\n",
        "      self._agent = ConversableAgent(self._player,\n",
        "            persistent_memory = {'game objectives': 'an array of remaining game objectives. exploration may inform new objectives. array excludes objectives achieved.',\n",
        "                                'successful commands': \"an array of commands that succeeded in the game.\",\n",
        "                                'objects' : \"an array of objects discovered and where they were last seen e.g.: 'red car in the northern carpark'; 'cup on the low table'; 'cardboard box in the cellar'.\",\n",
        "                                'rooms': \"an array of rooms discovered and how they are organised e.g.: 'northern carpark east of the kitchen'; 'landing at the top of the stairs'.\"\n",
        "                                },\n",
        "            person = 'Game',\n",
        "            verbose=False)\n",
        "\n",
        "    @property\n",
        "    def infos_to_request(self) -> textworld.EnvInfos:\n",
        "        return textworld.EnvInfos(\n",
        "            #admissible_commands=True,\n",
        "            inventory=True)\n",
        "\n",
        "    def act(self, obs: str, score: int, done: bool, infos: Mapping[str, Any]) -> str:\n",
        "        if done:\n",
        "          self.new_conversation()\n",
        "          return \"quit\"\n",
        "        else:\n",
        "          # result must be shorter than 200 chars https://gitlab.com/DavidGriffith/frotz/-/blob/master/Makefile#L120\n",
        "          obs = remove_ascii_art(obs)\n",
        "          #[ print(f'CHT: {x}') for x in infos]\n",
        "          chat_input = f\"{obs}\\n\\n{infos['inventory']}\\n\"\n",
        "          if 'admissible_commands' in infos :\n",
        "            commands = \"\\n\".join([ f\"- {x}\" for x in infos['admissible_commands'] ])\n",
        "            chat_input += f\"\\npossible commands:\\n{commands}\"\n",
        "          #print(f'INP: {chat_input}')\n",
        "          out_str = self._agent.chat(chat_input)\n",
        "          if len(out_str) > 99:\n",
        "              out_str = out_str[:99]\n",
        "          self._last_command = out_str\n",
        "          #print(f' OUT: {out_str}')\n",
        "          #foo = input('do anything to continue')\n",
        "          return out_str"
      ]
    },
    {
      "cell_type": "code",
      "execution_count": 16,
      "metadata": {
        "id": "4en0ZKBRb29_"
      },
      "outputs": [],
      "source": [
        "from openai import OpenAI\n",
        "client = OpenAI()\n",
        "\n",
        "class LlmAgent(textworld.gym.Agent):\n",
        "    def __init__(self, seed=42):\n",
        "        self.seed = seed\n",
        "        self.previous_messages = []\n",
        "\n",
        "    @property\n",
        "    def infos_to_request(self) -> textworld.EnvInfos:\n",
        "        return textworld.EnvInfos(\n",
        "            admissible_commands=True,\n",
        "            inventory=True)\n",
        "\n",
        "    def act(self, obs: str, score: int, done: bool, infos: Mapping[str, Any]) -> str:\n",
        "        # result should be shorter than 200 chars https://gitlab.com/DavidGriffith/frotz/-/blob/master/Makefile#L120\n",
        "        messages = [{\"role\": \"system\", \"content\": f\"You are the player of an interactive fiction game. As the player, you may only issue certain commands in this game. You must play the game by issuing commands of up to 200 characters.\"}]\n",
        "        [ messages.append( {\"role\": msg[0], \"content\": msg[1]}) for msg in self.previous_messages[-10:]]\n",
        "        obs = remove_ascii_art(obs)\n",
        "        chat_input = f\"{obs}\\n\\n{infos['inventory']}\\n\"\n",
        "        if 'admissible_commands' in infos :\n",
        "          commands = \"\\n\".join([ f\"- {x}\" for x in infos['admissible_commands'] ])\n",
        "          chat_input += f\"\\npossible commands:\\n{commands}\"\n",
        "        #print(f'INP: {chat_input}')\n",
        "        current_state = \"\\n\\n\".join([chat_input, \"What is your command?\"])\n",
        "        messages.append( {\"role\": \"user\", \"content\": current_state})\n",
        "        completion = client.chat.completions.create(model=\"gpt-4o\", max_tokens=200, seed=self.seed, messages=messages)\n",
        "        out_str = completion.choices[0].message.content\n",
        "        self.previous_messages.append( (\"user\", obs))\n",
        "        self.previous_messages.append( (\"assistant\", out_str) )\n",
        "        if len(out_str) > 200:\n",
        "            out_str = out_str[:200]\n",
        "        return out_str"
      ]
    },
    {
      "cell_type": "code",
      "execution_count": 12,
      "metadata": {
        "id": "eIBPUPWHb2-A"
      },
      "outputs": [],
      "source": [
        "class RandomAgent(textworld.gym.Agent):\n",
        "    \"\"\" Agent that randomly selects a command from the admissible ones. \"\"\"\n",
        "    def __init__(self, seed=1234):\n",
        "        self.seed = seed\n",
        "        self.rng = np.random.RandomState(self.seed)\n",
        "\n",
        "    @property\n",
        "    def infos_to_request(self) -> textworld.EnvInfos:\n",
        "        return textworld.EnvInfos(admissible_commands=True)\n",
        "\n",
        "    def act(self, obs: str, score: int, done: bool, infos: Mapping[str, Any]) -> str:\n",
        "        return self.rng.choice(infos[\"admissible_commands\"])"
      ]
    },
    {
      "cell_type": "code",
      "execution_count": null,
      "metadata": {
        "id": "Mid-GpEBG9iT"
      },
      "outputs": [],
      "source": [
        "play(TaskgenAgent(), \"./games/tw-rewardsDense_goalDetailed.z8\")    # Dense rewards, detailed goals\n",
        "play(TaskgenAgent(), \"./games/tw-rewardsSparse_goalBrief.z8\")    # Sparse rewards, brief goals\n",
        "play(TaskgenAgent(), \"./games/tw-rewardsSparse_goalNone.z8\")    # Sparse rewards, no goal"
      ]
    },
    {
      "cell_type": "code",
      "execution_count": null,
      "metadata": {
        "id": "0AtpbN2nb2-A"
      },
      "outputs": [],
      "source": [
        "play(LlmAgent(), \"./games/tw-rewardsDense_goalDetailed.z8\")    # Dense rewards, detailed goals\n",
        "play(LlmAgent(), \"./games/tw-rewardsSparse_goalBrief.z8\")    # Sparse rewards, brief goals\n",
        "play(LlmAgent(), \"./games/tw-rewardsSparse_goalNone.z8\")    # Sparse rewards, no goal"
      ]
    },
    {
      "cell_type": "code",
      "execution_count": null,
      "metadata": {
        "id": "gU9dXkgDb2-B"
      },
      "outputs": [],
      "source": [
        "play(RandomAgent(), \"./games/tw-rewardsDense_goalDetailed.z8\")    # Dense rewards, detailed goals\n",
        "play(RandomAgent(), \"./games/tw-rewardsSparse_goalBrief.z8\")    # Sparse rewards, brief goals\n",
        "play(RandomAgent(), \"./games/tw-rewardsSparse_goalNone.z8\")    # Sparse rewards, no goal"
      ]
    }
  ],
  "metadata": {
    "colab": {
      "provenance": []
    },
    "kernelspec": {
      "display_name": "Python 3",
      "name": "python3"
    },
    "language_info": {
      "codemirror_mode": {
        "name": "ipython",
        "version": 3
      },
      "file_extension": ".py",
      "mimetype": "text/x-python",
      "name": "python",
      "nbconvert_exporter": "python",
      "pygments_lexer": "ipython3",
      "version": "3.11.9"
    }
  },
  "nbformat": 4,
  "nbformat_minor": 0
}
