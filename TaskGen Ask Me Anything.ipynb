{
 "cells": [
  {
   "cell_type": "markdown",
   "id": "2fa1e388-b8f4-4fa3-be5a-ba7c6caae038",
   "metadata": {
    "tags": []
   },
   "source": [
    "# TaskGen Ask Me Anything\n",
    "- First Created: 7 May 2024\n",
    "- Video: https://www.youtube.com/watch?v=mheIWKugqF4\n",
    "- John Tan Chong Min\n",
    "- Updated: 22 Jul 2024\n",
    "- Updated on 22 Jul 2024 to use gpt-4o-mini\n",
    "- Updated on 5 Jul 2024, to use best practices of TaskGen v3.1.0 for External Functions and Shared Variables\n",
    "- Updated on 18 May 2024, using TaskGen v2.2.0 to make it more robust and handle feedback from environment better (removed list of steps to constrain generation, and instead, replan after each subtask)"
   ]
  },
  {
   "cell_type": "markdown",
   "id": "1ed7d18a-aa02-48dd-bc87-8f89755b02f8",
   "metadata": {},
   "source": [
    "# Setup Guide"
   ]
  },
  {
   "cell_type": "markdown",
   "id": "2836f141-1a69-4e0f-b735-090113c791ba",
   "metadata": {},
   "source": [
    "## Step 1: Install TaskGen"
   ]
  },
  {
   "cell_type": "code",
   "execution_count": 1,
   "id": "0e5ca555-0def-4c6c-a47b-d43423b48702",
   "metadata": {
    "tags": []
   },
   "outputs": [],
   "source": [
    "# !pip install taskgen-pro"
   ]
  },
  {
   "cell_type": "markdown",
   "id": "682f565a-b525-462b-9b2b-f206efd189f9",
   "metadata": {},
   "source": [
    "## Step 2: Import required functions and setup relevant API keys for your LLM"
   ]
  },
  {
   "cell_type": "code",
   "execution_count": 2,
   "id": "63d4d037-94d2-49dd-9e17-41079f8ffcf9",
   "metadata": {
    "tags": []
   },
   "outputs": [],
   "source": [
    "# Set up API key and do the necessary imports\n",
    "from taskgen import *\n",
    "import os\n",
    "\n",
    "# this is only if you use OpenAI as your LLM\n",
    "os.environ['OPENAI_API_KEY'] = '<YOUR API KEY HERE>'"
   ]
  },
  {
   "cell_type": "markdown",
   "id": "346ab3d6-0ad8-4b6b-8cd4-fa229546f588",
   "metadata": {},
   "source": [
    "## Step 3: Define your own LLM\n",
    "- Define an `llm` function that takes in as inputs `system_prompt` and `user_prompt`, and outputs llm response string"
   ]
  },
  {
   "cell_type": "code",
   "execution_count": 77,
   "id": "27ef9969-ebb5-46aa-b2b7-3ad6ef24bb95",
   "metadata": {
    "tags": []
   },
   "outputs": [],
   "source": [
    "def llm(system_prompt: str, user_prompt: str) -> str:\n",
    "    ''' Here, we use OpenAI for illustration, you can change it to your own LLM '''\n",
    "    # ensure your LLM imports are all within this function\n",
    "    from openai import OpenAI\n",
    "    \n",
    "    # define your own LLM here\n",
    "    client = OpenAI()\n",
    "    response = client.chat.completions.create(\n",
    "        model='gpt-4o-mini',\n",
    "        temperature = 0,\n",
    "        messages=[\n",
    "            {\"role\": \"system\", \"content\": system_prompt},\n",
    "            {\"role\": \"user\", \"content\": user_prompt}\n",
    "        ]\n",
    "    )\n",
    "    return response.choices[0].message.content"
   ]
  },
  {
   "cell_type": "code",
   "execution_count": 78,
   "id": "e35c34f8-21d1-4bc6-a989-16c8d59f5171",
   "metadata": {
    "tags": []
   },
   "outputs": [
    {
     "data": {
      "text/plain": [
       "'Neutral'"
      ]
     },
     "execution_count": 78,
     "metadata": {},
     "output_type": "execute_result"
    }
   ],
   "source": [
    "# Verify that llm function is working\n",
    "llm(system_prompt = 'You are a classifier to classify the sentiment of a sentence', \n",
    "    user_prompt = 'It is a hot and sunny day')"
   ]
  },
  {
   "cell_type": "markdown",
   "id": "c374068e-e469-4d51-913e-b0812318620f",
   "metadata": {},
   "source": [
    "# Define your Agent"
   ]
  },
  {
   "cell_type": "code",
   "execution_count": 79,
   "id": "86b29290-fbaf-40ae-8170-2f47cfe1698e",
   "metadata": {
    "tags": []
   },
   "outputs": [],
   "source": [
    "agent = Agent('Cooking Expert','Only provides cooking guidance', max_subtasks = 10, llm = llm)"
   ]
  },
  {
   "cell_type": "code",
   "execution_count": 80,
   "id": "ed76e0f3-5598-41ba-bb42-ca06eb7c2156",
   "metadata": {
    "tags": []
   },
   "outputs": [
    {
     "name": "stdout",
     "output_type": "stream",
     "text": [
      "\u001b[1m\u001b[30mObservation: No subtasks have been completed yet for the task of cooking pasta.\u001b[0m\n",
      "\u001b[1m\u001b[32mThoughts: To complete the task of cooking pasta, I need to provide a step-by-step guide on how to cook pasta, including the ingredients and cooking methods.\u001b[0m\n",
      "\u001b[1m\u001b[34mSubtask identified: Provide a detailed guide on how to cook pasta, including the type of pasta, water-to-pasta ratio, cooking time, and any additional tips for perfect pasta.\u001b[0m\n",
      "Getting LLM to perform the following task: Provide a detailed guide on how to cook pasta, including the type of pasta, water-to-pasta ratio, cooking time, and any additional tips for perfect pasta.\n",
      "> To cook perfect pasta, follow this detailed guide:\n",
      "\n",
      "1. **Type of Pasta**: Choose your preferred type of pasta. Common options include spaghetti, penne, fusilli, and fettuccine. Each type has its own unique texture and flavor, so select one that complements your sauce or dish.\n",
      "\n",
      "2. **Water-to-Pasta Ratio**: A general rule of thumb is to use 4 to 6 quarts of water for every pound of pasta. This ensures that the pasta has enough space to cook evenly and prevents it from becoming sticky.\n",
      "\n",
      "3. **Cooking Time**: Cooking times vary depending on the type of pasta. Refer to the package instructions for the recommended cooking time, but here are some general guidelines:\n",
      "   - Spaghetti: 8-10 minutes\n",
      "   - Penne: 11-13 minutes\n",
      "   - Fusilli: 10-12 minutes\n",
      "   - Fettuccine: 10-12 minutes\n",
      "   Always taste the pasta a minute or two before the suggested time to check for doneness; it should be 'al dente' (firm to the bite).\n",
      "\n",
      "4. **Additional Tips for Perfect Pasta**:\n",
      "   - **Salt the Water**: Add a generous amount of salt to the boiling water (about 1-2 tablespoons). This enhances the flavor of the pasta.\n",
      "   - **Do Not Add Oil**: Avoid adding oil to the cooking water, as it can prevent the sauce from adhering to the pasta.\n",
      "   - **Stir Occasionally**: Stir the pasta occasionally during cooking to prevent it from sticking together.\n",
      "   - **Reserve Pasta Water**: Before draining, reserve a cup of the starchy pasta water. This can be added to your sauce to help it cling to the pasta and enhance the flavor.\n",
      "   - **Drain and Toss**: Drain the pasta in a colander, but do not rinse it. Toss it immediately with your sauce to ensure it absorbs the flavors.\n",
      "   - **Serve Immediately**: Pasta is best served fresh and hot. If you need to hold it, toss it with a little olive oil to prevent sticking.\n",
      "\n",
      "By following these steps, you can achieve perfectly cooked pasta every time, ready to be paired with your favorite sauces and ingredients.\n",
      "\n",
      "\u001b[1m\u001b[30mObservation: A detailed guide on how to cook pasta has been provided, covering the type of pasta, water-to-pasta ratio, cooking time, and additional tips for perfect pasta.\u001b[0m\n",
      "\u001b[1m\u001b[32mThoughts: The task of explaining how to cook pasta is complete, as all necessary information has been conveyed. There is no further action required to enhance the guidance provided.\u001b[0m\n",
      "\u001b[1m\u001b[34mSubtask identified: End Task\u001b[0m\n",
      "Task completed successfully!\n",
      "\n"
     ]
    },
    {
     "data": {
      "text/plain": [
       "[\"To cook perfect pasta, follow this detailed guide:\\n\\n1. **Type of Pasta**: Choose your preferred type of pasta. Common options include spaghetti, penne, fusilli, and fettuccine. Each type has its own unique texture and flavor, so select one that complements your sauce or dish.\\n\\n2. **Water-to-Pasta Ratio**: A general rule of thumb is to use 4 to 6 quarts of water for every pound of pasta. This ensures that the pasta has enough space to cook evenly and prevents it from becoming sticky.\\n\\n3. **Cooking Time**: Cooking times vary depending on the type of pasta. Refer to the package instructions for the recommended cooking time, but here are some general guidelines:\\n   - Spaghetti: 8-10 minutes\\n   - Penne: 11-13 minutes\\n   - Fusilli: 10-12 minutes\\n   - Fettuccine: 10-12 minutes\\n   Always taste the pasta a minute or two before the suggested time to check for doneness; it should be 'al dente' (firm to the bite).\\n\\n4. **Additional Tips for Perfect Pasta**:\\n   - **Salt the Water**: Add a generous amount of salt to the boiling water (about 1-2 tablespoons). This enhances the flavor of the pasta.\\n   - **Do Not Add Oil**: Avoid adding oil to the cooking water, as it can prevent the sauce from adhering to the pasta.\\n   - **Stir Occasionally**: Stir the pasta occasionally during cooking to prevent it from sticking together.\\n   - **Reserve Pasta Water**: Before draining, reserve a cup of the starchy pasta water. This can be added to your sauce to help it cling to the pasta and enhance the flavor.\\n   - **Drain and Toss**: Drain the pasta in a colander, but do not rinse it. Toss it immediately with your sauce to ensure it absorbs the flavors.\\n   - **Serve Immediately**: Pasta is best served fresh and hot. If you need to hold it, toss it with a little olive oil to prevent sticking.\\n\\nBy following these steps, you can achieve perfectly cooked pasta every time, ready to be paired with your favorite sauces and ingredients.\"]"
      ]
     },
     "execution_count": 80,
     "metadata": {},
     "output_type": "execute_result"
    }
   ],
   "source": [
    "agent.run('Tell me how to cook pasta')"
   ]
  },
  {
   "cell_type": "code",
   "execution_count": 81,
   "id": "ba6365d7-5a73-44b7-8cde-0f0799ab8cd3",
   "metadata": {
    "tags": []
   },
   "outputs": [
    {
     "name": "stdout",
     "output_type": "stream",
     "text": [
      "Agent Name: Cooking Expert\n",
      "Agent Description: Only provides cooking guidance\n",
      "Available Functions: ['use_llm', 'end_task']\n",
      "Shared Variables: ['agent']\n",
      "\u001b[1m\u001b[32mTask: Tell me how to cook pasta\u001b[0m\n",
      "\u001b[1m\u001b[30mSubtasks Completed:\u001b[0m\n",
      "\u001b[1m\u001b[34mSubtask: Provide a detailed guide on how to cook pasta, including the type of pasta, water-to-pasta ratio, cooking time, and any additional tips for perfect pasta.\u001b[0m\n",
      "To cook perfect pasta, follow this detailed guide:\n",
      "\n",
      "1. **Type of Pasta**: Choose your preferred type of pasta. Common options include spaghetti, penne, fusilli, and fettuccine. Each type has its own unique texture and flavor, so select one that complements your sauce or dish.\n",
      "\n",
      "2. **Water-to-Pasta Ratio**: A general rule of thumb is to use 4 to 6 quarts of water for every pound of pasta. This ensures that the pasta has enough space to cook evenly and prevents it from becoming sticky.\n",
      "\n",
      "3. **Cooking Time**: Cooking times vary depending on the type of pasta. Refer to the package instructions for the recommended cooking time, but here are some general guidelines:\n",
      "   - Spaghetti: 8-10 minutes\n",
      "   - Penne: 11-13 minutes\n",
      "   - Fusilli: 10-12 minutes\n",
      "   - Fettuccine: 10-12 minutes\n",
      "   Always taste the pasta a minute or two before the suggested time to check for doneness; it should be 'al dente' (firm to the bite).\n",
      "\n",
      "4. **Additional Tips for Perfect Pasta**:\n",
      "   - **Salt the Water**: Add a generous amount of salt to the boiling water (about 1-2 tablespoons). This enhances the flavor of the pasta.\n",
      "   - **Do Not Add Oil**: Avoid adding oil to the cooking water, as it can prevent the sauce from adhering to the pasta.\n",
      "   - **Stir Occasionally**: Stir the pasta occasionally during cooking to prevent it from sticking together.\n",
      "   - **Reserve Pasta Water**: Before draining, reserve a cup of the starchy pasta water. This can be added to your sauce to help it cling to the pasta and enhance the flavor.\n",
      "   - **Drain and Toss**: Drain the pasta in a colander, but do not rinse it. Toss it immediately with your sauce to ensure it absorbs the flavors.\n",
      "   - **Serve Immediately**: Pasta is best served fresh and hot. If you need to hold it, toss it with a little olive oil to prevent sticking.\n",
      "\n",
      "By following these steps, you can achieve perfectly cooked pasta every time, ready to be paired with your favorite sauces and ingredients.\n",
      "\n",
      "Is Task Completed: True\n"
     ]
    }
   ],
   "source": [
    "agent.status()"
   ]
  },
  {
   "cell_type": "code",
   "execution_count": 82,
   "id": "dd7eb53d-2136-4c10-b1c4-1e4b42cc79c2",
   "metadata": {
    "tags": []
   },
   "outputs": [
    {
     "name": "stdout",
     "output_type": "stream",
     "text": [
      "- **Type of Pasta**: Choose your preferred type (e.g., spaghetti, penne, fusilli, fettuccine).\n",
      "- **Water-to-Pasta Ratio**: Use 4 to 6 quarts of water for every pound of pasta.\n",
      "- **Cooking Time**: Refer to package instructions; general guidelines are:\n",
      "  - Spaghetti: 8-10 minutes\n",
      "  - Penne: 11-13 minutes\n",
      "  - Fusilli: 10-12 minutes\n",
      "  - Fettuccine: 10-12 minutes\n",
      "  - Always taste a minute or two before the suggested time for 'al dente' texture.\n",
      "- **Additional Tips for Perfect Pasta**:\n",
      "  - **Salt the Water**: Add 1-2 tablespoons of salt to boiling water.\n",
      "  - **Do Not Add Oil**: Avoid adding oil to the cooking water.\n",
      "  - **Stir Occasionally**: Stir the pasta occasionally to prevent sticking.\n",
      "  - **Reserve Pasta Water**: Save a cup of starchy pasta water before draining.\n",
      "  - **Drain and Toss**: Drain in a colander without rinsing; toss with sauce immediately.\n",
      "  - **Serve Immediately**: Best served fresh and hot; toss with olive oil if holding.\n"
     ]
    },
    {
     "data": {
      "text/plain": [
       "\"- **Type of Pasta**: Choose your preferred type (e.g., spaghetti, penne, fusilli, fettuccine).\\n- **Water-to-Pasta Ratio**: Use 4 to 6 quarts of water for every pound of pasta.\\n- **Cooking Time**: Refer to package instructions; general guidelines are:\\n  - Spaghetti: 8-10 minutes\\n  - Penne: 11-13 minutes\\n  - Fusilli: 10-12 minutes\\n  - Fettuccine: 10-12 minutes\\n  - Always taste a minute or two before the suggested time for 'al dente' texture.\\n- **Additional Tips for Perfect Pasta**:\\n  - **Salt the Water**: Add 1-2 tablespoons of salt to boiling water.\\n  - **Do Not Add Oil**: Avoid adding oil to the cooking water.\\n  - **Stir Occasionally**: Stir the pasta occasionally to prevent sticking.\\n  - **Reserve Pasta Water**: Save a cup of starchy pasta water before draining.\\n  - **Drain and Toss**: Drain in a colander without rinsing; toss with sauce immediately.\\n  - **Serve Immediately**: Best served fresh and hot; toss with olive oil if holding.\""
      ]
     },
     "execution_count": 82,
     "metadata": {},
     "output_type": "execute_result"
    }
   ],
   "source": [
    "agent.reply_user('Give me in bullet point format how to cook pasta')"
   ]
  },
  {
   "cell_type": "code",
   "execution_count": 83,
   "id": "5331fcfd-de62-4f5a-a78b-5fd6e2a60a2f",
   "metadata": {
    "tags": []
   },
   "outputs": [
    {
     "name": "stdout",
     "output_type": "stream",
     "text": [
      "Agent Name: Cooking Expert\n",
      "Agent Description: Only provides cooking guidance\n",
      "Available Functions: ['use_llm', 'end_task']\n",
      "Shared Variables: ['agent']\n",
      "\u001b[1m\u001b[32mTask: Tell me how to cook pasta\u001b[0m\n",
      "\u001b[1m\u001b[30mSubtasks Completed:\u001b[0m\n",
      "\u001b[1m\u001b[34mSubtask: Provide a detailed guide on how to cook pasta, including the type of pasta, water-to-pasta ratio, cooking time, and any additional tips for perfect pasta.\u001b[0m\n",
      "To cook perfect pasta, follow this detailed guide:\n",
      "\n",
      "1. **Type of Pasta**: Choose your preferred type of pasta. Common options include spaghetti, penne, fusilli, and fettuccine. Each type has its own unique texture and flavor, so select one that complements your sauce or dish.\n",
      "\n",
      "2. **Water-to-Pasta Ratio**: A general rule of thumb is to use 4 to 6 quarts of water for every pound of pasta. This ensures that the pasta has enough space to cook evenly and prevents it from becoming sticky.\n",
      "\n",
      "3. **Cooking Time**: Cooking times vary depending on the type of pasta. Refer to the package instructions for the recommended cooking time, but here are some general guidelines:\n",
      "   - Spaghetti: 8-10 minutes\n",
      "   - Penne: 11-13 minutes\n",
      "   - Fusilli: 10-12 minutes\n",
      "   - Fettuccine: 10-12 minutes\n",
      "   Always taste the pasta a minute or two before the suggested time to check for doneness; it should be 'al dente' (firm to the bite).\n",
      "\n",
      "4. **Additional Tips for Perfect Pasta**:\n",
      "   - **Salt the Water**: Add a generous amount of salt to the boiling water (about 1-2 tablespoons). This enhances the flavor of the pasta.\n",
      "   - **Do Not Add Oil**: Avoid adding oil to the cooking water, as it can prevent the sauce from adhering to the pasta.\n",
      "   - **Stir Occasionally**: Stir the pasta occasionally during cooking to prevent it from sticking together.\n",
      "   - **Reserve Pasta Water**: Before draining, reserve a cup of the starchy pasta water. This can be added to your sauce to help it cling to the pasta and enhance the flavor.\n",
      "   - **Drain and Toss**: Drain the pasta in a colander, but do not rinse it. Toss it immediately with your sauce to ensure it absorbs the flavors.\n",
      "   - **Serve Immediately**: Pasta is best served fresh and hot. If you need to hold it, toss it with a little olive oil to prevent sticking.\n",
      "\n",
      "By following these steps, you can achieve perfectly cooked pasta every time, ready to be paired with your favorite sauces and ingredients.\n",
      "\n",
      "\u001b[1m\u001b[34mSubtask: Give me in bullet point format how to cook pasta\u001b[0m\n",
      "- **Type of Pasta**: Choose your preferred type (e.g., spaghetti, penne, fusilli, fettuccine).\n",
      "- **Water-to-Pasta Ratio**: Use 4 to 6 quarts of water for every pound of pasta.\n",
      "- **Cooking Time**: Refer to package instructions; general guidelines are:\n",
      "  - Spaghetti: 8-10 minutes\n",
      "  - Penne: 11-13 minutes\n",
      "  - Fusilli: 10-12 minutes\n",
      "  - Fettuccine: 10-12 minutes\n",
      "  - Always taste a minute or two before the suggested time for 'al dente' texture.\n",
      "- **Additional Tips for Perfect Pasta**:\n",
      "  - **Salt the Water**: Add 1-2 tablespoons of salt to boiling water.\n",
      "  - **Do Not Add Oil**: Avoid adding oil to the cooking water.\n",
      "  - **Stir Occasionally**: Stir the pasta occasionally to prevent sticking.\n",
      "  - **Reserve Pasta Water**: Save a cup of starchy pasta water before draining.\n",
      "  - **Drain and Toss**: Drain in a colander without rinsing; toss with sauce immediately.\n",
      "  - **Serve Immediately**: Best served fresh and hot; toss with olive oil if holding.\n",
      "\n",
      "Is Task Completed: True\n"
     ]
    }
   ],
   "source": [
    "agent.status()"
   ]
  },
  {
   "cell_type": "code",
   "execution_count": 84,
   "id": "ec917ca5-78b7-4b8d-8e4b-9f61bb95d980",
   "metadata": {
    "tags": []
   },
   "outputs": [
    {
     "name": "stdout",
     "output_type": "stream",
     "text": [
      "\u001b[1m\u001b[30mObservation: No subtasks have been completed yet for the task of cooking bratwurst sausages.\u001b[0m\n",
      "\u001b[1m\u001b[32mThoughts: To complete the task, I need to provide a detailed cooking method for bratwurst sausages, including preparation, cooking techniques, and any necessary tips.\u001b[0m\n",
      "\u001b[1m\u001b[34mSubtask identified: Provide a step-by-step guide on how to cook bratwurst sausages, including preparation, cooking methods, and serving suggestions.\u001b[0m\n",
      "Getting LLM to perform the following task: Provide a step-by-step guide on how to cook bratwurst sausages, including preparation, cooking methods, and serving suggestions.\n",
      "> To cook bratwurst sausages, follow this step-by-step guide:\n",
      "\n",
      "**Preparation:**\n",
      "1. **Choose Your Bratwurst:** Select high-quality bratwurst sausages, which can be found fresh or pre-cooked at your local grocery store.\n",
      "2. **Thaw if Frozen:** If your bratwurst is frozen, thaw it in the refrigerator overnight or use the defrost setting on your microwave.\n",
      "3. **Prick the Sausages:** Use a fork to prick the sausages a few times. This helps prevent them from bursting while cooking.\n",
      "4. **Marinate (Optional):** For added flavor, marinate the sausages in beer, apple cider, or a mixture of spices for a few hours before cooking.\n",
      "\n",
      "**Cooking Methods:**\n",
      "1. **Grilling:**  \n",
      "   - Preheat your grill to medium heat. \n",
      "   - Place the bratwurst on the grill and cook for about 15-20 minutes, turning occasionally until they are browned and cooked through (internal temperature should reach 160°F or 70°C).\n",
      "   - For extra flavor, you can add sliced onions and peppers to the grill during the last 10 minutes of cooking.\n",
      "\n",
      "2. **Pan-Frying:**  \n",
      "   - Heat a skillet over medium heat and add a tablespoon of oil or butter. \n",
      "   - Add the bratwurst and cook for about 10-15 minutes, turning occasionally until browned and cooked through.\n",
      "   - You can add sliced onions to the skillet for additional flavor.\n",
      "\n",
      "3. **Boiling:**  \n",
      "   - In a pot, bring a mixture of water and beer to a boil. \n",
      "   - Add the bratwurst and reduce the heat to a simmer. Cook for about 10-15 minutes. \n",
      "   - After boiling, you can finish them on the grill or in a skillet for a crispy exterior.\n",
      "\n",
      "4. **Oven Baking:**  \n",
      "   - Preheat your oven to 400°F (200°C). \n",
      "   - Place the bratwurst on a baking sheet lined with parchment paper. \n",
      "   - Bake for about 20-25 minutes, turning halfway through, until browned and cooked through.\n",
      "\n",
      "**Serving Suggestions:**\n",
      "- Serve bratwurst in a toasted bun with mustard, sauerkraut, or grilled onions.\n",
      "- Pair with sides like potato salad, coleslaw, or baked beans.\n",
      "- For a complete meal, consider serving with a cold beer or a refreshing soda.\n",
      "- Garnish with fresh herbs or pickles for added flavor.\n",
      "\n",
      "Enjoy your delicious bratwurst sausages!\n",
      "\n",
      "\u001b[1m\u001b[30mObservation: A comprehensive step-by-step guide on how to cook bratwurst sausages has been provided, covering preparation, various cooking methods, and serving suggestions.\u001b[0m\n",
      "\u001b[1m\u001b[32mThoughts: Since the guide is complete and covers all aspects of cooking bratwurst sausages, the next step is to finalize the task and present the information to the user.\u001b[0m\n",
      "\u001b[1m\u001b[34mSubtask identified: End Task\u001b[0m\n",
      "Task completed successfully!\n",
      "\n"
     ]
    },
    {
     "data": {
      "text/plain": [
       "['To cook bratwurst sausages, follow this step-by-step guide:\\n\\n**Preparation:**\\n1. **Choose Your Bratwurst:** Select high-quality bratwurst sausages, which can be found fresh or pre-cooked at your local grocery store.\\n2. **Thaw if Frozen:** If your bratwurst is frozen, thaw it in the refrigerator overnight or use the defrost setting on your microwave.\\n3. **Prick the Sausages:** Use a fork to prick the sausages a few times. This helps prevent them from bursting while cooking.\\n4. **Marinate (Optional):** For added flavor, marinate the sausages in beer, apple cider, or a mixture of spices for a few hours before cooking.\\n\\n**Cooking Methods:**\\n1. **Grilling:**  \\n   - Preheat your grill to medium heat. \\n   - Place the bratwurst on the grill and cook for about 15-20 minutes, turning occasionally until they are browned and cooked through (internal temperature should reach 160°F or 70°C).\\n   - For extra flavor, you can add sliced onions and peppers to the grill during the last 10 minutes of cooking.\\n\\n2. **Pan-Frying:**  \\n   - Heat a skillet over medium heat and add a tablespoon of oil or butter. \\n   - Add the bratwurst and cook for about 10-15 minutes, turning occasionally until browned and cooked through.\\n   - You can add sliced onions to the skillet for additional flavor.\\n\\n3. **Boiling:**  \\n   - In a pot, bring a mixture of water and beer to a boil. \\n   - Add the bratwurst and reduce the heat to a simmer. Cook for about 10-15 minutes. \\n   - After boiling, you can finish them on the grill or in a skillet for a crispy exterior.\\n\\n4. **Oven Baking:**  \\n   - Preheat your oven to 400°F (200°C). \\n   - Place the bratwurst on a baking sheet lined with parchment paper. \\n   - Bake for about 20-25 minutes, turning halfway through, until browned and cooked through.\\n\\n**Serving Suggestions:**\\n- Serve bratwurst in a toasted bun with mustard, sauerkraut, or grilled onions.\\n- Pair with sides like potato salad, coleslaw, or baked beans.\\n- For a complete meal, consider serving with a cold beer or a refreshing soda.\\n- Garnish with fresh herbs or pickles for added flavor.\\n\\nEnjoy your delicious bratwurst sausages!']"
      ]
     },
     "execution_count": 84,
     "metadata": {},
     "output_type": "execute_result"
    }
   ],
   "source": [
    "# Note: it is better to reset an agent if you want to change the task\n",
    "agent.reset()\n",
    "agent.run('How to cook bratwurst sausages')"
   ]
  },
  {
   "cell_type": "code",
   "execution_count": 85,
   "id": "c1a68f85-0209-423d-8506-18e6efd126d9",
   "metadata": {
    "tags": []
   },
   "outputs": [
    {
     "name": "stdout",
     "output_type": "stream",
     "text": [
      "Agent Name: Cooking Expert\n",
      "Agent Description: Only provides cooking guidance\n",
      "Available Functions: ['use_llm', 'end_task']\n",
      "Shared Variables: ['agent']\n",
      "\u001b[1m\u001b[32mTask: How to cook bratwurst sausages\u001b[0m\n",
      "\u001b[1m\u001b[30mSubtasks Completed:\u001b[0m\n",
      "\u001b[1m\u001b[34mSubtask: Provide a step-by-step guide on how to cook bratwurst sausages, including preparation, cooking methods, and serving suggestions.\u001b[0m\n",
      "To cook bratwurst sausages, follow this step-by-step guide:\n",
      "\n",
      "**Preparation:**\n",
      "1. **Choose Your Bratwurst:** Select high-quality bratwurst sausages, which can be found fresh or pre-cooked at your local grocery store.\n",
      "2. **Thaw if Frozen:** If your bratwurst is frozen, thaw it in the refrigerator overnight or use the defrost setting on your microwave.\n",
      "3. **Prick the Sausages:** Use a fork to prick the sausages a few times. This helps prevent them from bursting while cooking.\n",
      "4. **Marinate (Optional):** For added flavor, marinate the sausages in beer, apple cider, or a mixture of spices for a few hours before cooking.\n",
      "\n",
      "**Cooking Methods:**\n",
      "1. **Grilling:**  \n",
      "   - Preheat your grill to medium heat. \n",
      "   - Place the bratwurst on the grill and cook for about 15-20 minutes, turning occasionally until they are browned and cooked through (internal temperature should reach 160°F or 70°C).\n",
      "   - For extra flavor, you can add sliced onions and peppers to the grill during the last 10 minutes of cooking.\n",
      "\n",
      "2. **Pan-Frying:**  \n",
      "   - Heat a skillet over medium heat and add a tablespoon of oil or butter. \n",
      "   - Add the bratwurst and cook for about 10-15 minutes, turning occasionally until browned and cooked through.\n",
      "   - You can add sliced onions to the skillet for additional flavor.\n",
      "\n",
      "3. **Boiling:**  \n",
      "   - In a pot, bring a mixture of water and beer to a boil. \n",
      "   - Add the bratwurst and reduce the heat to a simmer. Cook for about 10-15 minutes. \n",
      "   - After boiling, you can finish them on the grill or in a skillet for a crispy exterior.\n",
      "\n",
      "4. **Oven Baking:**  \n",
      "   - Preheat your oven to 400°F (200°C). \n",
      "   - Place the bratwurst on a baking sheet lined with parchment paper. \n",
      "   - Bake for about 20-25 minutes, turning halfway through, until browned and cooked through.\n",
      "\n",
      "**Serving Suggestions:**\n",
      "- Serve bratwurst in a toasted bun with mustard, sauerkraut, or grilled onions.\n",
      "- Pair with sides like potato salad, coleslaw, or baked beans.\n",
      "- For a complete meal, consider serving with a cold beer or a refreshing soda.\n",
      "- Garnish with fresh herbs or pickles for added flavor.\n",
      "\n",
      "Enjoy your delicious bratwurst sausages!\n",
      "\n",
      "Is Task Completed: True\n"
     ]
    }
   ],
   "source": [
    "agent.status()"
   ]
  },
  {
   "cell_type": "code",
   "execution_count": 86,
   "id": "96ca48bd-fc5f-4cd2-b95b-083702d5d215",
   "metadata": {
    "tags": []
   },
   "outputs": [
    {
     "name": "stdout",
     "output_type": "stream",
     "text": [
      "The cooking time for bratwurst sausages varies depending on the method used:\n",
      "\n",
      "1. **Grilling:** Cook for about 15-20 minutes, turning occasionally until they are browned and cooked through (internal temperature should reach 160°F or 70°C).\n",
      "\n",
      "2. **Pan-Frying:** Cook for about 10-15 minutes, turning occasionally until browned and cooked through.\n",
      "\n",
      "3. **Boiling:** Cook for about 10-15 minutes after bringing the water and beer mixture to a boil, then reduce to a simmer.\n",
      "\n",
      "4. **Oven Baking:** Bake for about 20-25 minutes, turning halfway through, until browned and cooked through.\n",
      "\n",
      "Ensure that the internal temperature reaches 160°F (70°C) for safe consumption.\n"
     ]
    },
    {
     "data": {
      "text/plain": [
       "'The cooking time for bratwurst sausages varies depending on the method used:\\n\\n1. **Grilling:** Cook for about 15-20 minutes, turning occasionally until they are browned and cooked through (internal temperature should reach 160°F or 70°C).\\n\\n2. **Pan-Frying:** Cook for about 10-15 minutes, turning occasionally until browned and cooked through.\\n\\n3. **Boiling:** Cook for about 10-15 minutes after bringing the water and beer mixture to a boil, then reduce to a simmer.\\n\\n4. **Oven Baking:** Bake for about 20-25 minutes, turning halfway through, until browned and cooked through.\\n\\nEnsure that the internal temperature reaches 160°F (70°C) for safe consumption.'"
      ]
     },
     "execution_count": 86,
     "metadata": {},
     "output_type": "execute_result"
    }
   ],
   "source": [
    "# Use stateful = False if you don't want the reply to user to go into Subtasks Completed\n",
    "agent.reply_user('How long should I cook for?', stateful = False)"
   ]
  },
  {
   "cell_type": "code",
   "execution_count": 87,
   "id": "d5c76b71-51f8-4305-ae33-e5c67b06e616",
   "metadata": {
    "tags": []
   },
   "outputs": [
    {
     "name": "stdout",
     "output_type": "stream",
     "text": [
      "Agent Name: Cooking Expert\n",
      "Agent Description: Only provides cooking guidance\n",
      "Available Functions: ['use_llm', 'end_task']\n",
      "Shared Variables: ['agent']\n",
      "\u001b[1m\u001b[32mTask: How to cook bratwurst sausages\u001b[0m\n",
      "\u001b[1m\u001b[30mSubtasks Completed:\u001b[0m\n",
      "\u001b[1m\u001b[34mSubtask: Provide a step-by-step guide on how to cook bratwurst sausages, including preparation, cooking methods, and serving suggestions.\u001b[0m\n",
      "To cook bratwurst sausages, follow this step-by-step guide:\n",
      "\n",
      "**Preparation:**\n",
      "1. **Choose Your Bratwurst:** Select high-quality bratwurst sausages, which can be found fresh or pre-cooked at your local grocery store.\n",
      "2. **Thaw if Frozen:** If your bratwurst is frozen, thaw it in the refrigerator overnight or use the defrost setting on your microwave.\n",
      "3. **Prick the Sausages:** Use a fork to prick the sausages a few times. This helps prevent them from bursting while cooking.\n",
      "4. **Marinate (Optional):** For added flavor, marinate the sausages in beer, apple cider, or a mixture of spices for a few hours before cooking.\n",
      "\n",
      "**Cooking Methods:**\n",
      "1. **Grilling:**  \n",
      "   - Preheat your grill to medium heat. \n",
      "   - Place the bratwurst on the grill and cook for about 15-20 minutes, turning occasionally until they are browned and cooked through (internal temperature should reach 160°F or 70°C).\n",
      "   - For extra flavor, you can add sliced onions and peppers to the grill during the last 10 minutes of cooking.\n",
      "\n",
      "2. **Pan-Frying:**  \n",
      "   - Heat a skillet over medium heat and add a tablespoon of oil or butter. \n",
      "   - Add the bratwurst and cook for about 10-15 minutes, turning occasionally until browned and cooked through.\n",
      "   - You can add sliced onions to the skillet for additional flavor.\n",
      "\n",
      "3. **Boiling:**  \n",
      "   - In a pot, bring a mixture of water and beer to a boil. \n",
      "   - Add the bratwurst and reduce the heat to a simmer. Cook for about 10-15 minutes. \n",
      "   - After boiling, you can finish them on the grill or in a skillet for a crispy exterior.\n",
      "\n",
      "4. **Oven Baking:**  \n",
      "   - Preheat your oven to 400°F (200°C). \n",
      "   - Place the bratwurst on a baking sheet lined with parchment paper. \n",
      "   - Bake for about 20-25 minutes, turning halfway through, until browned and cooked through.\n",
      "\n",
      "**Serving Suggestions:**\n",
      "- Serve bratwurst in a toasted bun with mustard, sauerkraut, or grilled onions.\n",
      "- Pair with sides like potato salad, coleslaw, or baked beans.\n",
      "- For a complete meal, consider serving with a cold beer or a refreshing soda.\n",
      "- Garnish with fresh herbs or pickles for added flavor.\n",
      "\n",
      "Enjoy your delicious bratwurst sausages!\n",
      "\n",
      "Is Task Completed: True\n"
     ]
    }
   ],
   "source": [
    "agent.status()"
   ]
  },
  {
   "cell_type": "markdown",
   "id": "86949085-f3b5-4d60-beed-b8cec9e09b01",
   "metadata": {
    "tags": []
   },
   "source": [
    "## Stepping through one step at a time"
   ]
  },
  {
   "cell_type": "code",
   "execution_count": 88,
   "id": "0360ca0c-d1a4-4433-985b-676aef030fa8",
   "metadata": {
    "tags": []
   },
   "outputs": [],
   "source": [
    "agent = Agent('Cooking Expert','Only provides cooking guidance', max_subtasks = 10, llm = llm)"
   ]
  },
  {
   "cell_type": "code",
   "execution_count": 89,
   "id": "309f3b36-dc75-4745-a312-0c17736009dc",
   "metadata": {
    "tags": []
   },
   "outputs": [
    {
     "name": "stdout",
     "output_type": "stream",
     "text": [
      "\u001b[1m\u001b[30mObservation: No subtasks have been completed yet for the task of cooking an omelette.\u001b[0m\n",
      "\u001b[1m\u001b[32mThoughts: To complete the task of cooking an omelette, I need to provide a detailed recipe and instructions on how to prepare it.\u001b[0m\n",
      "\u001b[1m\u001b[34mSubtask identified: Provide a step-by-step guide on how to cook an omelette, including ingredients and cooking techniques.\u001b[0m\n",
      "Getting LLM to perform the following task: Provide a step-by-step guide on how to cook an omelette, including ingredients and cooking techniques.\n",
      "> To cook a delicious omelette, follow these step-by-step instructions:\n",
      "\n",
      "**Ingredients:**\n",
      "1. 2-3 large eggs\n",
      "2. Salt (to taste)\n",
      "3. Pepper (to taste)\n",
      "4. 1 tablespoon of butter or oil\n",
      "5. Optional fillings: cheese, diced vegetables (like bell peppers, onions, or tomatoes), cooked meats (like ham or bacon), or herbs (like chives or parsley).\n",
      "\n",
      "**Cooking Techniques:**\n",
      "1. **Prepare the Ingredients:**\n",
      "   - Crack the eggs into a bowl and add a pinch of salt and pepper. Whisk them together until the yolks and whites are fully combined and slightly frothy.\n",
      "   - If using fillings, prepare them by chopping vegetables or shredding cheese.\n",
      "\n",
      "2. **Heat the Pan:**\n",
      "   - Place a non-stick skillet over medium heat and add the butter or oil. Allow it to melt and coat the bottom of the pan evenly.\n",
      "\n",
      "3. **Cook the Eggs:**\n",
      "   - Once the butter is bubbling but not browned, pour the whisked eggs into the skillet. Let them sit for a few seconds to start setting.\n",
      "   - Using a spatula, gently stir the eggs, pushing them from the edges towards the center. This helps to cook the eggs evenly.\n",
      "\n",
      "4. **Add Fillings:**\n",
      "   - When the eggs are mostly set but still slightly runny on top, sprinkle your desired fillings over one half of the omelette.\n",
      "\n",
      "5. **Fold the Omelette:**\n",
      "   - Carefully fold the other half of the omelette over the fillings using the spatula. Let it cook for another minute or so until the inside is cooked to your liking and the cheese (if used) is melted.\n",
      "\n",
      "6. **Serve:**\n",
      "   - Slide the omelette onto a plate and serve immediately. You can garnish with additional herbs or a sprinkle of cheese if desired.\n",
      "\n",
      "Enjoy your homemade omelette, which can be customized with various ingredients to suit your taste!\n",
      "\n"
     ]
    },
    {
     "data": {
      "text/plain": [
       "['To cook a delicious omelette, follow these step-by-step instructions:\\n\\n**Ingredients:**\\n1. 2-3 large eggs\\n2. Salt (to taste)\\n3. Pepper (to taste)\\n4. 1 tablespoon of butter or oil\\n5. Optional fillings: cheese, diced vegetables (like bell peppers, onions, or tomatoes), cooked meats (like ham or bacon), or herbs (like chives or parsley).\\n\\n**Cooking Techniques:**\\n1. **Prepare the Ingredients:**\\n   - Crack the eggs into a bowl and add a pinch of salt and pepper. Whisk them together until the yolks and whites are fully combined and slightly frothy.\\n   - If using fillings, prepare them by chopping vegetables or shredding cheese.\\n\\n2. **Heat the Pan:**\\n   - Place a non-stick skillet over medium heat and add the butter or oil. Allow it to melt and coat the bottom of the pan evenly.\\n\\n3. **Cook the Eggs:**\\n   - Once the butter is bubbling but not browned, pour the whisked eggs into the skillet. Let them sit for a few seconds to start setting.\\n   - Using a spatula, gently stir the eggs, pushing them from the edges towards the center. This helps to cook the eggs evenly.\\n\\n4. **Add Fillings:**\\n   - When the eggs are mostly set but still slightly runny on top, sprinkle your desired fillings over one half of the omelette.\\n\\n5. **Fold the Omelette:**\\n   - Carefully fold the other half of the omelette over the fillings using the spatula. Let it cook for another minute or so until the inside is cooked to your liking and the cheese (if used) is melted.\\n\\n6. **Serve:**\\n   - Slide the omelette onto a plate and serve immediately. You can garnish with additional herbs or a sprinkle of cheese if desired.\\n\\nEnjoy your homemade omelette, which can be customized with various ingredients to suit your taste!']"
      ]
     },
     "execution_count": 89,
     "metadata": {},
     "output_type": "execute_result"
    }
   ],
   "source": [
    "agent.run('Tell me how to cook omelette', num_subtasks = 1)"
   ]
  },
  {
   "cell_type": "code",
   "execution_count": 90,
   "id": "fe39d868-f0c6-4e92-9b68-8bed45762ba9",
   "metadata": {
    "tags": []
   },
   "outputs": [
    {
     "name": "stdout",
     "output_type": "stream",
     "text": [
      "Agent Name: Cooking Expert\n",
      "Agent Description: Only provides cooking guidance\n",
      "Available Functions: ['use_llm', 'end_task']\n",
      "Shared Variables: ['agent']\n",
      "\u001b[1m\u001b[32mTask: Tell me how to cook omelette\u001b[0m\n",
      "\u001b[1m\u001b[30mSubtasks Completed:\u001b[0m\n",
      "\u001b[1m\u001b[34mSubtask: Provide a step-by-step guide on how to cook an omelette, including ingredients and cooking techniques.\u001b[0m\n",
      "To cook a delicious omelette, follow these step-by-step instructions:\n",
      "\n",
      "**Ingredients:**\n",
      "1. 2-3 large eggs\n",
      "2. Salt (to taste)\n",
      "3. Pepper (to taste)\n",
      "4. 1 tablespoon of butter or oil\n",
      "5. Optional fillings: cheese, diced vegetables (like bell peppers, onions, or tomatoes), cooked meats (like ham or bacon), or herbs (like chives or parsley).\n",
      "\n",
      "**Cooking Techniques:**\n",
      "1. **Prepare the Ingredients:**\n",
      "   - Crack the eggs into a bowl and add a pinch of salt and pepper. Whisk them together until the yolks and whites are fully combined and slightly frothy.\n",
      "   - If using fillings, prepare them by chopping vegetables or shredding cheese.\n",
      "\n",
      "2. **Heat the Pan:**\n",
      "   - Place a non-stick skillet over medium heat and add the butter or oil. Allow it to melt and coat the bottom of the pan evenly.\n",
      "\n",
      "3. **Cook the Eggs:**\n",
      "   - Once the butter is bubbling but not browned, pour the whisked eggs into the skillet. Let them sit for a few seconds to start setting.\n",
      "   - Using a spatula, gently stir the eggs, pushing them from the edges towards the center. This helps to cook the eggs evenly.\n",
      "\n",
      "4. **Add Fillings:**\n",
      "   - When the eggs are mostly set but still slightly runny on top, sprinkle your desired fillings over one half of the omelette.\n",
      "\n",
      "5. **Fold the Omelette:**\n",
      "   - Carefully fold the other half of the omelette over the fillings using the spatula. Let it cook for another minute or so until the inside is cooked to your liking and the cheese (if used) is melted.\n",
      "\n",
      "6. **Serve:**\n",
      "   - Slide the omelette onto a plate and serve immediately. You can garnish with additional herbs or a sprinkle of cheese if desired.\n",
      "\n",
      "Enjoy your homemade omelette, which can be customized with various ingredients to suit your taste!\n",
      "\n",
      "Is Task Completed: False\n"
     ]
    }
   ],
   "source": [
    "agent.status()"
   ]
  },
  {
   "cell_type": "code",
   "execution_count": 91,
   "id": "6230fd3d-f679-4429-9977-230bcc616cb2",
   "metadata": {
    "tags": []
   },
   "outputs": [
    {
     "name": "stdout",
     "output_type": "stream",
     "text": [
      "\u001b[1m\u001b[30mObservation: A detailed step-by-step guide on how to cook an omelette has been provided, including ingredients and cooking techniques.\u001b[0m\n",
      "\u001b[1m\u001b[32mThoughts: The task of cooking an omelette has been thoroughly explained, and there is no further information needed. The next step is to finalize the task and provide the output to the user.\u001b[0m\n",
      "\u001b[1m\u001b[34mSubtask identified: End Task\u001b[0m\n",
      "Task completed successfully!\n",
      "\n"
     ]
    },
    {
     "data": {
      "text/plain": [
       "['To cook a delicious omelette, follow these step-by-step instructions:\\n\\n**Ingredients:**\\n1. 2-3 large eggs\\n2. Salt (to taste)\\n3. Pepper (to taste)\\n4. 1 tablespoon of butter or oil\\n5. Optional fillings: cheese, diced vegetables (like bell peppers, onions, or tomatoes), cooked meats (like ham or bacon), or herbs (like chives or parsley).\\n\\n**Cooking Techniques:**\\n1. **Prepare the Ingredients:**\\n   - Crack the eggs into a bowl and add a pinch of salt and pepper. Whisk them together until the yolks and whites are fully combined and slightly frothy.\\n   - If using fillings, prepare them by chopping vegetables or shredding cheese.\\n\\n2. **Heat the Pan:**\\n   - Place a non-stick skillet over medium heat and add the butter or oil. Allow it to melt and coat the bottom of the pan evenly.\\n\\n3. **Cook the Eggs:**\\n   - Once the butter is bubbling but not browned, pour the whisked eggs into the skillet. Let them sit for a few seconds to start setting.\\n   - Using a spatula, gently stir the eggs, pushing them from the edges towards the center. This helps to cook the eggs evenly.\\n\\n4. **Add Fillings:**\\n   - When the eggs are mostly set but still slightly runny on top, sprinkle your desired fillings over one half of the omelette.\\n\\n5. **Fold the Omelette:**\\n   - Carefully fold the other half of the omelette over the fillings using the spatula. Let it cook for another minute or so until the inside is cooked to your liking and the cheese (if used) is melted.\\n\\n6. **Serve:**\\n   - Slide the omelette onto a plate and serve immediately. You can garnish with additional herbs or a sprinkle of cheese if desired.\\n\\nEnjoy your homemade omelette, which can be customized with various ingredients to suit your taste!']"
      ]
     },
     "execution_count": 91,
     "metadata": {},
     "output_type": "execute_result"
    }
   ],
   "source": [
    "agent.run('Tell me how to cook omelette', num_subtasks = 1)"
   ]
  },
  {
   "cell_type": "code",
   "execution_count": 92,
   "id": "d9020c13-6435-4c49-ae52-12fa63cd0037",
   "metadata": {
    "tags": []
   },
   "outputs": [
    {
     "name": "stdout",
     "output_type": "stream",
     "text": [
      "Agent Name: Cooking Expert\n",
      "Agent Description: Only provides cooking guidance\n",
      "Available Functions: ['use_llm', 'end_task']\n",
      "Shared Variables: ['agent']\n",
      "\u001b[1m\u001b[32mTask: Tell me how to cook omelette\u001b[0m\n",
      "\u001b[1m\u001b[30mSubtasks Completed:\u001b[0m\n",
      "\u001b[1m\u001b[34mSubtask: Provide a step-by-step guide on how to cook an omelette, including ingredients and cooking techniques.\u001b[0m\n",
      "To cook a delicious omelette, follow these step-by-step instructions:\n",
      "\n",
      "**Ingredients:**\n",
      "1. 2-3 large eggs\n",
      "2. Salt (to taste)\n",
      "3. Pepper (to taste)\n",
      "4. 1 tablespoon of butter or oil\n",
      "5. Optional fillings: cheese, diced vegetables (like bell peppers, onions, or tomatoes), cooked meats (like ham or bacon), or herbs (like chives or parsley).\n",
      "\n",
      "**Cooking Techniques:**\n",
      "1. **Prepare the Ingredients:**\n",
      "   - Crack the eggs into a bowl and add a pinch of salt and pepper. Whisk them together until the yolks and whites are fully combined and slightly frothy.\n",
      "   - If using fillings, prepare them by chopping vegetables or shredding cheese.\n",
      "\n",
      "2. **Heat the Pan:**\n",
      "   - Place a non-stick skillet over medium heat and add the butter or oil. Allow it to melt and coat the bottom of the pan evenly.\n",
      "\n",
      "3. **Cook the Eggs:**\n",
      "   - Once the butter is bubbling but not browned, pour the whisked eggs into the skillet. Let them sit for a few seconds to start setting.\n",
      "   - Using a spatula, gently stir the eggs, pushing them from the edges towards the center. This helps to cook the eggs evenly.\n",
      "\n",
      "4. **Add Fillings:**\n",
      "   - When the eggs are mostly set but still slightly runny on top, sprinkle your desired fillings over one half of the omelette.\n",
      "\n",
      "5. **Fold the Omelette:**\n",
      "   - Carefully fold the other half of the omelette over the fillings using the spatula. Let it cook for another minute or so until the inside is cooked to your liking and the cheese (if used) is melted.\n",
      "\n",
      "6. **Serve:**\n",
      "   - Slide the omelette onto a plate and serve immediately. You can garnish with additional herbs or a sprinkle of cheese if desired.\n",
      "\n",
      "Enjoy your homemade omelette, which can be customized with various ingredients to suit your taste!\n",
      "\n",
      "Is Task Completed: True\n"
     ]
    }
   ],
   "source": [
    "agent.status()"
   ]
  },
  {
   "cell_type": "code",
   "execution_count": 93,
   "id": "6670fe36-bd4b-4784-b0b7-95f143138a83",
   "metadata": {
    "tags": []
   },
   "outputs": [
    {
     "name": "stdout",
     "output_type": "stream",
     "text": [
      "1. **Ingredients Needed:**\n",
      "   - 2-3 large eggs\n",
      "   - Salt and pepper (to taste)\n",
      "   - 1 tablespoon of butter or oil\n",
      "   - Optional fillings: cheese, diced vegetables, cooked meats, or herbs.\n",
      "\n",
      "2. **Prepare Ingredients:**\n",
      "   - Crack eggs into a bowl, add salt and pepper, and whisk until combined.\n",
      "   - Prepare any optional fillings by chopping or shredding.\n",
      "\n",
      "3. **Heat Pan:**\n",
      "   - Use a non-stick skillet over medium heat, add butter or oil, and let it melt.\n",
      "\n",
      "4. **Cook Eggs:**\n",
      "   - Pour whisked eggs into the skillet, let sit briefly, then gently stir with a spatula.\n",
      "\n",
      "5. **Add Fillings:**\n",
      "   - When eggs are mostly set, sprinkle desired fillings over one half of the omelette.\n",
      "\n",
      "6. **Fold Omelette:**\n",
      "   - Fold the other half over the fillings and cook for another minute until done.\n",
      "\n",
      "7. **Serve:**\n",
      "   - Slide onto a plate and serve immediately, garnishing if desired.\n"
     ]
    },
    {
     "data": {
      "text/plain": [
       "'1. **Ingredients Needed:**\\n   - 2-3 large eggs\\n   - Salt and pepper (to taste)\\n   - 1 tablespoon of butter or oil\\n   - Optional fillings: cheese, diced vegetables, cooked meats, or herbs.\\n\\n2. **Prepare Ingredients:**\\n   - Crack eggs into a bowl, add salt and pepper, and whisk until combined.\\n   - Prepare any optional fillings by chopping or shredding.\\n\\n3. **Heat Pan:**\\n   - Use a non-stick skillet over medium heat, add butter or oil, and let it melt.\\n\\n4. **Cook Eggs:**\\n   - Pour whisked eggs into the skillet, let sit briefly, then gently stir with a spatula.\\n\\n5. **Add Fillings:**\\n   - When eggs are mostly set, sprinkle desired fillings over one half of the omelette.\\n\\n6. **Fold Omelette:**\\n   - Fold the other half over the fillings and cook for another minute until done.\\n\\n7. **Serve:**\\n   - Slide onto a plate and serve immediately, garnishing if desired.'"
      ]
     },
     "execution_count": 93,
     "metadata": {},
     "output_type": "execute_result"
    }
   ],
   "source": [
    "agent.reply_user('Summarise how to cook an omelette in point form', stateful = False)"
   ]
  },
  {
   "cell_type": "code",
   "execution_count": 94,
   "id": "fffaada1-c48d-44fb-a128-eba6e80f6f55",
   "metadata": {
    "tags": []
   },
   "outputs": [
    {
     "name": "stdout",
     "output_type": "stream",
     "text": [
      "As a Cooking Expert, I only provide cooking guidance and do not have information regarding the number of stars in the universe. My expertise is focused on culinary topics, such as providing recipes and cooking techniques. If you have any questions about cooking or need assistance with a recipe, feel free to ask!\n"
     ]
    },
    {
     "data": {
      "text/plain": [
       "'As a Cooking Expert, I only provide cooking guidance and do not have information regarding the number of stars in the universe. My expertise is focused on culinary topics, such as providing recipes and cooking techniques. If you have any questions about cooking or need assistance with a recipe, feel free to ask!'"
      ]
     },
     "execution_count": 94,
     "metadata": {},
     "output_type": "execute_result"
    }
   ],
   "source": [
    "# reply_user only uses what the subtasks completed has\n",
    "agent.reply_user('How many stars are there in the universe?', stateful = False)"
   ]
  },
  {
   "cell_type": "markdown",
   "id": "52c03591-4cf3-4b19-9c61-a2760c2950bc",
   "metadata": {},
   "source": [
    "## When to use StrictJSON vs TaskGen\n",
    "- `Agent` in TaskGen is for Agentic Flow where you don't know what function to call\n",
    "- `strict_json` is when you already know what you want to do in the pipeline, then define inputs and outputs to ask LLM to do input-output matching"
   ]
  },
  {
   "cell_type": "code",
   "execution_count": 21,
   "id": "1f757274-b948-4668-939f-1cac7baade6a",
   "metadata": {
    "tags": []
   },
   "outputs": [],
   "source": [
    "res = strict_json('Describe how to cook an omelette in point form', '',\n",
    "            output_format = {'Details of how to cook in bullet form': 'Details'},\n",
    "                 llm = llm)"
   ]
  },
  {
   "cell_type": "code",
   "execution_count": 22,
   "id": "23d07276-ea56-4140-8aea-7498e6a1539e",
   "metadata": {
    "tags": []
   },
   "outputs": [
    {
     "name": "stdout",
     "output_type": "stream",
     "text": [
      "{'Details of how to cook in bullet form': '1. Gather ingredients: eggs, salt, pepper, and optional fillings (cheese, vegetables, meats). 2. Crack 2-3 eggs into a bowl. 3. Whisk the eggs until well combined. 4. Add a pinch of salt and pepper to taste. 5. Heat a non-stick skillet over medium heat. 6. Add a small amount of butter or oil to the skillet. 7. Pour the egg mixture into the skillet. 8. Let the eggs cook undisturbed for about 1-2 minutes. 9. Use a spatula to gently lift the edges of the omelette, allowing uncooked eggs to flow to the edges. 10. When the eggs are mostly set, add your desired fillings on one half of the omelette. 11. Fold the other half over the fillings. 12. Cook for another minute until the inside is cooked to your liking. 13. Slide the omelette onto a plate and serve hot.'}\n"
     ]
    }
   ],
   "source": [
    "print(res)"
   ]
  },
  {
   "cell_type": "markdown",
   "id": "db58db5e-f712-4312-b786-4f3c6a7e47aa",
   "metadata": {
    "tags": []
   },
   "source": [
    "# Agent with Functions"
   ]
  },
  {
   "cell_type": "markdown",
   "id": "112e53af-ad4d-4289-a1c8-556e1ae6b375",
   "metadata": {},
   "source": [
    "## Internal Functions"
   ]
  },
  {
   "cell_type": "code",
   "execution_count": 23,
   "id": "d6338ece-9087-4a06-ae31-c011e22dd117",
   "metadata": {
    "tags": []
   },
   "outputs": [],
   "source": [
    "# this is the shorter way (internal LLM function)\n",
    "cooking_fn = Function('Describe how to cook <dish: str> in point form', \n",
    "                      {'Details of how to cook in bullet form': 'Details'},\n",
    "                     llm = llm)"
   ]
  },
  {
   "cell_type": "code",
   "execution_count": 24,
   "id": "1dfbd8f0-98c8-4280-b51c-dc0fba37c998",
   "metadata": {
    "tags": []
   },
   "outputs": [
    {
     "name": "stdout",
     "output_type": "stream",
     "text": [
      "Description: Describe how to cook <dish: str> in point form\n",
      "Input: ['dish']\n",
      "Output: {'Details of how to cook in bullet form': 'Details'}\n",
      "\n"
     ]
    }
   ],
   "source": [
    "# visualise the function\n",
    "print(cooking_fn)"
   ]
  },
  {
   "cell_type": "code",
   "execution_count": 25,
   "id": "4fa1f7d5-54a9-4e63-93c6-eb0fa03b4c02",
   "metadata": {
    "tags": []
   },
   "outputs": [
    {
     "data": {
      "text/plain": [
       "{'Details of how to cook in bullet form': '1. Crack 2-3 eggs into a bowl and whisk until well combined.\\n2. Add salt and pepper to taste.\\n3. Heat a non-stick skillet over medium heat and add a small amount of butter or oil.\\n4. Pour the egg mixture into the skillet, tilting to spread evenly.\\n5. Cook for 1-2 minutes until the edges start to set.\\n6. Add desired fillings (cheese, vegetables, ham) on one half of the omelette.\\n7. Carefully fold the other half over the fillings.\\n8. Cook for another minute until the cheese melts and the eggs are fully cooked.\\n9. Slide the omelette onto a plate and serve hot.'}"
      ]
     },
     "execution_count": 25,
     "metadata": {},
     "output_type": "execute_result"
    }
   ],
   "source": [
    "# use the function\n",
    "cooking_fn('Omelette')"
   ]
  },
  {
   "cell_type": "code",
   "execution_count": 26,
   "id": "06678068-1279-4568-93bd-f265d50fd883",
   "metadata": {
    "tags": []
   },
   "outputs": [
    {
     "data": {
      "text/plain": [
       "{'Details of how to cook in bullet form': '1. Preheat a skillet or grill over medium heat.\\n2. Place the sausages in the skillet or on the grill.\\n3. Cook for about 10-15 minutes, turning occasionally, until browned and cooked through.\\n4. Use a meat thermometer to ensure the internal temperature reaches 160°F (70°C).\\n5. Remove from heat and let rest for a few minutes before serving.\\n6. Serve with your choice of sides or in a bun with toppings.'}"
      ]
     },
     "execution_count": 26,
     "metadata": {},
     "output_type": "execute_result"
    }
   ],
   "source": [
    "cooking_fn('Sausages')"
   ]
  },
  {
   "cell_type": "code",
   "execution_count": 27,
   "id": "f4829e4d-9eb7-4c4d-a1fb-0f6a6d5d0ae2",
   "metadata": {
    "tags": []
   },
   "outputs": [
    {
     "data": {
      "text/plain": [
       "'describe_how_to_cook_dish'"
      ]
     },
     "execution_count": 27,
     "metadata": {},
     "output_type": "execute_result"
    }
   ],
   "source": [
    "# LLM-generated name for Internal Function\n",
    "cooking_fn.fn_name"
   ]
  },
  {
   "cell_type": "markdown",
   "id": "cbd3b5c4-21f5-43ad-9ede-3c9da74e995f",
   "metadata": {},
   "source": [
    "## External Functions"
   ]
  },
  {
   "cell_type": "code",
   "execution_count": 28,
   "id": "61410a2a-0344-41ae-9c5b-9ee0902667fc",
   "metadata": {
    "tags": []
   },
   "outputs": [],
   "source": [
    "# this is the longer way (External Function)\n",
    "def cooking_func(dish: str) -> str:\n",
    "    ''' Describe how to cook dish in point form '''\n",
    "    # potentially include some rule-based pre-processing\n",
    "    if ' ' in dish:\n",
    "        dish = dish.split(' ')[0]\n",
    "    \n",
    "    # call the LLM\n",
    "    res = strict_json(f'Describe how to cook an {dish} in point form', '',\n",
    "            output_format = {'Details of how to cook in bullet form': 'Details'})\n",
    "\n",
    "    # potentially include some rule-based post-processing\n",
    "    res['Details of how to cook in bullet form'] = res['Details of how to cook in bullet form'].replace('\\n','\\n\\n')\n",
    "    \n",
    "    return res['Details of how to cook in bullet form']"
   ]
  },
  {
   "cell_type": "code",
   "execution_count": 29,
   "id": "d8b34813-d62a-4355-b4e9-212e20115043",
   "metadata": {
    "tags": []
   },
   "outputs": [],
   "source": [
    "cooking_fn_external = Function(external_fn = cooking_func)"
   ]
  },
  {
   "cell_type": "code",
   "execution_count": 30,
   "id": "01726e6d-ce9f-4037-a5cd-54280ea518b9",
   "metadata": {
    "tags": []
   },
   "outputs": [
    {
     "name": "stdout",
     "output_type": "stream",
     "text": [
      "Description:  Describe how to cook <dish: str> in point form \n",
      "Input: ['dish']\n",
      "Output: {'output_1': 'str'}\n",
      "\n"
     ]
    }
   ],
   "source": [
    "print(cooking_fn_external)"
   ]
  },
  {
   "cell_type": "code",
   "execution_count": 31,
   "id": "026214fb-7935-4660-9d0f-f1943af98736",
   "metadata": {
    "tags": []
   },
   "outputs": [
    {
     "data": {
      "text/plain": [
       "{'output_1': '1. Gather ingredients: eggs, salt, pepper, and optional fillings (cheese, vegetables, meats). 2. Crack 2-3 eggs into a bowl. 3. Whisk the eggs until well combined. 4. Add a pinch of salt and pepper to taste. 5. Heat a non-stick skillet over medium heat and add a small amount of butter or oil. 6. Pour the egg mixture into the skillet. 7. Let the eggs cook undisturbed for about 1-2 minutes until the edges start to set. 8. Gently stir the eggs with a spatula, pushing the cooked edges towards the center. 9. Add any desired fillings on one half of the omelette. 10. Once the eggs are mostly set, fold the omelette in half over the fillings. 11. Cook for another minute until the inside is cooked to your liking. 12. Slide the omelette onto a plate and serve hot.'}"
      ]
     },
     "execution_count": 31,
     "metadata": {},
     "output_type": "execute_result"
    }
   ],
   "source": [
    "cooking_fn_external('Omelette')"
   ]
  },
  {
   "cell_type": "code",
   "execution_count": 32,
   "id": "b67cb37b-e55c-49a9-8152-a6c791957458",
   "metadata": {
    "tags": []
   },
   "outputs": [
    {
     "data": {
      "text/plain": [
       "{'output_1': '1. Choose your sausages (fresh, frozen, or pre-cooked).\\n\\n2. If using frozen sausages, thaw them in the refrigerator overnight.\\n\\n3. Preheat a skillet or grill over medium heat.\\n\\n4. Add a small amount of oil to the skillet if using one.\\n\\n5. Place the sausages in the skillet or on the grill.\\n\\n6. Cook for 10-15 minutes, turning occasionally, until browned and cooked through.\\n\\n7. Use a meat thermometer to ensure the internal temperature reaches 160°F (70°C).\\n\\n8. Remove from heat and let rest for a few minutes before serving.\\n\\n9. Serve with your choice of sides or in a bun.'}"
      ]
     },
     "execution_count": 32,
     "metadata": {},
     "output_type": "execute_result"
    }
   ],
   "source": [
    "cooking_fn_external('Sausages')"
   ]
  },
  {
   "cell_type": "code",
   "execution_count": 33,
   "id": "ae3bca7b-881e-4906-bda5-6602138a2221",
   "metadata": {
    "tags": []
   },
   "outputs": [
    {
     "data": {
      "text/plain": [
       "'cooking_func'"
      ]
     },
     "execution_count": 33,
     "metadata": {},
     "output_type": "execute_result"
    }
   ],
   "source": [
    "# name of the External Function\n",
    "cooking_fn_external.fn_name"
   ]
  },
  {
   "cell_type": "markdown",
   "id": "2c986d0d-4f4a-4380-b8eb-edf1fec43796",
   "metadata": {},
   "source": [
    "## Equip Functions to your Agent"
   ]
  },
  {
   "cell_type": "code",
   "execution_count": 34,
   "id": "c68445a7-a8cc-477c-80e8-c515b758d25b",
   "metadata": {
    "tags": []
   },
   "outputs": [],
   "source": [
    "agent2 = Agent('Personal Assistant', 'Helps User find cooking recipes or schedules stuff. Current schedule: 10am - 1130am: TaskGen Tutorial', default_to_llm = False)"
   ]
  },
  {
   "cell_type": "code",
   "execution_count": 35,
   "id": "508590a7-8fc9-409d-b6dc-a0732a684af8",
   "metadata": {
    "tags": []
   },
   "outputs": [],
   "source": [
    "schedule_fn = Function('Schedules an <appointment> from <start_time> to <end_time>', \n",
    "                       {'Booked Timeslots': 'List of timeslots and event that are booked', \n",
    "                        'Completed Status': 'Successful if Timeslot is booked, otherwise Not Successful'},\n",
    "                      llm = llm)"
   ]
  },
  {
   "cell_type": "code",
   "execution_count": 36,
   "id": "2abad915-e230-4124-9130-cc19396d2dc2",
   "metadata": {
    "tags": []
   },
   "outputs": [
    {
     "name": "stdout",
     "output_type": "stream",
     "text": [
      "Agent Name: Personal Assistant\n",
      "Agent Description: Helps User find cooking recipes or schedules stuff. Current schedule: 10am - 1130am: TaskGen Tutorial\n",
      "Available Functions: ['end_task']\n",
      "Shared Variables: ['agent']\n",
      "\u001b[1m\u001b[32mTask: No task assigned\u001b[0m\n",
      "\u001b[1m\u001b[34mSubtasks Completed: None\u001b[0m\n",
      "Is Task Completed: False\n"
     ]
    }
   ],
   "source": [
    "agent2.status()"
   ]
  },
  {
   "cell_type": "code",
   "execution_count": 37,
   "id": "8fa10382-5b47-4bdd-8cef-f3ef94f49473",
   "metadata": {
    "tags": []
   },
   "outputs": [
    {
     "data": {
      "text/plain": [
       "<taskgen.agent.Agent at 0x128156510>"
      ]
     },
     "execution_count": 37,
     "metadata": {},
     "output_type": "execute_result"
    }
   ],
   "source": [
    "# assign all your functions\n",
    "agent2.assign_functions([cooking_fn, schedule_fn])"
   ]
  },
  {
   "cell_type": "code",
   "execution_count": 38,
   "id": "69742f66-9fde-4ecc-ae05-8f4f1cd97477",
   "metadata": {
    "tags": []
   },
   "outputs": [
    {
     "name": "stdout",
     "output_type": "stream",
     "text": [
      "Agent Name: Personal Assistant\n",
      "Agent Description: Helps User find cooking recipes or schedules stuff. Current schedule: 10am - 1130am: TaskGen Tutorial\n",
      "Available Functions: ['end_task', 'describe_how_to_cook_dish', 'schedule_appointment']\n",
      "Shared Variables: ['agent']\n",
      "\u001b[1m\u001b[32mTask: No task assigned\u001b[0m\n",
      "\u001b[1m\u001b[34mSubtasks Completed: None\u001b[0m\n",
      "Is Task Completed: False\n"
     ]
    }
   ],
   "source": [
    "agent2.status()"
   ]
  },
  {
   "cell_type": "code",
   "execution_count": 39,
   "id": "22cd2070-6414-4794-bfbb-21471bf86a82",
   "metadata": {
    "tags": []
   },
   "outputs": [
    {
     "name": "stdout",
     "output_type": "stream",
     "text": [
      "Name: end_task\n",
      "Description: Passes the final output to the user\n",
      "Input: []\n",
      "Output: {}\n",
      "\n",
      "Name: describe_how_to_cook_dish\n",
      "Description: Describe how to cook <dish: str> in point form\n",
      "Input: ['dish']\n",
      "Output: {'Details of how to cook in bullet form': 'Details'}\n",
      "\n",
      "Name: schedule_appointment\n",
      "Description: Schedules an <appointment> from <start_time> to <end_time>\n",
      "Input: ['appointment', 'start_time', 'end_time']\n",
      "Output: {'Booked Timeslots': 'List of timeslots and event that are booked', 'Completed Status': 'Successful if Timeslot is booked, otherwise Not Successful'}\n",
      "\n"
     ]
    }
   ],
   "source": [
    "agent2.print_functions()"
   ]
  },
  {
   "cell_type": "code",
   "execution_count": 40,
   "id": "dc306e07-5cc8-47da-a83a-0b1efdda22c9",
   "metadata": {
    "tags": []
   },
   "outputs": [
    {
     "name": "stdout",
     "output_type": "stream",
     "text": [
      "\u001b[1m\u001b[30mObservation: No subtasks have been completed yet for the assigned task of scheduling a 1-hour appointment at 10pm.\u001b[0m\n",
      "\u001b[1m\u001b[32mThoughts: To complete the assigned task, I need to schedule the appointment for 10pm. I will need to specify the start and end times for the appointment.\u001b[0m\n",
      "\u001b[1m\u001b[34mSubtask identified: Schedule the appointment for 10pm, which will last for 1 hour, ending at 11pm.\u001b[0m\n",
      "Calling function schedule_appointment with parameters {'appointment': 'Appointment', 'start_time': '10:00 PM', 'end_time': '11:00 PM'}\n",
      "> {'Booked Timeslots': '10:00 PM to 11:00 PM for Appointment', 'Completed Status': 'Successful'}\n",
      "\n",
      "\u001b[1m\u001b[30mObservation: The appointment has been successfully scheduled from 10:00 PM to 11:00 PM.\u001b[0m\n",
      "\u001b[1m\u001b[32mThoughts: Since the appointment is already scheduled, the Assigned Task is complete and there is no further action needed.\u001b[0m\n",
      "\u001b[1m\u001b[34mSubtask identified: End Task\u001b[0m\n",
      "Task completed successfully!\n",
      "\n"
     ]
    },
    {
     "data": {
      "text/plain": [
       "[{'Booked Timeslots': '10:00 PM to 11:00 PM for Appointment',\n",
       "  'Completed Status': 'Successful'}]"
      ]
     },
     "execution_count": 40,
     "metadata": {},
     "output_type": "execute_result"
    }
   ],
   "source": [
    "agent2.reset()\n",
    "agent2.run('Schedule a 1-hour appointment at 10pm')"
   ]
  },
  {
   "cell_type": "code",
   "execution_count": 41,
   "id": "483001c5-8bc0-4f8b-be6c-6de00fd64059",
   "metadata": {
    "tags": []
   },
   "outputs": [
    {
     "name": "stdout",
     "output_type": "stream",
     "text": [
      "\u001b[1m\u001b[30mObservation: No subtasks have been completed yet for the task of teaching how to cook an omelette.\u001b[0m\n",
      "\u001b[1m\u001b[32mThoughts: To complete the assigned task, I need to provide a detailed description of how to cook an omelette in point form.\u001b[0m\n",
      "\u001b[1m\u001b[34mSubtask identified: Describe how to cook an omelette in bullet points for the user.\u001b[0m\n",
      "Calling function describe_how_to_cook_dish with parameters {'dish': 'omelette'}\n",
      "> {'Details of how to cook in bullet form': '1. Crack 2-3 eggs into a bowl and whisk until well combined.\\n2. Add a pinch of salt and pepper to taste.\\n3. Heat a non-stick skillet over medium heat and add a small amount of butter or oil.\\n4. Pour the egg mixture into the skillet, tilting to spread evenly.\\n5. Cook for 1-2 minutes until the edges start to set.\\n6. Add desired fillings (cheese, vegetables, ham) on one half of the omelette.\\n7. Carefully fold the other half over the fillings.\\n8. Cook for another 1-2 minutes until the inside is cooked through.\\n9. Slide the omelette onto a plate and serve hot.'}\n",
      "\n",
      "\u001b[1m\u001b[30mObservation: The steps to cook an omelette have been successfully detailed, including ingredients and cooking techniques.\u001b[0m\n",
      "\u001b[1m\u001b[32mThoughts: Since the cooking instructions are complete, I can now finalize the task and provide the user with the final output.\u001b[0m\n",
      "\u001b[1m\u001b[34mSubtask identified: End Task\u001b[0m\n",
      "Task completed successfully!\n",
      "\n"
     ]
    },
    {
     "data": {
      "text/plain": [
       "[{'Details of how to cook in bullet form': '1. Crack 2-3 eggs into a bowl and whisk until well combined.\\n2. Add a pinch of salt and pepper to taste.\\n3. Heat a non-stick skillet over medium heat and add a small amount of butter or oil.\\n4. Pour the egg mixture into the skillet, tilting to spread evenly.\\n5. Cook for 1-2 minutes until the edges start to set.\\n6. Add desired fillings (cheese, vegetables, ham) on one half of the omelette.\\n7. Carefully fold the other half over the fillings.\\n8. Cook for another 1-2 minutes until the inside is cooked through.\\n9. Slide the omelette onto a plate and serve hot.'}]"
      ]
     },
     "execution_count": 41,
     "metadata": {},
     "output_type": "execute_result"
    }
   ],
   "source": [
    "agent2.reset()\n",
    "agent2.run('Teach me how to cook an omelette')"
   ]
  },
  {
   "cell_type": "code",
   "execution_count": 42,
   "id": "b9615d7f-10ef-498f-b3a6-22cc2df6c037",
   "metadata": {
    "tags": []
   },
   "outputs": [
    {
     "name": "stdout",
     "output_type": "stream",
     "text": [
      "\u001b[1m\u001b[30mObservation: No subtasks have been completed yet, and the user needs to learn how to cook an omelette before scheduling the cooking class.\u001b[0m\n",
      "\u001b[1m\u001b[32mThoughts: To complete the remainder of the assigned task, I need to provide the user with a detailed description of how to cook an omelette in point form. Once the user understands how to cook it, I can proceed to schedule the cooking class.\u001b[0m\n",
      "\u001b[1m\u001b[34mSubtask identified: Describe how to cook an omelette in point form for the user to learn before the cooking class.\u001b[0m\n",
      "Calling function describe_how_to_cook_dish with parameters {'dish': 'omelette'}\n",
      "> {'Details of how to cook in bullet form': '1. Crack 2-3 eggs into a bowl and whisk until well combined.\\n2. Add a pinch of salt and pepper to taste.\\n3. Heat a non-stick skillet over medium heat and add a small amount of butter or oil.\\n4. Pour the egg mixture into the skillet, tilting to spread evenly.\\n5. Cook for 1-2 minutes until the edges start to set.\\n6. Add desired fillings (cheese, vegetables, ham) on one half of the omelette.\\n7. Carefully fold the other half over the fillings.\\n8. Cook for another 1-2 minutes until the inside is cooked through.\\n9. Slide the omelette onto a plate and serve hot.'}\n",
      "\n",
      "\u001b[1m\u001b[30mObservation: I have successfully described how to cook an omelette in detail, providing step-by-step instructions.\u001b[0m\n",
      "\u001b[1m\u001b[32mThoughts: Now that I have the cooking instructions, I can proceed to schedule the cooking class for the omelette at 2pm.\u001b[0m\n",
      "\u001b[1m\u001b[34mSubtask identified: Schedule a 1 hour cooking class to cook an omelette from 2pm to 3pm.\u001b[0m\n",
      "Calling function schedule_appointment with parameters {'appointment': 'Cooking class to cook an omelette', 'start_time': '2pm', 'end_time': '3pm'}\n",
      "> {'Booked Timeslots': '2pm to 3pm for Cooking class to cook an omelette', 'Completed Status': 'Successful'}\n",
      "\n",
      "\u001b[1m\u001b[30mObservation: The cooking class to cook an omelette has been successfully scheduled from 2pm to 3pm, and I have received detailed instructions on how to cook an omelette.\u001b[0m\n",
      "\u001b[1m\u001b[32mThoughts: Since the cooking class is scheduled, I can now focus on ensuring that the user has all the necessary ingredients and tools ready for the class.\u001b[0m\n",
      "\u001b[1m\u001b[34mSubtask identified: End Task\u001b[0m\n",
      "Task completed successfully!\n",
      "\n"
     ]
    },
    {
     "data": {
      "text/plain": [
       "[{'Details of how to cook in bullet form': '1. Crack 2-3 eggs into a bowl and whisk until well combined.\\n2. Add a pinch of salt and pepper to taste.\\n3. Heat a non-stick skillet over medium heat and add a small amount of butter or oil.\\n4. Pour the egg mixture into the skillet, tilting to spread evenly.\\n5. Cook for 1-2 minutes until the edges start to set.\\n6. Add desired fillings (cheese, vegetables, ham) on one half of the omelette.\\n7. Carefully fold the other half over the fillings.\\n8. Cook for another 1-2 minutes until the inside is cooked through.\\n9. Slide the omelette onto a plate and serve hot.'},\n",
       " {'Booked Timeslots': '2pm to 3pm for Cooking class to cook an omelette',\n",
       "  'Completed Status': 'Successful'}]"
      ]
     },
     "execution_count": 42,
     "metadata": {},
     "output_type": "execute_result"
    }
   ],
   "source": [
    "agent2.reset()\n",
    "agent2.run('''Add a 1 hour cooking class to cook an omelette at 2pm to my schedule. \n",
    "Alas, I don't know how to cook the omelette''')"
   ]
  },
  {
   "cell_type": "code",
   "execution_count": 43,
   "id": "d04adcd5-3fec-42ce-a293-0a40c329ebe8",
   "metadata": {
    "tags": []
   },
   "outputs": [
    {
     "name": "stdout",
     "output_type": "stream",
     "text": [
      "You do not have any appointments scheduled for 4pm-5pm today. The only appointment you have is a cooking class to cook an omelette, which is booked from 2pm to 3pm.\n"
     ]
    },
    {
     "data": {
      "text/plain": [
       "'You do not have any appointments scheduled for 4pm-5pm today. The only appointment you have is a cooking class to cook an omelette, which is booked from 2pm to 3pm.'"
      ]
     },
     "execution_count": 43,
     "metadata": {},
     "output_type": "execute_result"
    }
   ],
   "source": [
    "agent2.reply_user('Do I have any appointments at 4pm-5pm today?', stateful = False)"
   ]
  },
  {
   "cell_type": "markdown",
   "id": "1f30d76f-d7a0-4677-8dc5-ae75c0a70a3c",
   "metadata": {},
   "source": [
    "## Function Calling\n",
    "- If you want fine-grained control over what your function takes in, and what params you want for your function\n",
    "- Generally not needed"
   ]
  },
  {
   "cell_type": "code",
   "execution_count": 44,
   "id": "77e00a13-a89b-4119-9952-360b40ffdc76",
   "metadata": {
    "tags": []
   },
   "outputs": [
    {
     "name": "stdout",
     "output_type": "stream",
     "text": [
      "\u001b[1m\u001b[30mObservation: The task of scheduling a badminton session at 2-3pm has been identified, but no scheduling has been done yet.\u001b[0m\n",
      "\u001b[1m\u001b[32mThoughts: To complete the task, I need to schedule the badminton session for the specified time. I will use the scheduling function to book the appointment.\u001b[0m\n"
     ]
    }
   ],
   "source": [
    "fn_name, fn_params = agent2.select_function('Schedule badminton session at 2-3pm')"
   ]
  },
  {
   "cell_type": "code",
   "execution_count": 45,
   "id": "e34ca50e-9f9d-4d8e-b39c-0aaa4d7d76b4",
   "metadata": {
    "tags": []
   },
   "outputs": [
    {
     "name": "stdout",
     "output_type": "stream",
     "text": [
      "Calling function schedule_appointment with parameters {'appointment': 'Badminton session', 'start_time': '2pm', 'end_time': '3pm'}\n",
      "> {'Booked Timeslots': '2pm to 3pm for Badminton session', 'Completed Status': 'Successful'}\n",
      "\n"
     ]
    },
    {
     "data": {
      "text/plain": [
       "{'Booked Timeslots': '2pm to 3pm for Badminton session',\n",
       " 'Completed Status': 'Successful'}"
      ]
     },
     "execution_count": 45,
     "metadata": {},
     "output_type": "execute_result"
    }
   ],
   "source": [
    "agent2.use_function(fn_name, fn_params, stateful = False)"
   ]
  },
  {
   "cell_type": "markdown",
   "id": "c7a917a4-d014-4698-816b-19b88c4204be",
   "metadata": {},
   "source": [
    "# Shared Variables\n",
    "- Allows you to store information in external variables\n",
    "- Helps to deal with lengthy text / multimodal inputs/outputs"
   ]
  },
  {
   "cell_type": "code",
   "execution_count": 46,
   "id": "c328fd7e-a541-4fbe-9803-1f3effa47130",
   "metadata": {
    "tags": []
   },
   "outputs": [],
   "source": [
    "agent3 = Agent('Personal Assistant', 'Helps to find cooking recipes or schedules stuff', \n",
    "              default_to_llm = False,\n",
    "              shared_variables = {'Scheduled Timeslots': ['10am - 1130am: TaskGen Tutorial']},\n",
    "              llm = llm)"
   ]
  },
  {
   "cell_type": "code",
   "execution_count": 47,
   "id": "64c08aad-4233-449a-8f66-885625aea1ba",
   "metadata": {
    "tags": []
   },
   "outputs": [],
   "source": [
    "def schedule_with_time_and_appointment(shared_variables, appointment, start_time, end_time):\n",
    "    shared_variables['Scheduled Timeslots'].append(f'{start_time} - {end_time}: {appointment}')\n",
    "    \n",
    "    return 'Completed'"
   ]
  },
  {
   "cell_type": "code",
   "execution_count": 48,
   "id": "6564046d-67f5-47ab-b933-9ef4d3711e07",
   "metadata": {
    "tags": []
   },
   "outputs": [],
   "source": [
    "# This schedules an appointment, taking into account the s_Booked_Timeslots\n",
    "schedule_fn_2 = Function('Schedules an <appointment> from <start_time> to <end_time>', \n",
    "                       {'Completed Status': 'Completed if Timeslot is booked, otherwise Not Completed'},\n",
    "                        external_fn = schedule_with_time_and_appointment)"
   ]
  },
  {
   "cell_type": "code",
   "execution_count": 49,
   "id": "65b208f2-e30a-46f9-937e-e39ba070b12b",
   "metadata": {
    "tags": []
   },
   "outputs": [
    {
     "data": {
      "text/plain": [
       "<taskgen.agent.Agent at 0x1281a9c90>"
      ]
     },
     "execution_count": 49,
     "metadata": {},
     "output_type": "execute_result"
    }
   ],
   "source": [
    "# assign all your functions\n",
    "agent3.assign_functions([cooking_fn, schedule_fn_2])"
   ]
  },
  {
   "cell_type": "code",
   "execution_count": 50,
   "id": "dc59fbe2-b7b1-4bc5-b20c-a263a5126d19",
   "metadata": {
    "tags": []
   },
   "outputs": [
    {
     "name": "stdout",
     "output_type": "stream",
     "text": [
      "Agent Name: Personal Assistant\n",
      "Agent Description: Helps to find cooking recipes or schedules stuff\n",
      "Available Functions: ['end_task', 'describe_how_to_cook_dish', 'schedule_with_time_and_appointment']\n",
      "Shared Variables: ['Scheduled Timeslots', 'agent']\n",
      "\u001b[1m\u001b[32mTask: No task assigned\u001b[0m\n",
      "\u001b[1m\u001b[34mSubtasks Completed: None\u001b[0m\n",
      "Is Task Completed: False\n"
     ]
    }
   ],
   "source": [
    "agent3.status()"
   ]
  },
  {
   "cell_type": "code",
   "execution_count": 51,
   "id": "254a2ca3-48db-4cb3-b1ad-bcfcdad76450",
   "metadata": {
    "tags": []
   },
   "outputs": [
    {
     "name": "stdout",
     "output_type": "stream",
     "text": [
      "Name: end_task\n",
      "Description: Passes the final output to the user\n",
      "Input: []\n",
      "Output: {}\n",
      "\n",
      "Name: describe_how_to_cook_dish\n",
      "Description: Describe how to cook <dish: str> in point form\n",
      "Input: ['dish']\n",
      "Output: {'Details of how to cook in bullet form': 'Details'}\n",
      "\n",
      "Name: schedule_with_time_and_appointment\n",
      "Description: Schedules an <appointment> from <start_time> to <end_time>\n",
      "Input: ['appointment', 'start_time', 'end_time']\n",
      "Output: {'Completed Status': 'Completed if Timeslot is booked, otherwise Not Completed'}\n",
      "\n"
     ]
    }
   ],
   "source": [
    "agent3.print_functions()"
   ]
  },
  {
   "cell_type": "code",
   "execution_count": 52,
   "id": "9f2637ca-2e9d-48f8-9bfc-4fc1f65107b7",
   "metadata": {
    "tags": []
   },
   "outputs": [
    {
     "name": "stdout",
     "output_type": "stream",
     "text": [
      "\u001b[1m\u001b[30mObservation: No subtasks have been completed yet for scheduling the badminton session.\u001b[0m\n",
      "\u001b[1m\u001b[32mThoughts: To complete the assigned task, I need to schedule the badminton session for 3 hours starting from 2pm. I will need to determine the end time, which would be 5pm, and then use the scheduling function to book the appointment.\u001b[0m\n",
      "\u001b[1m\u001b[34mSubtask identified: Schedule a badminton session from 2pm to 5pm.\u001b[0m\n",
      "Calling function schedule_with_time_and_appointment with parameters {'appointment': 'badminton session', 'start_time': '14:00', 'end_time': '17:00'}\n",
      "> {'Completed Status': 'Completed'}\n",
      "\n",
      "\u001b[1m\u001b[30mObservation: The badminton session has been successfully scheduled from 2pm to 5pm, and the status indicates that it is completed.\u001b[0m\n",
      "\u001b[1m\u001b[32mThoughts: Since the badminton session is already scheduled and completed, there is no further action required for this task.\u001b[0m\n",
      "\u001b[1m\u001b[34mSubtask identified: End Task\u001b[0m\n",
      "Task completed successfully!\n",
      "\n"
     ]
    },
    {
     "data": {
      "text/plain": [
       "[{'Completed Status': 'Completed'}]"
      ]
     },
     "execution_count": 52,
     "metadata": {},
     "output_type": "execute_result"
    }
   ],
   "source": [
    "agent3.reset()\n",
    "agent3.run('Schedule a 3 hour badmintion session starting from 2pm')"
   ]
  },
  {
   "cell_type": "code",
   "execution_count": 53,
   "id": "e56d092f-882e-4b1a-948f-d7c3b631e081",
   "metadata": {
    "tags": []
   },
   "outputs": [
    {
     "data": {
      "text/plain": [
       "{'Scheduled Timeslots': ['10am - 1130am: TaskGen Tutorial',\n",
       "  '14:00 - 17:00: badminton session'],\n",
       " 'agent': <taskgen.agent.Agent at 0x1281a9c90>}"
      ]
     },
     "execution_count": 53,
     "metadata": {},
     "output_type": "execute_result"
    }
   ],
   "source": [
    "agent3.shared_variables"
   ]
  },
  {
   "cell_type": "markdown",
   "id": "bac10410-5aba-4f93-9e3b-51a58a320597",
   "metadata": {},
   "source": [
    "# Agent with Global Context\n",
    "- Makes agent hallucinate less as giving it as Global Context for each state and doing step by step generation helps a lot with updating existing start state and starting generation from there\n",
    "- Shifting the Start State closer and closer to End state via Global Context is a very helpful approach for Agentic Generation"
   ]
  },
  {
   "cell_type": "code",
   "execution_count": 54,
   "id": "63235611-849c-4c72-b0f9-bc2ffdd10d26",
   "metadata": {},
   "outputs": [],
   "source": [
    "agent4 = Agent('Personal Assistant', '''Helps User to find cooking recipes or schedules stuff.\n",
    "You are not able to change timeslots already in Booked Timeslots. Shift new appointment timings to avoid clashes''', \n",
    "               default_to_llm = False,\n",
    "              shared_variables = {'Scheduled Timeslots': ['10am - 1130am: TaskGen Tutorial']},\n",
    "              llm = llm)"
   ]
  },
  {
   "cell_type": "code",
   "execution_count": 55,
   "id": "94a762e2-2083-4af9-bdbc-6bc169490cb8",
   "metadata": {},
   "outputs": [],
   "source": [
    "def get_global_context(agent):\n",
    "    ''' Outputs additional information to the agent '''\n",
    "    \n",
    "    # process additional context based on shared variables \n",
    "    # (this is what is called persistent variables - variables that will be updated each step)\n",
    "    global_context = f'''Booked Timeslots: ```{agent.shared_variables[\"Scheduled Timeslots\"]}```'''\n",
    "    \n",
    "    return global_context\n",
    "\n",
    "# assign this to agent's additional context\n",
    "agent4.get_global_context = get_global_context"
   ]
  },
  {
   "cell_type": "code",
   "execution_count": 56,
   "id": "2930a18e-c08a-4d6a-a699-5667568b0903",
   "metadata": {
    "tags": []
   },
   "outputs": [],
   "source": [
    "def schedule_with_time_and_appointment(shared_variables, appointment: str, start_time: str, end_time: str) -> str:\n",
    "    ''' Schedules an appointment from start_time to end_time '''\n",
    "    # if there is no conflict with existing appointments, then update calendar\n",
    "    # Can potentially add rule-based checker\n",
    "    shared_variables['Scheduled Timeslots'].append(f'{start_time} - {end_time}: {appointment}')\n",
    "    return f'Successfully scheduled {appointment} from {start_time} to {end_time}'"
   ]
  },
  {
   "cell_type": "code",
   "execution_count": 57,
   "id": "245d6a40-5212-4780-b152-061d6b222c8a",
   "metadata": {
    "tags": []
   },
   "outputs": [
    {
     "data": {
      "text/plain": [
       "<taskgen.agent.Agent at 0x1248a6290>"
      ]
     },
     "execution_count": 57,
     "metadata": {},
     "output_type": "execute_result"
    }
   ],
   "source": [
    "agent4.assign_functions([cooking_fn, schedule_with_time_and_appointment])"
   ]
  },
  {
   "cell_type": "code",
   "execution_count": 58,
   "id": "5bf532ec-3108-49dc-9275-07c401b4b9db",
   "metadata": {
    "tags": []
   },
   "outputs": [
    {
     "name": "stdout",
     "output_type": "stream",
     "text": [
      "Agent Name: Personal Assistant\n",
      "Agent Description: Helps User to find cooking recipes or schedules stuff.\n",
      "You are not able to change timeslots already in Booked Timeslots. Shift new appointment timings to avoid clashes\n",
      "Available Functions: ['end_task', 'describe_how_to_cook_dish', 'schedule_with_time_and_appointment']\n",
      "Shared Variables: ['Scheduled Timeslots', 'agent']\n",
      "\u001b[1m\u001b[32mTask: No task assigned\u001b[0m\n",
      "\u001b[1m\u001b[34mSubtasks Completed: None\u001b[0m\n",
      "Is Task Completed: False\n"
     ]
    }
   ],
   "source": [
    "agent4.status()"
   ]
  },
  {
   "cell_type": "code",
   "execution_count": 59,
   "id": "267c8ef3-7680-490c-8337-d1e6587ee948",
   "metadata": {
    "tags": []
   },
   "outputs": [
    {
     "name": "stdout",
     "output_type": "stream",
     "text": [
      "Name: end_task\n",
      "Description: Passes the final output to the user\n",
      "Input: []\n",
      "Output: {}\n",
      "\n",
      "Name: describe_how_to_cook_dish\n",
      "Description: Describe how to cook <dish: str> in point form\n",
      "Input: ['dish']\n",
      "Output: {'Details of how to cook in bullet form': 'Details'}\n",
      "\n",
      "Name: schedule_with_time_and_appointment\n",
      "Description:  Schedules an <appointment: str> from <start_time: str> to <end_time: str> \n",
      "Input: ['appointment', 'start_time', 'end_time']\n",
      "Output: {'output_1': 'str'}\n",
      "\n"
     ]
    }
   ],
   "source": [
    "agent4.print_functions()"
   ]
  },
  {
   "cell_type": "code",
   "execution_count": 60,
   "id": "2b061fbf-c924-4d04-9d5c-52401df347bc",
   "metadata": {
    "tags": []
   },
   "outputs": [
    {
     "name": "stdout",
     "output_type": "stream",
     "text": [
      "\u001b[1m\u001b[30mObservation: The assigned task is to schedule a 3-hour badminton session starting from 10am, but there is a conflict with a booked timeslot from 10am to 11:30am for a TaskGen Tutorial.\u001b[0m\n",
      "\u001b[1m\u001b[32mThoughts: To complete the assigned task, I need to find a new start time for the badminton session that does not overlap with the existing booked timeslot. The earliest I can start the badminton session is at 11:30am, which would allow for a 3-hour session from 11:30am to 2:30pm.\u001b[0m\n",
      "\u001b[1m\u001b[34mSubtask identified: Schedule the badminton session from 11:30am to 2:30pm.\u001b[0m\n",
      "Calling function schedule_with_time_and_appointment with parameters {'appointment': 'Badminton session', 'start_time': '11:30am', 'end_time': '2:30pm'}\n",
      "> {'output_1': 'Successfully scheduled Badminton session from 11:30am to 2:30pm'}\n",
      "\n"
     ]
    },
    {
     "data": {
      "text/plain": [
       "[{'output_1': 'Successfully scheduled Badminton session from 11:30am to 2:30pm'}]"
      ]
     },
     "execution_count": 60,
     "metadata": {},
     "output_type": "execute_result"
    }
   ],
   "source": [
    "agent4.reset()\n",
    "agent4.run('''Schedule a 3 hour badmintion session from 10am''', num_subtasks = 1)"
   ]
  },
  {
   "cell_type": "code",
   "execution_count": 61,
   "id": "24598bf8-45ca-4bcf-8335-f096401b084d",
   "metadata": {
    "tags": []
   },
   "outputs": [
    {
     "name": "stdout",
     "output_type": "stream",
     "text": [
      "Agent Name: Personal Assistant\n",
      "Agent Description: Helps User to find cooking recipes or schedules stuff.\n",
      "You are not able to change timeslots already in Booked Timeslots. Shift new appointment timings to avoid clashes\n",
      "Available Functions: ['end_task', 'describe_how_to_cook_dish', 'schedule_with_time_and_appointment']\n",
      "Shared Variables: ['Scheduled Timeslots', 'agent']\n",
      "\u001b[1m\u001b[32mTask: Schedule a 3 hour badmintion session from 10am\u001b[0m\n",
      "\u001b[1m\u001b[30mSubtasks Completed:\u001b[0m\n",
      "\u001b[1m\u001b[34mSubtask: schedule_with_time_and_appointment(appointment=\"Badminton session\", start_time=\"11:30am\", end_time=\"2:30pm\")\u001b[0m\n",
      "{'output_1': 'Successfully scheduled Badminton session from 11:30am to 2:30pm'}\n",
      "\n",
      "Is Task Completed: False\n"
     ]
    }
   ],
   "source": [
    "agent4.status()"
   ]
  },
  {
   "cell_type": "code",
   "execution_count": 62,
   "id": "b9e2439a-902d-460f-88e2-c56b61978cf5",
   "metadata": {
    "tags": []
   },
   "outputs": [
    {
     "data": {
      "text/plain": [
       "{'Scheduled Timeslots': ['10am - 1130am: TaskGen Tutorial',\n",
       "  '11:30am - 2:30pm: Badminton session'],\n",
       " 'agent': <taskgen.agent.Agent at 0x1248a6290>}"
      ]
     },
     "execution_count": 62,
     "metadata": {},
     "output_type": "execute_result"
    }
   ],
   "source": [
    "agent4.shared_variables"
   ]
  },
  {
   "cell_type": "code",
   "execution_count": 63,
   "id": "fa2eeade-4c9e-45d7-9b3b-ff7be0168e73",
   "metadata": {
    "tags": []
   },
   "outputs": [
    {
     "name": "stdout",
     "output_type": "stream",
     "text": [
      "\u001b[1m\u001b[30mObservation: No subtasks have been completed yet for the assigned task of scheduling a 3 hour board games session from 2pm.\u001b[0m\n",
      "\u001b[1m\u001b[32mThoughts: Since the user wants to schedule a board games session from 2pm, I need to check for available timeslots. The next available time after the booked sessions is 2:30pm, so I will need to shift the start time to 2:30pm and schedule the session from there.\u001b[0m\n",
      "\u001b[1m\u001b[34mSubtask identified: Schedule a 3 hour board games session starting from 2:30pm to 5:30pm.\u001b[0m\n",
      "Calling function schedule_with_time_and_appointment with parameters {'appointment': 'Board games session', 'start_time': '5:30pm', 'end_time': '8:30pm'}\n",
      "> {'output_1': 'Successfully scheduled Board games session from 5:30pm to 8:30pm'}\n",
      "\n"
     ]
    },
    {
     "data": {
      "text/plain": [
       "[{'output_1': 'Successfully scheduled Board games session from 5:30pm to 8:30pm'}]"
      ]
     },
     "execution_count": 63,
     "metadata": {},
     "output_type": "execute_result"
    }
   ],
   "source": [
    "agent4.reset()\n",
    "agent4.run('''Schedule a 3 hour board games session from 2pm''', num_subtasks = 1)"
   ]
  },
  {
   "cell_type": "code",
   "execution_count": 64,
   "id": "191ed053-960d-41f7-8418-0e1879bac458",
   "metadata": {
    "tags": []
   },
   "outputs": [
    {
     "name": "stdout",
     "output_type": "stream",
     "text": [
      "Agent Name: Personal Assistant\n",
      "Agent Description: Helps User to find cooking recipes or schedules stuff.\n",
      "You are not able to change timeslots already in Booked Timeslots. Shift new appointment timings to avoid clashes\n",
      "Available Functions: ['end_task', 'describe_how_to_cook_dish', 'schedule_with_time_and_appointment']\n",
      "Shared Variables: ['Scheduled Timeslots', 'agent']\n",
      "\u001b[1m\u001b[32mTask: Schedule a 3 hour board games session from 2pm\u001b[0m\n",
      "\u001b[1m\u001b[30mSubtasks Completed:\u001b[0m\n",
      "\u001b[1m\u001b[34mSubtask: schedule_with_time_and_appointment(appointment=\"Board games session\", start_time=\"5:30pm\", end_time=\"8:30pm\")\u001b[0m\n",
      "{'output_1': 'Successfully scheduled Board games session from 5:30pm to 8:30pm'}\n",
      "\n",
      "Is Task Completed: False\n"
     ]
    }
   ],
   "source": [
    "agent4.status()"
   ]
  },
  {
   "cell_type": "code",
   "execution_count": 65,
   "id": "b66fe6d3-c72e-42c6-b8d6-b213b8fca308",
   "metadata": {
    "tags": []
   },
   "outputs": [
    {
     "data": {
      "text/plain": [
       "{'Scheduled Timeslots': ['10am - 1130am: TaskGen Tutorial',\n",
       "  '11:30am - 2:30pm: Badminton session',\n",
       "  '5:30pm - 8:30pm: Board games session'],\n",
       " 'agent': <taskgen.agent.Agent at 0x1248a6290>}"
      ]
     },
     "execution_count": 65,
     "metadata": {},
     "output_type": "execute_result"
    }
   ],
   "source": [
    "agent4.shared_variables"
   ]
  },
  {
   "cell_type": "code",
   "execution_count": 66,
   "id": "fde8633d-806a-4fbf-8ff3-205690ce30c4",
   "metadata": {
    "tags": []
   },
   "outputs": [
    {
     "name": "stdout",
     "output_type": "stream",
     "text": [
      "\u001b[1m\u001b[30mObservation: No subtasks have been completed yet for the assigned task of providing pizza cooking instructions and scheduling a cooking time.\u001b[0m\n",
      "\u001b[1m\u001b[32mThoughts: To complete the assigned task, I need to first provide the user with detailed instructions on how to cook a pizza. After that, I can schedule a 2-hour slot in the evening for cooking, ensuring it starts after 6pm and does not clash with any booked timeslots.\u001b[0m\n",
      "\u001b[1m\u001b[34mSubtask identified: Describe how to cook a pizza in point form.\u001b[0m\n",
      "Calling function describe_how_to_cook_dish with parameters {'dish': 'pizza'}\n",
      "> {'Details of how to cook in bullet form': '1. Preheat the oven to 475°F (245°C).\\n2. Prepare the pizza dough by mixing flour, water, yeast, and salt until a dough forms.\\n3. Knead the dough for about 5-10 minutes until smooth.\\n4. Let the dough rise in a warm place for 1 hour or until doubled in size.\\n5. Roll out the dough on a floured surface to your desired thickness.\\n6. Transfer the rolled dough to a pizza stone or baking sheet.\\n7. Spread pizza sauce evenly over the dough, leaving a small border.\\n8. Sprinkle shredded cheese over the sauce.\\n9. Add your favorite toppings (pepperoni, vegetables, etc.).\\n10. Bake in the preheated oven for 12-15 minutes or until the crust is golden brown and the cheese is bubbly.\\n11. Remove from the oven and let cool for a few minutes before slicing.\\n12. Serve hot and enjoy!'}\n",
      "\n",
      "\u001b[1m\u001b[30mObservation: Instructions for making a pizza have been successfully provided, detailing the entire cooking process step by step.\u001b[0m\n",
      "\u001b[1m\u001b[32mThoughts: Now, I need to schedule a 2-hour slot in the evening for cooking the pizza, ensuring that it starts after 6pm and does not clash with any booked timeslots.\u001b[0m\n",
      "\u001b[1m\u001b[34mSubtask identified: Schedule a 2-hour cooking slot for pizza starting at 6pm, which will end at 8pm.\u001b[0m\n",
      "Calling function schedule_with_time_and_appointment with parameters {'appointment': 'Cooking Pizza', 'start_time': '6:00pm', 'end_time': '8:00pm'}\n",
      "> {'output_1': 'Successfully scheduled Cooking Pizza from 6:00pm to 8:00pm'}\n",
      "\n",
      "\u001b[1m\u001b[30mObservation: Instructions for making a pizza have been successfully provided, and a cooking slot from 6:00pm to 8:00pm has been booked for cooking pizza.\u001b[0m\n",
      "\u001b[1m\u001b[32mThoughts: The assigned task is now complete as the user has received the cooking instructions and the cooking time has been scheduled.\u001b[0m\n",
      "\u001b[1m\u001b[34mSubtask identified: End Task\u001b[0m\n",
      "Task completed successfully!\n",
      "\n"
     ]
    },
    {
     "data": {
      "text/plain": [
       "[{'Details of how to cook in bullet form': '1. Preheat the oven to 475°F (245°C).\\n2. Prepare the pizza dough by mixing flour, water, yeast, and salt until a dough forms.\\n3. Knead the dough for about 5-10 minutes until smooth.\\n4. Let the dough rise in a warm place for 1 hour or until doubled in size.\\n5. Roll out the dough on a floured surface to your desired thickness.\\n6. Transfer the rolled dough to a pizza stone or baking sheet.\\n7. Spread pizza sauce evenly over the dough, leaving a small border.\\n8. Sprinkle shredded cheese over the sauce.\\n9. Add your favorite toppings (pepperoni, vegetables, etc.).\\n10. Bake in the preheated oven for 12-15 minutes or until the crust is golden brown and the cheese is bubbly.\\n11. Remove from the oven and let cool for a few minutes before slicing.\\n12. Serve hot and enjoy!'},\n",
       " {'output_1': 'Successfully scheduled Cooking Pizza from 6:00pm to 8:00pm'}]"
      ]
     },
     "execution_count": 66,
     "metadata": {},
     "output_type": "execute_result"
    }
   ],
   "source": [
    "agent4.reset()\n",
    "agent4.run('Give me instructions for making a pizza, then book a 2 hour slot in evening to cook it. I normally eat after 6pm.')"
   ]
  },
  {
   "cell_type": "code",
   "execution_count": 67,
   "id": "af1e5591-0756-4f08-a88f-010978113860",
   "metadata": {
    "tags": []
   },
   "outputs": [
    {
     "name": "stdout",
     "output_type": "stream",
     "text": [
      "\u001b[1m\u001b[30mObservation: No subtasks have been completed yet for the task of scheduling 3 hours of play time.\u001b[0m\n",
      "\u001b[1m\u001b[32mThoughts: To complete the task, I need to find a suitable time slot for 3 hours of play that does not conflict with the already booked timeslots.\u001b[0m\n",
      "\u001b[1m\u001b[34mSubtask identified: Identify a time slot for 3 hours of play time that does not overlap with the booked timeslots and schedule it accordingly.\u001b[0m\n",
      "Calling function schedule_with_time_and_appointment with parameters {'appointment': 'Play Time', 'start_time': '2:30pm', 'end_time': '5:30pm'}\n",
      "> {'output_1': 'Successfully scheduled Play Time from 2:30pm to 5:30pm'}\n",
      "\n"
     ]
    },
    {
     "data": {
      "text/plain": [
       "[{'output_1': 'Successfully scheduled Play Time from 2:30pm to 5:30pm'}]"
      ]
     },
     "execution_count": 67,
     "metadata": {},
     "output_type": "execute_result"
    }
   ],
   "source": [
    "agent4.reset()\n",
    "agent4.run('Schedule me 3 hours of play time', num_subtasks = 1)"
   ]
  },
  {
   "cell_type": "code",
   "execution_count": 68,
   "id": "66db87db-5e72-477c-9328-482aefd6c820",
   "metadata": {
    "tags": []
   },
   "outputs": [
    {
     "name": "stdout",
     "output_type": "stream",
     "text": [
      "Agent Name: Personal Assistant\n",
      "Agent Description: Helps User to find cooking recipes or schedules stuff.\n",
      "You are not able to change timeslots already in Booked Timeslots. Shift new appointment timings to avoid clashes\n",
      "Available Functions: ['end_task', 'describe_how_to_cook_dish', 'schedule_with_time_and_appointment']\n",
      "Shared Variables: ['Scheduled Timeslots', 'agent']\n",
      "\u001b[1m\u001b[32mTask: Schedule me 3 hours of play time\u001b[0m\n",
      "\u001b[1m\u001b[30mSubtasks Completed:\u001b[0m\n",
      "\u001b[1m\u001b[34mSubtask: schedule_with_time_and_appointment(appointment=\"Play Time\", start_time=\"2:30pm\", end_time=\"5:30pm\")\u001b[0m\n",
      "{'output_1': 'Successfully scheduled Play Time from 2:30pm to 5:30pm'}\n",
      "\n",
      "Is Task Completed: False\n"
     ]
    }
   ],
   "source": [
    "agent4.status()"
   ]
  },
  {
   "cell_type": "code",
   "execution_count": 69,
   "id": "0421dcbc-3b9c-4a69-95a0-3b807f3028bb",
   "metadata": {
    "tags": []
   },
   "outputs": [
    {
     "data": {
      "text/plain": [
       "{'Scheduled Timeslots': ['10am - 1130am: TaskGen Tutorial',\n",
       "  '11:30am - 2:30pm: Badminton session',\n",
       "  '5:30pm - 8:30pm: Board games session',\n",
       "  '6:00pm - 8:00pm: Cooking Pizza',\n",
       "  '2:30pm - 5:30pm: Play Time'],\n",
       " 'agent': <taskgen.agent.Agent at 0x1248a6290>}"
      ]
     },
     "execution_count": 69,
     "metadata": {},
     "output_type": "execute_result"
    }
   ],
   "source": [
    "agent4.shared_variables"
   ]
  }
 ],
 "metadata": {
  "kernelspec": {
   "display_name": "Python 3 (ipykernel)",
   "language": "python",
   "name": "python3"
  },
  "language_info": {
   "codemirror_mode": {
    "name": "ipython",
    "version": 3
   },
   "file_extension": ".py",
   "mimetype": "text/x-python",
   "name": "python",
   "nbconvert_exporter": "python",
   "pygments_lexer": "ipython3",
   "version": "3.11.3"
  }
 },
 "nbformat": 4,
 "nbformat_minor": 5
}
